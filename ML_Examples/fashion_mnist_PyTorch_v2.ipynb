{
 "cells": [
  {
   "cell_type": "markdown",
   "metadata": {
    "colab_type": "text",
    "id": "view-in-github"
   },
   "source": [
    "<a href=\"https://colab.research.google.com/github/ProfessorDong/Deep-Learning-Course-Examples/blob/master/ML_Examples/fashion_mnist.ipynb\" target=\"_parent\"><img src=\"https://colab.research.google.com/assets/colab-badge.svg\" alt=\"Open In Colab\"/></a>"
   ]
  },
  {
   "cell_type": "markdown",
   "metadata": {
    "id": "8TlEhsfJ9rti"
   },
   "source": [
    "# Image Classification using Fashion-MNIST image data"
   ]
  },
  {
   "cell_type": "code",
   "execution_count": 1,
   "metadata": {
    "colab": {
     "base_uri": "https://localhost:8080/"
    },
    "id": "usCuJHFQqqFz",
    "outputId": "0cff83c2-cce4-4329-8346-70c2b12f4748"
   },
   "outputs": [
    {
     "name": "stdout",
     "output_type": "stream",
     "text": [
      "2.1.2\n"
     ]
    }
   ],
   "source": [
    "import torch\n",
    "print(torch.__version__)\n",
    "\n",
    "from torch import nn\n",
    "from torch.utils.data import DataLoader\n",
    "from torchvision import datasets\n",
    "from torchvision.transforms import ToTensor\n",
    "\n",
    "\n",
    "import numpy as np\n",
    "import matplotlib.pyplot as plt"
   ]
  },
  {
   "cell_type": "markdown",
   "metadata": {
    "id": "dtQfJNudsBZI"
   },
   "source": [
    "## Load image data\n",
    "\n",
    "Fashion-MNIST is a dataset of Zalando's article images consisting of a training set of 60,000 examples and a test set of 10,000 examples. Each example is a 28x28 grayscale image, associated with a label from 10 classes.\n",
    "\n",
    "https://www.tensorflow.org/datasets/catalog/fashion_mnist\n",
    "\n",
    "https://github.com/zalandoresearch/fashion-mnist"
   ]
  },
  {
   "cell_type": "code",
   "execution_count": 2,
   "metadata": {
    "colab": {
     "base_uri": "https://localhost:8080/"
    },
    "id": "LHrt3jJRrbM5",
    "outputId": "0bffc718-6d13-40fb-8479-04d18adf779d"
   },
   "outputs": [],
   "source": [
    "# Download train data from open datasets.\n",
    "train_data= datasets.FashionMNIST(root='data', train=True, download=True, transform=ToTensor(),)\n",
    "\n",
    "# Download test data from open datasets.\n",
    "test_data=datasets.FashionMNIST(root='data', train=False, download=True, transform=ToTensor(),)\n",
    "\n",
    "# Create data loaders.\n",
    "train_dataloader=DataLoader(train_data, batch_size=64)\n",
    "test_dataloader=DataLoader(test_data, batch_size=64)"
   ]
  },
  {
   "cell_type": "code",
   "execution_count": 3,
   "metadata": {},
   "outputs": [
    {
     "data": {
      "text/plain": [
       "torch.Size([60000, 28, 28])"
      ]
     },
     "execution_count": 3,
     "metadata": {},
     "output_type": "execute_result"
    }
   ],
   "source": [
    "train_dataloader.dataset.data.shape"
   ]
  },
  {
   "cell_type": "markdown",
   "metadata": {
    "id": "Bhv14ObBswiA"
   },
   "source": [
    "Pixel values are between 0 and 255, 0 being black and 255 white (grey-scale image)."
   ]
  },
  {
   "cell_type": "code",
   "execution_count": 4,
   "metadata": {},
   "outputs": [
    {
     "name": "stdout",
     "output_type": "stream",
     "text": [
      "torch.Size([60000, 28, 28])\n",
      "torch.Size([10000, 28, 28])\n",
      "torch.Size([60000])\n",
      "torch.Size([10000])\n",
      "torch.Size([60000, 28, 28])\n",
      "torch.Size([60000, 28, 28])\n"
     ]
    }
   ],
   "source": [
    "print(train_data.data.shape)\n",
    "print(test_data.data.shape)\n",
    "print(train_data.targets.shape)\n",
    "print(test_data.targets.shape)\n",
    "\n",
    "# Create training and test data from the datasets\n",
    "train_images = train_dataloader.dataset.data\n",
    "train_labels = train_dataloader.dataset.targets\n",
    "\n",
    "test_images = train_dataloader.dataset.data\n",
    "test_labels = train_dataloader.dataset.targets\n",
    "\n",
    "print(train_images.shape)\n",
    "print(test_images.shape)\n",
    "# print(train_images[0,:])"
   ]
  },
  {
   "cell_type": "markdown",
   "metadata": {
    "id": "kXHL34qutEww"
   },
   "source": [
    "Labels are integers from 0 to 9.  Each represents a specific article of clothing."
   ]
  },
  {
   "cell_type": "code",
   "execution_count": 5,
   "metadata": {},
   "outputs": [
    {
     "data": {
      "text/plain": [
       "tensor([9, 0, 0, 3, 0, 2, 7, 2, 5, 5, 0, 9])"
      ]
     },
     "execution_count": 5,
     "metadata": {},
     "output_type": "execute_result"
    }
   ],
   "source": [
    "train_labels[:12] # First 12 training labels"
   ]
  },
  {
   "cell_type": "code",
   "execution_count": 6,
   "metadata": {},
   "outputs": [
    {
     "name": "stdout",
     "output_type": "stream",
     "text": [
      "['T-shirt/top', 'Trouser', 'Pullover', 'Dress', 'Coat', 'Sandal', 'Shirt', 'Sneaker', 'Bag', 'Ankle boot']\n"
     ]
    }
   ],
   "source": [
    "print(train_data.classes)\n",
    "class_names = train_data.classes"
   ]
  },
  {
   "cell_type": "code",
   "execution_count": 7,
   "metadata": {},
   "outputs": [
    {
     "data": {
      "image/png": "[encoded data removed]",
      "text/plain": [
       "<Figure size 640x480 with 2 Axes>"
      ]
     },
     "metadata": {},
     "output_type": "display_data"
    }
   ],
   "source": [
    "plt.figure()\n",
    "plt.imshow(train_images[13])\n",
    "plt.colorbar()\n",
    "plt.grid(False)\n",
    "plt.show()"
   ]
  },
  {
   "cell_type": "markdown",
   "metadata": {
    "id": "44S38onPrbDw"
   },
   "source": [
    "## Data Preprocessing"
   ]
  },
  {
   "cell_type": "code",
   "execution_count": 8,
   "metadata": {
    "id": "0YEcXFcLuVx_"
   },
   "outputs": [],
   "source": [
    "train_images = train_images / 255.0\n",
    "test_images = test_images / 255.0"
   ]
  },
  {
   "cell_type": "markdown",
   "metadata": {
    "id": "p7Q2UPVMufYW"
   },
   "source": [
    "## Build the Model"
   ]
  },
  {
   "cell_type": "code",
   "execution_count": 9,
   "metadata": {},
   "outputs": [],
   "source": [
    "class FashionModel(nn.Module):\n",
    "    def __init__(self):\n",
    "        super(FashionModel, self).__init__()\n",
    "        self.flatten = nn.Flatten()\n",
    "        self.linear1 = nn.Linear(28 * 28, 128)\n",
    "        self.relu = nn.ReLU()\n",
    "        self.linear2 = nn.Linear(128, 10)\n",
    "\n",
    "    def forward(self, x):\n",
    "        x = self.flatten(x)\n",
    "        x = self.relu(self.linear1(x))\n",
    "        x = self.linear2(x)\n",
    "        return x\n",
    "\n",
    "# Instantiate the model\n",
    "model = FashionModel()\n"
   ]
  },
  {
   "cell_type": "markdown",
   "metadata": {
    "id": "tdTQocvrvkKv"
   },
   "source": [
    "## Set parameters for the Model"
   ]
  },
  {
   "cell_type": "code",
   "execution_count": 10,
   "metadata": {},
   "outputs": [],
   "source": [
    "learning_rate = 0.01\n",
    "\n",
    "criterion = nn.CrossEntropyLoss()\n",
    "optimizer = torch.optim.Adam(model.parameters(), lr=learning_rate)  "
   ]
  },
  {
   "cell_type": "markdown",
   "metadata": {
    "id": "4Mf-hV_Kv9Fo"
   },
   "source": [
    "## Train the Model"
   ]
  },
  {
   "cell_type": "code",
   "execution_count": 11,
   "metadata": {},
   "outputs": [
    {
     "name": "stdout",
     "output_type": "stream",
     "text": [
      "Epoch [1/25], Loss: 0.4861\n",
      "Epoch [2/25], Loss: 0.3945\n",
      "Epoch [3/25], Loss: 0.3811\n",
      "Epoch [4/25], Loss: 0.2989\n",
      "Epoch [5/25], Loss: 0.2490\n",
      "Epoch [6/25], Loss: 0.2295\n",
      "Epoch [7/25], Loss: 0.2255\n",
      "Epoch [8/25], Loss: 0.2375\n",
      "Epoch [9/25], Loss: 0.2247\n",
      "Epoch [10/25], Loss: 0.2294\n",
      "Epoch [11/25], Loss: 0.1981\n",
      "Epoch [12/25], Loss: 0.1964\n",
      "Epoch [13/25], Loss: 0.2120\n",
      "Epoch [14/25], Loss: 0.2239\n",
      "Epoch [15/25], Loss: 0.2166\n",
      "Epoch [16/25], Loss: 0.2360\n",
      "Epoch [17/25], Loss: 0.2204\n",
      "Epoch [18/25], Loss: 0.2045\n",
      "Epoch [19/25], Loss: 0.1918\n",
      "Epoch [20/25], Loss: 0.1714\n",
      "Epoch [21/25], Loss: 0.2233\n",
      "Epoch [22/25], Loss: 0.1846\n",
      "Epoch [23/25], Loss: 0.1784\n",
      "Epoch [24/25], Loss: 0.2200\n",
      "Epoch [25/25], Loss: 0.2078\n"
     ]
    }
   ],
   "source": [
    "num_epochs = 25\n",
    "for epoch in range(num_epochs):\n",
    "    for i, (images, labels) in enumerate(train_dataloader):\n",
    "        # Forward pass\n",
    "        outputs = model(images)\n",
    "        loss = criterion(outputs, labels)\n",
    "\n",
    "        # Backward pass and optimization\n",
    "        loss.backward()\n",
    "        optimizer.step()\n",
    "        optimizer.zero_grad()\n",
    "\n",
    "    print (f'Epoch [{epoch+1}/{num_epochs}], Loss: {loss.item():.4f}')\n"
   ]
  },
  {
   "cell_type": "markdown",
   "metadata": {
    "id": "p5L-u4twwfsl"
   },
   "source": [
    "## Evaluate the Model"
   ]
  },
  {
   "cell_type": "code",
   "execution_count": 12,
   "metadata": {},
   "outputs": [
    {
     "name": "stdout",
     "output_type": "stream",
     "text": [
      "Accuracy of the network on the 10000 test images: 85.61 %\n"
     ]
    }
   ],
   "source": [
    "# Test the neural network\n",
    "with torch.no_grad():\n",
    "    correct = 0\n",
    "    total = 0\n",
    "    for images, labels in test_dataloader:\n",
    "        outputs = model(images)\n",
    "        _, predicted = torch.max(outputs.data, 1)\n",
    "        total += labels.size(0)\n",
    "        correct += (predicted == labels).sum().item()\n",
    "\n",
    "print('Accuracy of the network on the {} test images: {} %'.format(test_dataloader.dataset.data.shape[0], 100 * correct / total))"
   ]
  },
  {
   "cell_type": "markdown",
   "metadata": {
    "id": "RpArkIhtxR0P"
   },
   "source": [
    "## Make a Prediction"
   ]
  },
  {
   "cell_type": "code",
   "execution_count": 13,
   "metadata": {
    "colab": {
     "base_uri": "https://localhost:8080/",
     "height": 547
    },
    "id": "4q8BDi5FxUNG",
    "outputId": "df80c8ae-249d-4fa4-85df-3663cc0909d1"
   },
   "outputs": [
    {
     "name": "stdout",
     "output_type": "stream",
     "text": [
      "Predicted class: 9\n",
      "Label: Ankle boot\n"
     ]
    },
    {
     "data": {
      "image/png": "[encoded data removed]",
      "text/plain": [
       "<Figure size 640x480 with 2 Axes>"
      ]
     },
     "metadata": {},
     "output_type": "display_data"
    }
   ],
   "source": [
    "# Make predictions using the model\n",
    "with torch.no_grad():\n",
    "    predictions = model(test_images)\n",
    "\n",
    "# Get the predicted class for the first image\n",
    "predicted_class_idx = torch.argmax(predictions[0])  # Get index of highest probability class\n",
    "\n",
    "# print(predicted_class_idx)\n",
    "# print(predicted_class_idx.item())\n",
    "\n",
    "# Print the predicted class and its label\n",
    "print(f\"Predicted class: {predicted_class_idx.item()}\")\n",
    "print(f\"Label: {class_names[predicted_class_idx.item()]}\")\n",
    "\n",
    "# Display the first image\n",
    "plt.figure()\n",
    "plt.imshow(test_images[0])\n",
    "plt.colorbar()\n",
    "plt.grid(False)\n",
    "plt.show()"
   ]
  },
  {
   "cell_type": "code",
   "execution_count": 15,
   "metadata": {
    "colab": {
     "base_uri": "https://localhost:8080/",
     "height": 338
    },
    "id": "A2X4IOx9yk--",
    "outputId": "5c9723a9-6090-4970-f568-6c15a8a7a7eb"
   },
   "outputs": [
    {
     "name": "stdout",
     "output_type": "stream",
     "text": [
      "25\n"
     ]
    },
    {
     "data": {
      "image/png": "[encoded data removed]",
      "text/plain": [
       "<Figure size 640x480 with 2 Axes>"
      ]
     },
     "metadata": {},
     "output_type": "display_data"
    },
    {
     "name": "stdout",
     "output_type": "stream",
     "text": [
      "Correct label: Dress\n",
      "Guessed label: Dress\n"
     ]
    }
   ],
   "source": [
    "COLOR = 'white'\n",
    "plt.rcParams['text.color'] = COLOR\n",
    "plt.rcParams['axes.labelcolor'] = COLOR \n",
    "\n",
    "def show_image(img, label, guess):\n",
    "  plt.figure()\n",
    "  plt.imshow(img, cmap=plt.cm.binary)  # Squeeze and use grayscale\n",
    "  # plt.title(\"Corrected label: \" + label)\n",
    "  # plt.xlabel(\"Guessed label: \" + guess)\n",
    "  plt.colorbar()\n",
    "  plt.grid(False)\n",
    "  plt.show()\n",
    "  print(\"Correct label: \" + label)\n",
    "  print(\"Guessed label: \" + guess)\n",
    "\n",
    "def predict(model, image, label):\n",
    "  with torch.no_grad():\n",
    "      prediction = model(image.unsqueeze(0))  # Add batch dimension\n",
    "  predicted_class = class_names[torch.argmax(prediction[0])]\n",
    "  show_image(image, class_names[label], predicted_class)\n",
    "\n",
    "def get_number():\n",
    "  while True:\n",
    "    num = input(\"Choose a number: \")\n",
    "    if num.isdigit():\n",
    "      num = int(num)\n",
    "      if 0 <= num < len(test_images):  # Check within valid range\n",
    "        return int(num)\n",
    "    else:\n",
    "      print(\"Try again...\")\n",
    "\n",
    "num = get_number()\n",
    "print(num)\n",
    "image = test_images[num]\n",
    "label = test_labels[num]\n",
    "predict(model, image, label)\n"
   ]
  },
  {
   "cell_type": "code",
   "execution_count": null,
   "metadata": {},
   "outputs": [],
   "source": []
  }
 ],
 "metadata": {
  "colab": {
   "authorship_tag": "ABX9TyPWoH595AzJyXPJI7IIDfRi",
   "include_colab_link": true,
   "name": "fashion_mnist.ipynb",
   "provenance": []
  },
  "kernelspec": {
   "display_name": "Python 3 (ipykernel)",
   "language": "python",
   "name": "python3"
  },
  "language_info": {
   "codemirror_mode": {
    "name": "ipython",
    "version": 3
   },
   "file_extension": ".py",
   "mimetype": "text/x-python",
   "name": "python",
   "nbconvert_exporter": "python",
   "pygments_lexer": "ipython3",
   "version": "3.1.undefined"
  }
 },
 "nbformat": 4,
 "nbformat_minor": 4
}
