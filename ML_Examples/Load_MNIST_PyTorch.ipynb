{
  "nbformat": 4,
  "nbformat_minor": 0,
  "metadata": {
    "colab": {
      "provenance": [],
      "authorship_tag": "ABX9TyMA7bYrJb2y1Vq5SLWq+P0l",
      "include_colab_link": true
    },
    "kernelspec": {
      "name": "python3",
      "display_name": "Python 3"
    }
  },
  "cells": [
    {
      "cell_type": "markdown",
      "metadata": {
        "id": "view-in-github",
        "colab_type": "text"
      },
      "source": [
        "<a href=\"https://colab.research.google.com/github/ProfessorDong/Deep-Learning-Course-Examples/blob/master/ML_Examples/Load_MNIST_PyTorch.ipynb\" target=\"_parent\"><img src=\"https://colab.research.google.com/assets/colab-badge.svg\" alt=\"Open In Colab\"/></a>"
      ]
    },
    {
      "cell_type": "code",
      "metadata": {
        "id": "g9lakPyXix_7",
        "colab": {
          "base_uri": "https://localhost:8080/"
        },
        "outputId": "a53a60cc-f596-4288-ec59-3313df0229b2"
      },
      "source": [
        "import torch\n",
        "print(torch.__version__)\n",
        "\n",
        "import torch.nn as nn\n",
        "import torch.nn.functional as F\n",
        "from torch.utils.data import DataLoader\n",
        "from torchvision import datasets, transforms\n",
        "import torch.optim as optim\n",
        "from torch.optim.lr_scheduler import StepLR"
      ],
      "execution_count": 1,
      "outputs": [
        {
          "output_type": "stream",
          "name": "stdout",
          "text": [
            "1.13.1+cu116\n"
          ]
        }
      ]
    },
    {
      "cell_type": "markdown",
      "source": [
        "Torchvision is a package in the PyTorch library containing computer-vision models, datasets, and image transformations. \n",
        "\n",
        "Import the torchvision datasets and get the MNIST dataset from the torchvision package."
      ],
      "metadata": {
        "id": "6qllP8e5_A3H"
      }
    },
    {
      "cell_type": "code",
      "metadata": {
        "id": "wYKl5z_Ho-Cq"
      },
      "source": [
        "import torchvision\n",
        "import torchvision.datasets as datasets"
      ],
      "execution_count": 2,
      "outputs": []
    },
    {
      "cell_type": "markdown",
      "source": [
        "Initialize the MNIST training data set:\n",
        "\n",
        "We use the root parameter to define where to save the data.\n",
        "\n",
        "The train parameter is set to true because we are initializing the MNIST training dataset.\n",
        "\n",
        "The download parameter is set to true because we want to download it if it’s not already present in our data folder.\n",
        "\n",
        "The transform parameter is set to none because we don’t want to apply any image manipulation transforms at this time."
      ],
      "metadata": {
        "id": "iav_9TOh_fA_"
      }
    },
    {
      "cell_type": "code",
      "metadata": {
        "id": "E0_xnZuApZ5S"
      },
      "source": [
        "mnist_trainset = datasets.MNIST(root='./data', train=True, download=True, transform=None)"
      ],
      "execution_count": 3,
      "outputs": []
    },
    {
      "cell_type": "markdown",
      "source": [
        "Initialize the MNIST test set:\n",
        "\n",
        "It should be very quick because the data has already been loaded.\n",
        "\n",
        "The train parameter is set to false because we want test set, not the train set.\n",
        "\n",
        "Then like the training set, we set download to true and transform to none."
      ],
      "metadata": {
        "id": "NBIrpu4EAFfJ"
      }
    },
    {
      "cell_type": "code",
      "source": [
        "mnist_testset = datasets.MNIST(root='./data', train=False, download=True, transform=None)"
      ],
      "metadata": {
        "id": "5GpU-Cr6AQL6"
      },
      "execution_count": 4,
      "outputs": []
    },
    {
      "cell_type": "code",
      "source": [
        "print(len(mnist_trainset))\n",
        "print(len(mnist_testset))\n",
        "print(mnist_trainset)\n",
        "print(mnist_trainset.data)\n",
        "print(mnist_trainset.targets)\n",
        "print(mnist_trainset.classes)"
      ],
      "metadata": {
        "colab": {
          "base_uri": "https://localhost:8080/"
        },
        "id": "y-mx1lsVAVoq",
        "outputId": "f99a34cd-2620-47c5-e9cb-f70ccba546f5"
      },
      "execution_count": 5,
      "outputs": [
        {
          "output_type": "stream",
          "name": "stdout",
          "text": [
            "60000\n",
            "10000\n",
            "Dataset MNIST\n",
            "    Number of datapoints: 60000\n",
            "    Root location: ./data\n",
            "    Split: Train\n",
            "tensor([[[0, 0, 0,  ..., 0, 0, 0],\n",
            "         [0, 0, 0,  ..., 0, 0, 0],\n",
            "         [0, 0, 0,  ..., 0, 0, 0],\n",
            "         ...,\n",
            "         [0, 0, 0,  ..., 0, 0, 0],\n",
            "         [0, 0, 0,  ..., 0, 0, 0],\n",
            "         [0, 0, 0,  ..., 0, 0, 0]],\n",
            "\n",
            "        [[0, 0, 0,  ..., 0, 0, 0],\n",
            "         [0, 0, 0,  ..., 0, 0, 0],\n",
            "         [0, 0, 0,  ..., 0, 0, 0],\n",
            "         ...,\n",
            "         [0, 0, 0,  ..., 0, 0, 0],\n",
            "         [0, 0, 0,  ..., 0, 0, 0],\n",
            "         [0, 0, 0,  ..., 0, 0, 0]],\n",
            "\n",
            "        [[0, 0, 0,  ..., 0, 0, 0],\n",
            "         [0, 0, 0,  ..., 0, 0, 0],\n",
            "         [0, 0, 0,  ..., 0, 0, 0],\n",
            "         ...,\n",
            "         [0, 0, 0,  ..., 0, 0, 0],\n",
            "         [0, 0, 0,  ..., 0, 0, 0],\n",
            "         [0, 0, 0,  ..., 0, 0, 0]],\n",
            "\n",
            "        ...,\n",
            "\n",
            "        [[0, 0, 0,  ..., 0, 0, 0],\n",
            "         [0, 0, 0,  ..., 0, 0, 0],\n",
            "         [0, 0, 0,  ..., 0, 0, 0],\n",
            "         ...,\n",
            "         [0, 0, 0,  ..., 0, 0, 0],\n",
            "         [0, 0, 0,  ..., 0, 0, 0],\n",
            "         [0, 0, 0,  ..., 0, 0, 0]],\n",
            "\n",
            "        [[0, 0, 0,  ..., 0, 0, 0],\n",
            "         [0, 0, 0,  ..., 0, 0, 0],\n",
            "         [0, 0, 0,  ..., 0, 0, 0],\n",
            "         ...,\n",
            "         [0, 0, 0,  ..., 0, 0, 0],\n",
            "         [0, 0, 0,  ..., 0, 0, 0],\n",
            "         [0, 0, 0,  ..., 0, 0, 0]],\n",
            "\n",
            "        [[0, 0, 0,  ..., 0, 0, 0],\n",
            "         [0, 0, 0,  ..., 0, 0, 0],\n",
            "         [0, 0, 0,  ..., 0, 0, 0],\n",
            "         ...,\n",
            "         [0, 0, 0,  ..., 0, 0, 0],\n",
            "         [0, 0, 0,  ..., 0, 0, 0],\n",
            "         [0, 0, 0,  ..., 0, 0, 0]]], dtype=torch.uint8)\n",
            "tensor([5, 0, 4,  ..., 5, 6, 8])\n",
            "['0 - zero', '1 - one', '2 - two', '3 - three', '4 - four', '5 - five', '6 - six', '7 - seven', '8 - eight', '9 - nine']\n"
          ]
        }
      ]
    },
    {
      "cell_type": "code",
      "source": [
        "import matplotlib.pyplot as plt\n",
        "\n",
        "# display a few digits from MNIST testing dataset\n",
        "\n",
        "nb_digits_to_display = 10\n",
        "\n",
        "plt.figure(figsize=(10,2)) \n",
        "plt.title(\"Few images of MNIST dataset\")\n",
        "for i in range(nb_digits_to_display):\n",
        "    plt.subplot(1,nb_digits_to_display, i+1)\n",
        "    plt.imshow(mnist_trainset.data[i].numpy())\n",
        "    plt.title(f\"label: {mnist_trainset.targets[i].numpy()}\")\n",
        "\n",
        "plt.suptitle(\"Few images of MNIST testing dataset\", fontsize=16)"
      ],
      "metadata": {
        "colab": {
          "base_uri": "https://localhost:8080/",
          "height": 158
        },
        "id": "eOeGapEACPvc",
        "outputId": "67202ad7-d338-40b1-bf4f-fd39af08f2a8"
      },
      "execution_count": 6,
      "outputs": [
        {
          "output_type": "execute_result",
          "data": {
            "text/plain": [
              "Text(0.5, 0.98, 'Few images of MNIST testing dataset')"
            ]
          },
          "metadata": {},
          "execution_count": 6
        },
        {
          "output_type": "display_data",
          "data": {
            "text/plain": [
              "<Figure size 720x144 with 10 Axes>"
            ],
            "image/png": "[encoded data removed]"
          },
          "metadata": {
            "needs_background": "light"
          }
        }
      ]
    }
  ]
}