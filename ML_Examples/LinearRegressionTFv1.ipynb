{
  "nbformat": 4,
  "nbformat_minor": 0,
  "metadata": {
    "colab": {
      "name": "LinearRegression.ipynb",
      "provenance": [],
      "authorship_tag": "ABX9TyPS8lTL0QHhN33YrO4mZA2c",
      "include_colab_link": true
    },
    "kernelspec": {
      "name": "python3",
      "display_name": "Python 3"
    },
    "language_info": {
      "name": "python"
    }
  },
  "cells": [
    {
      "cell_type": "markdown",
      "metadata": {
        "id": "view-in-github",
        "colab_type": "text"
      },
      "source": [
        "<a href=\"https://colab.research.google.com/github/ProfessorDong/Deep-Learning-Course-Examples/blob/master/ML_Examples/LinearRegressionTFv1.ipynb\" target=\"_parent\"><img src=\"https://colab.research.google.com/assets/colab-badge.svg\" alt=\"Open In Colab\"/></a>"
      ]
    },
    {
      "cell_type": "code",
      "metadata": {
        "colab": {
          "base_uri": "https://localhost:8080/"
        },
        "id": "_cfzPDWs2x7d",
        "outputId": "6191bc7e-23c3-4198-c460-9890550871d9"
      },
      "source": [
        "!python --version\n",
        "\n",
        "import os\n",
        "os.environ[\"CUDA_DEVICE_ORDER\"]=\"PCI_BUS_ID\"\n",
        "os.environ[\"CUDA_VISIBLE_DEVICES\"]=\"\"\n",
        "\n",
        "%tensorflow_version 2.x\n",
        "import tensorflow as tf\n",
        "print(\"TensorFlow Version: \", tf.__version__)\n",
        "print(\"Num GPUs Available: \", len(tf.config.list_physical_devices('GPU')))"
      ],
      "execution_count": 1,
      "outputs": [
        {
          "output_type": "stream",
          "name": "stdout",
          "text": [
            "Python 3.8.10\n",
            "Colab only includes TensorFlow 2.x; %tensorflow_version has no effect.\n",
            "TensorFlow Version:  2.9.2\n",
            "Num GPUs Available:  0\n"
          ]
        }
      ]
    },
    {
      "cell_type": "markdown",
      "metadata": {
        "id": "C9HN_Rt6Fg9x"
      },
      "source": [
        "The code is written in TensorFlow version 1.  \n",
        "\n",
        "You need to add the following two lines to re-import tensorflow version 1 and disable version 2."
      ]
    },
    {
      "cell_type": "code",
      "source": [
        "# %tensorflow_version 1.x\n",
        "# import tensorflow as tf\n",
        "\n",
        "import tensorflow.compat.v1 as tf\n",
        "tf.disable_v2_behavior()\n",
        "\n",
        "import numpy as np"
      ],
      "metadata": {
        "id": "YYFAPiXv_JHN",
        "outputId": "a77aa543-ab7d-4ccf-d881-34466f0cecda",
        "colab": {
          "base_uri": "https://localhost:8080/"
        }
      },
      "execution_count": 1,
      "outputs": [
        {
          "output_type": "stream",
          "name": "stderr",
          "text": [
            "WARNING:tensorflow:From /usr/local/lib/python3.8/dist-packages/tensorflow/python/compat/v2_compat.py:107: disable_resource_variables (from tensorflow.python.ops.variable_scope) is deprecated and will be removed in a future version.\n",
            "Instructions for updating:\n",
            "non-resource variables are not supported in the long term\n"
          ]
        }
      ]
    },
    {
      "cell_type": "markdown",
      "source": [
        "Model parameters"
      ],
      "metadata": {
        "id": "O4AZyUGS_Gh2"
      }
    },
    {
      "cell_type": "code",
      "source": [
        "W = tf.Variable([.3], tf.float32)\n",
        "b = tf.Variable([-.3], tf.float32)"
      ],
      "metadata": {
        "id": "VVDNMO1m_Tml"
      },
      "execution_count": 2,
      "outputs": []
    },
    {
      "cell_type": "markdown",
      "source": [
        "Model input and output, linear model $y = Wx + b$."
      ],
      "metadata": {
        "id": "ErAMfZpg_Qy1"
      }
    },
    {
      "cell_type": "code",
      "source": [
        "x = tf.placeholder(tf.float32)\n",
        "y = tf.placeholder(tf.float32)\n",
        "\n",
        "linear_model = W*x+b"
      ],
      "metadata": {
        "id": "PMaP_Lmm_TId"
      },
      "execution_count": 3,
      "outputs": []
    },
    {
      "cell_type": "markdown",
      "source": [
        "Define loss"
      ],
      "metadata": {
        "id": "zqSZmrIZ_qsN"
      }
    },
    {
      "cell_type": "code",
      "source": [
        "loss = tf.reduce_sum(tf.square(linear_model - y))"
      ],
      "metadata": {
        "id": "CJFL0Nhh_py-"
      },
      "execution_count": 4,
      "outputs": []
    },
    {
      "cell_type": "markdown",
      "source": [
        "Define optimizer"
      ],
      "metadata": {
        "id": "NfOOMcsk_v4l"
      }
    },
    {
      "cell_type": "code",
      "source": [
        "optimizer = tf.train.GradientDescentOptimizer(0.01)\n",
        "train = optimizer.minimize(loss)"
      ],
      "metadata": {
        "id": "Axs-y8sc_0HV"
      },
      "execution_count": 5,
      "outputs": []
    },
    {
      "cell_type": "markdown",
      "source": [
        "Training data"
      ],
      "metadata": {
        "id": "QECjParl_9r1"
      }
    },
    {
      "cell_type": "code",
      "source": [
        "x_train = [1,2,3,4]\n",
        "y_train = [0,-1,-2,-4]"
      ],
      "metadata": {
        "id": "m1I2t-Zf__39"
      },
      "execution_count": 6,
      "outputs": []
    },
    {
      "cell_type": "markdown",
      "source": [
        "Training loop"
      ],
      "metadata": {
        "id": "ju2mC3k9ACR1"
      }
    },
    {
      "cell_type": "code",
      "metadata": {
        "colab": {
          "base_uri": "https://localhost:8080/"
        },
        "id": "urvB8zNQiTG5",
        "outputId": "8c5d5f91-4f86-4050-8dbc-11a6bdcd922d"
      },
      "source": [
        "init = tf.global_variables_initializer()\n",
        "sess = tf.Session()\n",
        "#File_Writer = tf.summary.FileWriter('C:\\\\Users\\\\dongl\\\\ClassExamples\\\\graph',sess.graph)\n",
        "\n",
        "# v = session.run(fetches, feed_dict=None, options=None, run_metadata=None)\n",
        "# fetches is a TensorFlow graph element (or a tuple, list, etc. of graph elements);\n",
        "# feed_dict contains the input and expected data used to compute the values of the elements in fetches.\n",
        "\n",
        "sess.run(init)\n",
        "\n",
        "for i in range(1000):\n",
        "    sess.run(train, {x:x_train, y:y_train})\n",
        "    \n",
        "# Evaluate training accuracy\n",
        "curr_W, curr_b, curr_loss = sess.run([W,b,loss],{x:x_train,y:y_train})\n",
        "print(\"W: %s  b: %s  loss: %s\"%(curr_W, curr_b, curr_loss))\n",
        "\n",
        "sess.close()"
      ],
      "execution_count": 7,
      "outputs": [
        {
          "output_type": "stream",
          "name": "stdout",
          "text": [
            "W: [-1.2999959]  b: [1.4999877]  loss: 0.3\n"
          ]
        }
      ]
    },
    {
      "cell_type": "markdown",
      "metadata": {
        "id": "4ZTFVDS5ZLi4"
      },
      "source": [
        "Visualize linear regression result $y = Wx + b$, compared with the training data."
      ]
    },
    {
      "cell_type": "code",
      "metadata": {
        "colab": {
          "base_uri": "https://localhost:8080/",
          "height": 301
        },
        "id": "KnKiPPRNYlLA",
        "outputId": "411f959d-c33a-4901-99f7-bd1eb895812d"
      },
      "source": [
        "import matplotlib.pyplot as plt\n",
        "\n",
        "x = np.linspace(0, 5, 10)\n",
        "y = curr_W * x + curr_b\n",
        "\n",
        "plt.plot(x, y, label='Linear Regression')\n",
        "plt.scatter(x_train, y_train, c=\"r\", marker=\"*\", label='Data Points')\n",
        "plt.xlabel('x', size=16)\n",
        "plt.ylabel('y', size=16)\n",
        "plt.legend()\n",
        "plt.show"
      ],
      "execution_count": 8,
      "outputs": [
        {
          "output_type": "execute_result",
          "data": {
            "text/plain": [
              "<function matplotlib.pyplot.show(*args, **kw)>"
            ]
          },
          "metadata": {},
          "execution_count": 8
        },
        {
          "output_type": "display_data",
          "data": {
            "text/plain": [
              "<Figure size 432x288 with 1 Axes>"
            ],
            "image/png": "[encoded data removed]"
          },
          "metadata": {
            "needs_background": "light"
          }
        }
      ]
    }
  ]
}