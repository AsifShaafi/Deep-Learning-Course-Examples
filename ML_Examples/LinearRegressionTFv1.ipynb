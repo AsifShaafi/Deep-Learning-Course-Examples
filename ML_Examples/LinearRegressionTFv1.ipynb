{
 "cells": [
  {
   "cell_type": "markdown",
   "metadata": {
    "colab_type": "text",
    "id": "view-in-github"
   },
   "source": [
    "<a href=\"https://colab.research.google.com/github/ProfessorDong/Deep-Learning-Course-Examples/blob/master/ML_Examples/LinearRegressionTFv1.ipynb\" target=\"_parent\"><img src=\"https://colab.research.google.com/assets/colab-badge.svg\" alt=\"Open In Colab\"/></a>"
   ]
  },
  {
   "cell_type": "code",
   "execution_count": 2,
   "metadata": {
    "colab": {
     "base_uri": "https://localhost:8080/"
    },
    "id": "_cfzPDWs2x7d",
    "outputId": "6191bc7e-23c3-4198-c460-9890550871d9"
   },
   "outputs": [
    {
     "name": "stdout",
     "output_type": "stream",
     "text": [
      "Python 3.11.7\n"
     ]
    },
    {
     "name": "stderr",
     "output_type": "stream",
     "text": [
      "UsageError: Line magic function `%tensorflow_version` not found.\n"
     ]
    }
   ],
   "source": [
    "!python --version\n",
    "\n",
    "import os\n",
    "os.environ[\"CUDA_DEVICE_ORDER\"]=\"PCI_BUS_ID\"\n",
    "os.environ[\"CUDA_VISIBLE_DEVICES\"]=\"\"\n",
    "\n",
    "%tensorflow_version 2.x\n",
    "import tensorflow as tf\n",
    "print(\"TensorFlow Version: \", tf.__version__)\n",
    "print(\"Num GPUs Available: \", len(tf.config.list_physical_devices('GPU')))"
   ]
  },
  {
   "cell_type": "markdown",
   "metadata": {
    "id": "C9HN_Rt6Fg9x"
   },
   "source": [
    "The code is written in TensorFlow version 1.  \n",
    "\n",
    "You need to add the following two lines to re-import tensorflow version 1 and disable version 2."
   ]
  },
  {
   "cell_type": "code",
   "execution_count": 1,
   "metadata": {
    "colab": {
     "base_uri": "https://localhost:8080/"
    },
    "id": "YYFAPiXv_JHN",
    "outputId": "a77aa543-ab7d-4ccf-d881-34466f0cecda"
   },
   "outputs": [
    {
     "name": "stdout",
     "output_type": "stream",
     "text": [
      "WARNING:tensorflow:From /Library/anaconda3/envs/deepLearningClass/lib/python3.11/site-packages/tensorflow/python/compat/v2_compat.py:108: disable_resource_variables (from tensorflow.python.ops.variable_scope) is deprecated and will be removed in a future version.\n",
      "Instructions for updating:\n",
      "non-resource variables are not supported in the long term\n"
     ]
    }
   ],
   "source": [
    "# %tensorflow_version 1.x\n",
    "# import tensorflow as tf\n",
    "\n",
    "import tensorflow.compat.v1 as tf\n",
    "tf.disable_v2_behavior()\n",
    "\n",
    "import numpy as np"
   ]
  },
  {
   "cell_type": "markdown",
   "metadata": {
    "id": "O4AZyUGS_Gh2"
   },
   "source": [
    "Model parameters"
   ]
  },
  {
   "cell_type": "code",
   "execution_count": 2,
   "metadata": {
    "id": "VVDNMO1m_Tml"
   },
   "outputs": [],
   "source": [
    "W = tf.Variable([.3], tf.float32)\n",
    "b = tf.Variable([-.3], tf.float32)"
   ]
  },
  {
   "cell_type": "markdown",
   "metadata": {
    "id": "ErAMfZpg_Qy1"
   },
   "source": [
    "Model input and output, linear model $y = Wx + b$."
   ]
  },
  {
   "cell_type": "code",
   "execution_count": 3,
   "metadata": {
    "id": "PMaP_Lmm_TId"
   },
   "outputs": [],
   "source": [
    "x = tf.placeholder(tf.float32)\n",
    "y = tf.placeholder(tf.float32)\n",
    "\n",
    "linear_model = W*x+b"
   ]
  },
  {
   "cell_type": "markdown",
   "metadata": {
    "id": "zqSZmrIZ_qsN"
   },
   "source": [
    "Define loss"
   ]
  },
  {
   "cell_type": "code",
   "execution_count": 4,
   "metadata": {
    "id": "CJFL0Nhh_py-"
   },
   "outputs": [],
   "source": [
    "loss = tf.reduce_sum(tf.square(linear_model - y))"
   ]
  },
  {
   "cell_type": "markdown",
   "metadata": {
    "id": "NfOOMcsk_v4l"
   },
   "source": [
    "Define optimizer"
   ]
  },
  {
   "cell_type": "code",
   "execution_count": 5,
   "metadata": {
    "id": "Axs-y8sc_0HV"
   },
   "outputs": [],
   "source": [
    "optimizer = tf.train.GradientDescentOptimizer(0.01)\n",
    "train = optimizer.minimize(loss)"
   ]
  },
  {
   "cell_type": "markdown",
   "metadata": {
    "id": "QECjParl_9r1"
   },
   "source": [
    "Training data"
   ]
  },
  {
   "cell_type": "code",
   "execution_count": 6,
   "metadata": {
    "id": "m1I2t-Zf__39"
   },
   "outputs": [],
   "source": [
    "x_train = [1,2,3,4]\n",
    "y_train = [0,-1,-2,-3]"
   ]
  },
  {
   "cell_type": "markdown",
   "metadata": {
    "id": "ju2mC3k9ACR1"
   },
   "source": [
    "Training loop"
   ]
  },
  {
   "cell_type": "code",
   "execution_count": 7,
   "metadata": {
    "colab": {
     "base_uri": "https://localhost:8080/"
    },
    "id": "urvB8zNQiTG5",
    "outputId": "8c5d5f91-4f86-4050-8dbc-11a6bdcd922d"
   },
   "outputs": [
    {
     "name": "stdout",
     "output_type": "stream",
     "text": [
      "W: [-0.9999969]  b: [0.9999908]  loss: 5.6999738e-11\n"
     ]
    },
    {
     "name": "stderr",
     "output_type": "stream",
     "text": [
      "2024-02-21 14:35:04.393277: I tensorflow/compiler/mlir/mlir_graph_optimization_pass.cc:388] MLIR V1 optimization pass is not enabled\n"
     ]
    }
   ],
   "source": [
    "init = tf.global_variables_initializer()\n",
    "sess = tf.Session()\n",
    "#File_Writer = tf.summary.FileWriter('C:\\\\Users\\\\dongl\\\\ClassExamples\\\\graph',sess.graph)\n",
    "\n",
    "# v = session.run(fetches, feed_dict=None, options=None, run_metadata=None)\n",
    "# fetches is a TensorFlow graph element (or a tuple, list, etc. of graph elements);\n",
    "# feed_dict contains the input and expected data used to compute the values of the elements in fetches.\n",
    "\n",
    "sess.run(init)\n",
    "\n",
    "for i in range(1000):\n",
    "    sess.run(train, {x:x_train, y:y_train})\n",
    "    \n",
    "# Evaluate training accuracy\n",
    "curr_W, curr_b, curr_loss = sess.run([W,b,loss],{x:x_train,y:y_train})\n",
    "print(\"W: %s  b: %s  loss: %s\"%(curr_W, curr_b, curr_loss))\n",
    "\n",
    "sess.close()"
   ]
  },
  {
   "cell_type": "markdown",
   "metadata": {
    "id": "4ZTFVDS5ZLi4"
   },
   "source": [
    "Visualize linear regression result $y = Wx + b$, compared with the training data."
   ]
  },
  {
   "cell_type": "code",
   "execution_count": 8,
   "metadata": {
    "colab": {
     "base_uri": "https://localhost:8080/",
     "height": 301
    },
    "id": "KnKiPPRNYlLA",
    "outputId": "411f959d-c33a-4901-99f7-bd1eb895812d"
   },
   "outputs": [
    {
     "data": {
      "text/plain": [
       "<function matplotlib.pyplot.show(close=None, block=None)>"
      ]
     },
     "execution_count": 8,
     "metadata": {},
     "output_type": "execute_result"
    },
    {
     "data": {
      "image/png": "[encoded data removed]",
      "text/plain": [
       "<Figure size 640x480 with 1 Axes>"
      ]
     },
     "metadata": {},
     "output_type": "display_data"
    }
   ],
   "source": [
    "import matplotlib.pyplot as plt\n",
    "\n",
    "x = np.linspace(0, 5, 10)\n",
    "y = curr_W * x + curr_b\n",
    "\n",
    "plt.plot(x, y, label='Linear Regression')\n",
    "plt.scatter(x_train, y_train, c=\"r\", marker=\"*\", label='Data Points')\n",
    "plt.xlabel('x', size=16)\n",
    "plt.ylabel('y', size=16)\n",
    "plt.legend()\n",
    "plt.show"
   ]
  },
  {
   "cell_type": "code",
   "execution_count": null,
   "metadata": {},
   "outputs": [],
   "source": []
  }
 ],
 "metadata": {
  "colab": {
   "authorship_tag": "ABX9TyPS8lTL0QHhN33YrO4mZA2c",
   "include_colab_link": true,
   "name": "LinearRegression.ipynb",
   "provenance": []
  },
  "kernelspec": {
   "display_name": "Python 3 (ipykernel)",
   "language": "python",
   "name": "python3"
  },
  "language_info": {
   "codemirror_mode": {
    "name": "ipython",
    "version": 3
   },
   "file_extension": ".py",
   "mimetype": "text/x-python",
   "name": "python",
   "nbconvert_exporter": "python",
   "pygments_lexer": "ipython3",
   "version": "3.11.7"
  }
 },
 "nbformat": 4,
 "nbformat_minor": 4
}
