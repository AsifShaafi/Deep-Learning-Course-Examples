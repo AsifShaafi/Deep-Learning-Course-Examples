{
 "cells": [
  {
   "cell_type": "markdown",
   "metadata": {
    "colab_type": "text",
    "id": "view-in-github"
   },
   "source": [
    "<a href=\"https://colab.research.google.com/github/ProfessorDong/Deep-Learning-Course-Examples/blob/master/ML_Examples/LinearRegressionTFv2.ipynb\" target=\"_parent\"><img src=\"https://colab.research.google.com/assets/colab-badge.svg\" alt=\"Open In Colab\"/></a>"
   ]
  },
  {
   "cell_type": "code",
   "execution_count": 5,
   "metadata": {
    "id": "ctMmi5nXKBuf"
   },
   "outputs": [],
   "source": [
    "import pandas as pd\n",
    "import numpy as np\n",
    "import tensorflow as tf\n",
    "from sklearn.model_selection import train_test_split\n",
    "\n",
    "url=\"https://www.professordong.com/DLdata/Admission_Predict_Ver1.1.csv\"\n",
    "data = pd.read_csv(url)\n",
    "data.head()\n",
    "\n",
    "continuous_features = data[ ['GRE Score','TOEFL Score','University Rating','SOP','LOR ','CGPA'] ].values / 100 \n",
    "categorical_research_features = data[ [ 'Research' ] ].values \n",
    "\n",
    "X = np.concatenate( [ continuous_features , categorical_research_features ] , axis=1 )\n",
    "Y = data[ [ 'Chance of Admit ' ] ].values\n",
    "\n",
    "train_features , test_features ,train_labels, test_labels = train_test_split( X , Y , test_size=0.2 )\n",
    "\n",
    "X = tf.constant( train_features , dtype=tf.float32 )\n",
    "Y = tf.constant( train_labels , dtype=tf.float32 ) \n",
    "                                                          \n",
    "test_X = tf.constant( test_features , dtype=tf.float32 ) \n",
    "test_Y = tf.constant( test_labels , dtype=tf.float32 ) "
   ]
  },
  {
   "cell_type": "code",
   "execution_count": 6,
   "metadata": {},
   "outputs": [
    {
     "name": "stdout",
     "output_type": "stream",
     "text": [
      "     Serial No.  GRE Score  TOEFL Score  University Rating  SOP  LOR   CGPA  \\\n",
      "0             1        337          118                  4  4.5   4.5  9.65   \n",
      "1             2        324          107                  4  4.0   4.5  8.87   \n",
      "2             3        316          104                  3  3.0   3.5  8.00   \n",
      "3             4        322          110                  3  3.5   2.5  8.67   \n",
      "4             5        314          103                  2  2.0   3.0  8.21   \n",
      "..          ...        ...          ...                ...  ...   ...   ...   \n",
      "495         496        332          108                  5  4.5   4.0  9.02   \n",
      "496         497        337          117                  5  5.0   5.0  9.87   \n",
      "497         498        330          120                  5  4.5   5.0  9.56   \n",
      "498         499        312          103                  4  4.0   5.0  8.43   \n",
      "499         500        327          113                  4  4.5   4.5  9.04   \n",
      "\n",
      "     Research  Chance of Admit   \n",
      "0           1              0.92  \n",
      "1           1              0.76  \n",
      "2           1              0.72  \n",
      "3           1              0.80  \n",
      "4           0              0.65  \n",
      "..        ...               ...  \n",
      "495         1              0.87  \n",
      "496         1              0.96  \n",
      "497         1              0.93  \n",
      "498         0              0.73  \n",
      "499         0              0.84  \n",
      "\n",
      "[500 rows x 9 columns]\n"
     ]
    },
    {
     "data": {
      "text/plain": [
       "array([[3.37  , 1.18  , 0.04  , 0.045 , 0.045 , 0.0965],\n",
       "       [3.24  , 1.07  , 0.04  , 0.04  , 0.045 , 0.0887],\n",
       "       [3.16  , 1.04  , 0.03  , 0.03  , 0.035 , 0.08  ],\n",
       "       ...,\n",
       "       [3.3   , 1.2   , 0.05  , 0.045 , 0.05  , 0.0956],\n",
       "       [3.12  , 1.03  , 0.04  , 0.04  , 0.05  , 0.0843],\n",
       "       [3.27  , 1.13  , 0.04  , 0.045 , 0.045 , 0.0904]])"
      ]
     },
     "execution_count": 6,
     "metadata": {},
     "output_type": "execute_result"
    }
   ],
   "source": [
    "print(data)\n",
    "continuous_features"
   ]
  },
  {
   "cell_type": "code",
   "execution_count": 7,
   "metadata": {
    "id": "PTfiLf1ZKEWj"
   },
   "outputs": [],
   "source": [
    "def mean_squared_error( Y , y_pred ):\n",
    "    return tf.reduce_mean( tf.square( y_pred - Y ) )\n",
    "\n",
    "def mean_squared_error_deriv( Y , y_pred ):\n",
    "    return tf.reshape( tf.reduce_mean( 2 * ( y_pred - Y ) ) , [ 1 , 1 ] )\n",
    "    \n",
    "def h ( X , weights , bias ):\n",
    "    return tf.tensordot( X , weights , axes=1 ) + bias"
   ]
  },
  {
   "cell_type": "code",
   "execution_count": 8,
   "metadata": {
    "id": "fQOkJAtHKHNk"
   },
   "outputs": [],
   "source": [
    "num_epochs = 10\n",
    "num_samples = X.shape[0]\n",
    "batch_size = 10\n",
    "learning_rate = 0.001\n",
    "\n",
    "dataset = tf.data.Dataset.from_tensor_slices(( X , Y )) \n",
    "dataset = dataset.shuffle( 500 ).repeat( num_epochs ).batch( batch_size )\n",
    "iterator = dataset.__iter__()"
   ]
  },
  {
   "cell_type": "code",
   "execution_count": 9,
   "metadata": {
    "colab": {
     "base_uri": "https://localhost:8080/"
    },
    "id": "frQmeIU2KL62",
    "outputId": "11dbf514-2a76-4d07-a4a3-a4dd9dc60827"
   },
   "outputs": [
    {
     "name": "stdout",
     "output_type": "stream",
     "text": [
      "Loss is 33.4202880859375\n",
      "Loss is 16.01815414428711\n",
      "Loss is 7.682672023773193\n",
      "Loss is 3.6888318061828613\n",
      "Loss is 1.7781727313995361\n",
      "Loss is 0.86390620470047\n",
      "Loss is 0.4279415011405945\n",
      "Loss is 0.2212076187133789\n",
      "Loss is 0.1227458268404007\n",
      "Loss is 0.07637150585651398\n"
     ]
    }
   ],
   "source": [
    "num_features = X.shape[1]\n",
    "weights = tf.random.normal( ( num_features , 1 ) ) \n",
    "bias = 0\n",
    "\n",
    "epochs_plot = list()\n",
    "loss_plot = list()\n",
    "\n",
    "for i in range( num_epochs ) :\n",
    "    \n",
    "    epoch_loss = list()\n",
    "    for b in range( int(num_samples/batch_size) ):\n",
    "        x_batch , y_batch = iterator.get_next()\n",
    "   \n",
    "        output = h( x_batch , weights , bias ) \n",
    "        loss = epoch_loss.append( mean_squared_error( y_batch , output ).numpy() )\n",
    "    \n",
    "        dJ_dH = mean_squared_error_deriv( y_batch , output)\n",
    "        dH_dW = x_batch\n",
    "        dJ_dW = tf.reduce_mean( dJ_dH * dH_dW )\n",
    "        dJ_dB = tf.reduce_mean( dJ_dH )\n",
    "    \n",
    "        weights -= ( learning_rate * dJ_dW )\n",
    "        bias -= ( learning_rate * dJ_dB ) \n",
    "        \n",
    "    loss = np.array( epoch_loss ).mean()\n",
    "    epochs_plot.append( i + 1 )\n",
    "    loss_plot.append( loss ) \n",
    "    \n",
    "    print( 'Loss is {}'.format( loss ) ) "
   ]
  },
  {
   "cell_type": "code",
   "execution_count": 10,
   "metadata": {
    "colab": {
     "base_uri": "https://localhost:8080/",
     "height": 265
    },
    "id": "SZS-Xp3FKOn8",
    "outputId": "262748d4-b7e3-4aa1-a9bf-8164252d1f36"
   },
   "outputs": [
    {
     "data": {
      "image/png": "[encoded data removed]",
      "text/plain": [
       "<Figure size 640x480 with 1 Axes>"
      ]
     },
     "metadata": {},
     "output_type": "display_data"
    }
   ],
   "source": [
    "import matplotlib.pyplot as plt\n",
    "plt.plot( epochs_plot , loss_plot ) \n",
    "plt.show()"
   ]
  },
  {
   "cell_type": "code",
   "execution_count": 11,
   "metadata": {
    "colab": {
     "base_uri": "https://localhost:8080/"
    },
    "id": "lB-xPijhKRwu",
    "outputId": "6e260b90-9299-4f78-93ec-b0e1f45dc172"
   },
   "outputs": [
    {
     "name": "stdout",
     "output_type": "stream",
     "text": [
      "Mean Absolute Error = 0.21442380547523499\n"
     ]
    }
   ],
   "source": [
    "output = h( test_X , weights , bias ) \n",
    "labels = test_Y\n",
    "\n",
    "accuracy_op = tf.metrics.MeanAbsoluteError() \n",
    "accuracy_op.update_state( labels , output )\n",
    "print( 'Mean Absolute Error = {}'.format( accuracy_op.result().numpy() ) )"
   ]
  }
 ],
 "metadata": {
  "colab": {
   "authorship_tag": "ABX9TyN+TE+kaFjnj//wWFCSrNaj",
   "include_colab_link": true,
   "provenance": []
  },
  "kernelspec": {
   "display_name": "Python 3 (ipykernel)",
   "language": "python",
   "name": "python3"
  },
  "language_info": {
   "codemirror_mode": {
    "name": "ipython",
    "version": 3
   },
   "file_extension": ".py",
   "mimetype": "text/x-python",
   "name": "python",
   "nbconvert_exporter": "python",
   "pygments_lexer": "ipython3",
   "version": "3.1.0"
  }
 },
 "nbformat": 4,
 "nbformat_minor": 4
}
