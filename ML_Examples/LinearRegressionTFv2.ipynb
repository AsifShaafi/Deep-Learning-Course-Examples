{
  "nbformat": 4,
  "nbformat_minor": 0,
  "metadata": {
    "colab": {
      "provenance": [],
      "authorship_tag": "ABX9TyN+TE+kaFjnj//wWFCSrNaj",
      "include_colab_link": true
    },
    "kernelspec": {
      "name": "python3",
      "display_name": "Python 3"
    },
    "language_info": {
      "name": "python"
    }
  },
  "cells": [
    {
      "cell_type": "markdown",
      "metadata": {
        "id": "view-in-github",
        "colab_type": "text"
      },
      "source": [
        "<a href=\"https://colab.research.google.com/github/ProfessorDong/Deep-Learning-Course-Examples/blob/master/ML_Examples/LinearRegressionTFv2.ipynb\" target=\"_parent\"><img src=\"https://colab.research.google.com/assets/colab-badge.svg\" alt=\"Open In Colab\"/></a>"
      ]
    },
    {
      "cell_type": "code",
      "execution_count": 2,
      "metadata": {
        "id": "ctMmi5nXKBuf"
      },
      "outputs": [],
      "source": [
        "import pandas as pd\n",
        "import numpy as np\n",
        "import tensorflow as tf\n",
        "from sklearn.model_selection import train_test_split\n",
        "\n",
        "url=\"https://www.professordong.com/DLdata/Admission_Predict_Ver1.1.csv\"\n",
        "data = pd.read_csv(url)\n",
        "data.head()\n",
        "\n",
        "continuous_features = data[ ['GRE Score','TOEFL Score','University Rating','SOP','LOR ','CGPA'] ].values / 100 \n",
        "categorical_research_features = data[ [ 'Research' ] ].values \n",
        "\n",
        "X = np.concatenate( [ continuous_features , categorical_research_features ] , axis=1 )\n",
        "Y = data[ [ 'Chance of Admit ' ] ].values\n",
        "\n",
        "train_features , test_features ,train_labels, test_labels = train_test_split( X , Y , test_size=0.2 )\n",
        "\n",
        "X = tf.constant( train_features , dtype=tf.float32 )\n",
        "Y = tf.constant( train_labels , dtype=tf.float32 ) \n",
        "                                                          \n",
        "test_X = tf.constant( test_features , dtype=tf.float32 ) \n",
        "test_Y = tf.constant( test_labels , dtype=tf.float32 ) "
      ]
    },
    {
      "cell_type": "code",
      "source": [
        "def mean_squared_error( Y , y_pred ):\n",
        "    return tf.reduce_mean( tf.square( y_pred - Y ) )\n",
        "\n",
        "def mean_squared_error_deriv( Y , y_pred ):\n",
        "    return tf.reshape( tf.reduce_mean( 2 * ( y_pred - Y ) ) , [ 1 , 1 ] )\n",
        "    \n",
        "def h ( X , weights , bias ):\n",
        "    return tf.tensordot( X , weights , axes=1 ) + bias"
      ],
      "metadata": {
        "id": "PTfiLf1ZKEWj"
      },
      "execution_count": 3,
      "outputs": []
    },
    {
      "cell_type": "code",
      "source": [
        "num_epochs = 10\n",
        "num_samples = X.shape[0]\n",
        "batch_size = 10\n",
        "learning_rate = 0.001\n",
        "\n",
        "dataset = tf.data.Dataset.from_tensor_slices(( X , Y )) \n",
        "dataset = dataset.shuffle( 500 ).repeat( num_epochs ).batch( batch_size )\n",
        "iterator = dataset.__iter__()"
      ],
      "metadata": {
        "id": "fQOkJAtHKHNk"
      },
      "execution_count": 4,
      "outputs": []
    },
    {
      "cell_type": "code",
      "source": [
        "num_features = X.shape[1]\n",
        "weights = tf.random.normal( ( num_features , 1 ) ) \n",
        "bias = 0\n",
        "\n",
        "epochs_plot = list()\n",
        "loss_plot = list()\n",
        "\n",
        "for i in range( num_epochs ) :\n",
        "    \n",
        "    epoch_loss = list()\n",
        "    for b in range( int(num_samples/batch_size) ):\n",
        "        x_batch , y_batch = iterator.get_next()\n",
        "   \n",
        "        output = h( x_batch , weights , bias ) \n",
        "        loss = epoch_loss.append( mean_squared_error( y_batch , output ).numpy() )\n",
        "    \n",
        "        dJ_dH = mean_squared_error_deriv( y_batch , output)\n",
        "        dH_dW = x_batch\n",
        "        dJ_dW = tf.reduce_mean( dJ_dH * dH_dW )\n",
        "        dJ_dB = tf.reduce_mean( dJ_dH )\n",
        "    \n",
        "        weights -= ( learning_rate * dJ_dW )\n",
        "        bias -= ( learning_rate * dJ_dB ) \n",
        "        \n",
        "    loss = np.array( epoch_loss ).mean()\n",
        "    epochs_plot.append( i + 1 )\n",
        "    loss_plot.append( loss ) \n",
        "    \n",
        "    print( 'Loss is {}'.format( loss ) ) "
      ],
      "metadata": {
        "colab": {
          "base_uri": "https://localhost:8080/"
        },
        "id": "frQmeIU2KL62",
        "outputId": "11dbf514-2a76-4d07-a4a3-a4dd9dc60827"
      },
      "execution_count": 5,
      "outputs": [
        {
          "output_type": "stream",
          "name": "stdout",
          "text": [
            "Loss is 8.937631607055664\n",
            "Loss is 4.381656169891357\n",
            "Loss is 2.1792097091674805\n",
            "Loss is 1.1111316680908203\n",
            "Loss is 0.5912700891494751\n",
            "Loss is 0.3374016284942627\n",
            "Loss is 0.21301862597465515\n",
            "Loss is 0.15157468616962433\n",
            "Loss is 0.12085442245006561\n",
            "Loss is 0.10531525313854218\n"
          ]
        }
      ]
    },
    {
      "cell_type": "code",
      "source": [
        "import matplotlib.pyplot as plt\n",
        "plt.plot( epochs_plot , loss_plot ) \n",
        "plt.show()"
      ],
      "metadata": {
        "colab": {
          "base_uri": "https://localhost:8080/",
          "height": 265
        },
        "id": "SZS-Xp3FKOn8",
        "outputId": "262748d4-b7e3-4aa1-a9bf-8164252d1f36"
      },
      "execution_count": 6,
      "outputs": [
        {
          "output_type": "display_data",
          "data": {
            "text/plain": [
              "<Figure size 432x288 with 1 Axes>"
            ],
            "image/png": "[encoded data removed]"
          },
          "metadata": {
            "needs_background": "light"
          }
        }
      ]
    },
    {
      "cell_type": "code",
      "source": [
        "output = h( test_X , weights , bias ) \n",
        "labels = test_Y\n",
        "\n",
        "accuracy_op = tf.metrics.MeanAbsoluteError() \n",
        "accuracy_op.update_state( labels , output )\n",
        "print( 'Mean Absolute Error = {}'.format( accuracy_op.result().numpy() ) )"
      ],
      "metadata": {
        "colab": {
          "base_uri": "https://localhost:8080/"
        },
        "id": "lB-xPijhKRwu",
        "outputId": "6e260b90-9299-4f78-93ec-b0e1f45dc172"
      },
      "execution_count": 7,
      "outputs": [
        {
          "output_type": "stream",
          "name": "stdout",
          "text": [
            "Mean Absolute Error = 0.3155004382133484\n"
          ]
        }
      ]
    }
  ]
}