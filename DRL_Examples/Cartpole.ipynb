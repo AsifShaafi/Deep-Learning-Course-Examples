{
  "nbformat": 4,
  "nbformat_minor": 0,
  "metadata": {
    "colab": {
      "provenance": [],
      "authorship_tag": "ABX9TyNylS1mSJKYARvGgzSkJLgU",
      "include_colab_link": true
    },
    "kernelspec": {
      "name": "python3",
      "display_name": "Python 3"
    },
    "language_info": {
      "name": "python"
    }
  },
  "cells": [
    {
      "cell_type": "markdown",
      "metadata": {
        "id": "view-in-github",
        "colab_type": "text"
      },
      "source": [
        "<a href=\"https://colab.research.google.com/github/ProfessorDong/Deep-Learning-Course-Examples/blob/master/DRL_Examples/Cartpole.ipynb\" target=\"_parent\"><img src=\"https://colab.research.google.com/assets/colab-badge.svg\" alt=\"Open In Colab\"/></a>"
      ]
    },
    {
      "cell_type": "markdown",
      "source": [
        "# Deep Q-Network: Solving Cartpole with the Gymnasium Environment\n",
        "\n",
        "Deep Q-Networks (DQNs) merge the principles of reinforcement learning with the capabilities of deep neural networks. By approximating Q-values using a deep neural network, DQNs are able to learn the optimal policy for a given problem. DQNs are particularly adept at handling problems with high-dimensional state spaces, such as image-based games. Utilizing the Gymnasium environment, we can effectively implement and test the Deep Q-Network algorithm to address the Cartpole problem."
      ],
      "metadata": {
        "id": "-zAVL7Jz4F99"
      }
    },
    {
      "cell_type": "code",
      "execution_count": 1,
      "metadata": {
        "colab": {
          "base_uri": "https://localhost:8080/"
        },
        "id": "HdlKFjMr4BTT",
        "outputId": "1ab7a3f3-b6d1-494d-c559-f532c53ac263"
      },
      "outputs": [
        {
          "output_type": "stream",
          "name": "stdout",
          "text": [
            "Looking in indexes: https://pypi.org/simple, https://us-python.pkg.dev/colab-wheels/public/simple/\n",
            "Requirement already satisfied: gymnasium[classic_control] in /usr/local/lib/python3.9/dist-packages (0.28.1)\n",
            "Requirement already satisfied: jax-jumpy>=1.0.0 in /usr/local/lib/python3.9/dist-packages (from gymnasium[classic_control]) (1.0.0)\n",
            "Requirement already satisfied: numpy>=1.21.0 in /usr/local/lib/python3.9/dist-packages (from gymnasium[classic_control]) (1.22.4)\n",
            "Requirement already satisfied: farama-notifications>=0.0.1 in /usr/local/lib/python3.9/dist-packages (from gymnasium[classic_control]) (0.0.4)\n",
            "Requirement already satisfied: importlib-metadata>=4.8.0 in /usr/local/lib/python3.9/dist-packages (from gymnasium[classic_control]) (6.4.1)\n",
            "Requirement already satisfied: cloudpickle>=1.2.0 in /usr/local/lib/python3.9/dist-packages (from gymnasium[classic_control]) (2.2.1)\n",
            "Requirement already satisfied: typing-extensions>=4.3.0 in /usr/local/lib/python3.9/dist-packages (from gymnasium[classic_control]) (4.5.0)\n",
            "Requirement already satisfied: pygame==2.1.3 in /usr/local/lib/python3.9/dist-packages (from gymnasium[classic_control]) (2.1.3)\n",
            "Requirement already satisfied: zipp>=0.5 in /usr/local/lib/python3.9/dist-packages (from importlib-metadata>=4.8.0->gymnasium[classic_control]) (3.15.0)\n"
          ]
        }
      ],
      "source": [
        "!pip install gymnasium[classic_control]"
      ]
    },
    {
      "cell_type": "code",
      "source": [
        "import gymnasium as gym\n",
        "import math\n",
        "import random\n",
        "import matplotlib\n",
        "import matplotlib.pyplot as plt\n",
        "\n",
        "from collections import namedtuple, deque\n",
        "from itertools import count\n",
        "\n",
        "import torch\n",
        "import torch.nn as nn\n",
        "import torch.optim as optim\n",
        "import torch.nn.functional as F\n",
        "\n",
        "env = gym.make(\"CartPole-v1\")\n",
        "\n",
        "is_ipython = 'inline' in matplotlib.get_backend()\n",
        "if is_ipython:\n",
        "  from IPython import display\n",
        "\n",
        "plt.ion()\n",
        "\n",
        "device = torch.device(\"cuda\" if torch.cuda.is_available() else \"cpu\")"
      ],
      "metadata": {
        "id": "VykEMNVzL5cx"
      },
      "execution_count": 2,
      "outputs": []
    },
    {
      "cell_type": "code",
      "source": [
        "# Experience Replay Buffer\n",
        "\n",
        "Transition = namedtuple('Transition',('state','action','next_state','reward'))\n",
        "\n",
        "class ReplayMemory(object):\n",
        "  def __init__(self, capacity):\n",
        "    self.memory = deque([], maxlen=capacity)\n",
        "\n",
        "  def push(self,*args):\n",
        "    self.memory.append(Transition(*args))\n",
        "    # Save a transition\n",
        "\n",
        "  def sample(self, batch_size):\n",
        "    return random.sample(self.memory, batch_size)\n",
        "\n",
        "  def __len__(self):\n",
        "    return len(self.memory)"
      ],
      "metadata": {
        "id": "D4YV3Ktj5zON"
      },
      "execution_count": 3,
      "outputs": []
    },
    {
      "cell_type": "code",
      "source": [
        "class DQN(nn.Module):\n",
        "\n",
        "  # Multilayer perceptron with three layers\n",
        "  def __init__(self, n_observations, n_actions):\n",
        "    super(DQN, self).__init__()\n",
        "    self.layer1 = nn.Linear(n_observations,128)\n",
        "    self.layer2 = nn.Linear(128, 128)\n",
        "    self.layer3 = nn.Linear(128, n_actions)\n",
        "\n",
        "  def forward(self, x):\n",
        "    x = F.relu(self.layer1(x))\n",
        "    x = F.relu(self.layer2(x))\n",
        "    return self.layer3(x)"
      ],
      "metadata": {
        "id": "ZlAEHbUY8XME"
      },
      "execution_count": 4,
      "outputs": []
    },
    {
      "cell_type": "code",
      "source": [
        "batch_size = 128 # number of transitions samples from the experience replay buffer\n",
        "gamma = 0.99  # discount factor\n",
        "eps_start = 0.9 # Starting value of epsilon\n",
        "eps_end = 0.05\n",
        "eps_decay = 1000 # rate of exponential decay of epsilon, higher means slower decay\n",
        "tau = 0.005 # update rate of the target network\n",
        "lr =  1e-4 # learning rate of AdamW optimizer"
      ],
      "metadata": {
        "id": "9NpuhfBrML2m"
      },
      "execution_count": 5,
      "outputs": []
    },
    {
      "cell_type": "code",
      "source": [
        "#@title Training\n",
        "\n",
        "n_actions = env.action_space.n  # Get the number of actions from gym action space\n",
        "\n",
        "state, info = env.reset()\n",
        "n_observations = len(state) # Get the number of features in the state observations\n",
        "\n",
        "# Target network is initialized with the same weights as the policy network\n",
        "policy_net = DQN(n_observations, n_actions).to(device)\n",
        "target_net = DQN(n_observations, n_actions).to(device)\n",
        "target_net.load_state_dict(policy_net.state_dict())\n",
        "\n",
        "optimizer = optim.AdamW(policy_net.parameters(), lr=lr, amsgrad=True)\n",
        "\n",
        "memory = ReplayMemory(10000)\n",
        "\n",
        "# Keep track of the number of steps taken by the agent\n",
        "steps_done = 0\n",
        "\n",
        "# Input current state and return an action\n",
        "def select_action(state):\n",
        "  global steps_done\n",
        "  sample = random.random()\n",
        "  eps_threshold = eps_end + (eps_start - eps_end) * math.exp(-1. * steps_done / eps_decay)\n",
        "  steps_done += 1\n",
        "  if sample > eps_threshold:\n",
        "    with torch.no_grad():\n",
        "      # t.max(1) will return the largest column value of each row\n",
        "      # second column on max result is index of where max element was found, so we pick action with the larger expected reward\n",
        "      return policy_net(state).max(1)[1].view(1,1)\n",
        "  else:\n",
        "      return torch.tensor([[env.action_space.sample()]], device=device, dtype=torch.long)\n",
        "\n",
        "# It is used to keep track of the duration of each episode\n",
        "episode_durations = []\n",
        "\n",
        "# Visualize the training progress of the DQN\n",
        "def plot_duration(show_result=False):\n",
        "  plt.figure(1)\n",
        "  durations_t = torch.tensor(episode_durations, dtype=torch.float)\n",
        "  if show_result:\n",
        "    plt.title(\"Result\")\n",
        "  else:\n",
        "    plt.clf()\n",
        "    plt.title('Training')\n",
        "  plt.xlabel('Episode')\n",
        "  plt.ylabel('Duration')\n",
        "  plt.plot(durations_t.numpy())\n",
        "\n",
        "  # Show the 100-episode moving average of the duration\n",
        "  if(len(durations_t) >= 100):\n",
        "    means = durations_t.unfold(0,100,1).mean(1).view(-1)\n",
        "    means = torch.cat((torch.zeros(99),means))\n",
        "    plt.plot(means.numpy())\n",
        "\n",
        "  plt.pause(0.001) # Pause so that plots are updated\n",
        "\n",
        "  if is_ipython:\n",
        "    if not show_result:\n",
        "      display.display(plt.gcf())\n",
        "      display.clear_output(wait=True)\n",
        "    else:\n",
        "      display.display(plt.gcf())"
      ],
      "metadata": {
        "id": "j3CBb9qR9e4R"
      },
      "execution_count": 6,
      "outputs": []
    },
    {
      "cell_type": "code",
      "source": [
        "def optimize_model():\n",
        "  # Check if we have enough samples for a mini bacth\n",
        "  if len(memory) < batch_size:\n",
        "    return\n",
        "    \n",
        "  # Extract a mini-batch of transition (state,action,reward,next_state) from the experience reply memory\n",
        "\n",
        "  transition = memory.sample(batch_size)\n",
        "  \n",
        "  # Convert batch-array of Transitions to Transition of batch-arrays\n",
        "  batch = Transition(*zip(*transition))\n",
        "\n",
        "  # Compute a mask of non-final states and concatenate the batch elements\n",
        "  non_final_mask = torch.tensor(tuple(map(lambda s: s is not None, batch.next_state)),device=device,dtype=torch.bool)\n",
        "  \n",
        "  non_final_next_states = torch.cat([s for s in batch.next_state if s is not None])\n",
        "  state_batch = torch.cat(batch.state)\n",
        "  action_batch = torch.cat(batch.action)\n",
        "  reward_batch = torch.cat(batch.reward)\n",
        "\n",
        "\n",
        "  state_action_values = policy_net(state_batch).gather(1,action_batch)\n",
        "\n",
        "  next_state_values = torch.zeros(batch_size,device=device)\n",
        "  \n",
        "  with torch.no_grad():\n",
        "    next_state_values[non_final_mask] = target_net(non_final_next_states).max(1)[0]\n",
        "\n",
        "  # Expect Q-value for each transition using the target network\n",
        "  expected_state_action_values = (next_state_values * gamma) + reward_batch\n",
        "\n",
        "\n",
        "  # Compute Huber loss\n",
        "  # smooth approximation of the mean square error loss, less sensitive\n",
        "  criterion = nn.SmoothL1Loss()\n",
        "  loss = criterion(state_action_values,\n",
        "                   expected_state_action_values.unsqueeze(1))\n",
        "\n",
        "  # Optimize the model\n",
        "  optimizer.zero_grad()\n",
        "  loss.backward()\n",
        "\n",
        "  # In-place gradient clipping\n",
        "  # maximum value = 100 to prevent exploding gradient problem\n",
        "  torch.nn.utils.clip_grad_value_(policy_net.parameters(),100)\n",
        "  optimizer.step()"
      ],
      "metadata": {
        "id": "HUnU_35OKY7Y"
      },
      "execution_count": 7,
      "outputs": []
    },
    {
      "cell_type": "code",
      "source": [
        "if torch.cuda.is_available():\n",
        "  num_episodes = 1000\n",
        "else:\n",
        "  num_episodes = 500\n",
        "\n",
        "# Iterate for episodes\n",
        "for i_episode in range(num_episodes):\n",
        "  # Intialize the environment and get its state\n",
        "  state,info = env.reset()\n",
        "  state = torch.tensor(state,dtype=torch.float32,\n",
        "                       device=device).unsqueeze(0)\n",
        "  for t in count():\n",
        "    action = select_action(state)\n",
        "    observation , reward , terminated , truncated ,_ = env.step(action.item())\n",
        "    reward = torch.tensor([reward],device = device)\n",
        "\n",
        "    # frame = env.render()\n",
        "    # plt.imshow(frame)\n",
        "    # plt.show()\n",
        "\n",
        "    done  = terminated or truncated\n",
        "\n",
        "    if  terminated:\n",
        "      next_state = None\n",
        "    else:\n",
        "      next_state = torch.tensor(observation,dtype=torch.float32,device=device).unsqueeze(0)  \n",
        "\n",
        "    # Store the transition in memory\n",
        "    memory.push(state,action,next_state,reward)\n",
        "\n",
        "    # Move to the next state\n",
        "    state = next_state\n",
        "\n",
        "    # Optimize\n",
        "    optimize_model()\n",
        "\n",
        "  # Soft update the target network's weights by blending policy network's weights and target network's weights using a hyperparameter tau\n",
        "    target_net_state_dict  = target_net.state_dict()\n",
        "    policy_net_state_dict  = target_net.state_dict()\n",
        "\n",
        "    for key in policy_net_state_dict:\n",
        "      target_net_state_dict[key] = policy_net_state_dict[key]*tau + target_net_state_dict[key]*(1 - tau)\n",
        "\n",
        "    if done:\n",
        "      episode_durations.append(t + 1)\n",
        "      plot_duration()\n",
        "      break\n",
        "\n",
        "print('Complete')\n",
        "plot_duration(show_result=True)\n",
        "plt.ioff()\n",
        "plt.show()    "
      ],
      "metadata": {
        "colab": {
          "base_uri": "https://localhost:8080/",
          "height": 526
        },
        "id": "jIdzhmYCN5z8",
        "outputId": "88941486-51e6-48aa-bc77-edfd14c708a3"
      },
      "execution_count": 8,
      "outputs": [
        {
          "output_type": "stream",
          "name": "stdout",
          "text": [
            "Complete\n"
          ]
        },
        {
          "output_type": "display_data",
          "data": {
            "text/plain": [
              "<Figure size 640x480 with 1 Axes>"
            ],
            "image/png": "[encoded data removed]"
          },
          "metadata": {}
        },
        {
          "output_type": "display_data",
          "data": {
            "text/plain": [
              "<Figure size 640x480 with 0 Axes>"
            ]
          },
          "metadata": {}
        },
        {
          "output_type": "display_data",
          "data": {
            "text/plain": [
              "<Figure size 640x480 with 0 Axes>"
            ]
          },
          "metadata": {}
        }
      ]
    }
  ]
}