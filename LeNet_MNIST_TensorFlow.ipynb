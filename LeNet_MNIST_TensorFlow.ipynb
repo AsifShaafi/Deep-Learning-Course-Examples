{
  "nbformat": 4,
  "nbformat_minor": 0,
  "metadata": {
    "colab": {
      "provenance": [],
      "authorship_tag": "ABX9TyOzkEdIe06h79MilHQFD+7m",
      "include_colab_link": true
    },
    "kernelspec": {
      "name": "python3",
      "display_name": "Python 3"
    },
    "language_info": {
      "name": "python"
    }
  },
  "cells": [
    {
      "cell_type": "markdown",
      "metadata": {
        "id": "view-in-github",
        "colab_type": "text"
      },
      "source": [
        "<a href=\"https://colab.research.google.com/github/ProfessorDong/Deep-Learning-Course-Examples/blob/master/LeNet_MNIST_TensorFlow.ipynb\" target=\"_parent\"><img src=\"https://colab.research.google.com/assets/colab-badge.svg\" alt=\"Open In Colab\"/></a>"
      ]
    },
    {
      "cell_type": "markdown",
      "source": [
        "Implement the LeNet architecture for classification of MNIST data."
      ],
      "metadata": {
        "id": "QqnT-y7SjnF9"
      }
    },
    {
      "cell_type": "code",
      "source": [
        "# import libraries"
      ],
      "metadata": {
        "id": "zGMAdHzjluh9"
      },
      "execution_count": null,
      "outputs": []
    },
    {
      "cell_type": "code",
      "source": [
        "# Load the MNIST dataset using the mnist.load_data() function."
      ],
      "metadata": {
        "id": "PP20BFX_llks"
      },
      "execution_count": null,
      "outputs": []
    },
    {
      "cell_type": "code",
      "source": [
        "# Normalize the pixel values to the range [0, 1] using the astype() method."
      ],
      "metadata": {
        "id": "yeg5fC0cl5km"
      },
      "execution_count": null,
      "outputs": []
    },
    {
      "cell_type": "code",
      "source": [
        "# Reshape the input data to have a single channel using the reshape() method."
      ],
      "metadata": {
        "id": "ijzdXjR_l90A"
      },
      "execution_count": null,
      "outputs": []
    },
    {
      "cell_type": "code",
      "source": [
        "# Convert the labels to one-hot encoding using the to_categorical() function."
      ],
      "metadata": {
        "id": "2-jQFB3fmDNc"
      },
      "execution_count": null,
      "outputs": []
    },
    {
      "cell_type": "code",
      "source": [
        "# Define the LeNet model architecture using the Sequential() function and add convolutional, average pooling, and dense layers using the Conv2D(), AveragePooling2D(), Flatten(), and Dense() functions."
      ],
      "metadata": {
        "id": "bNYJQplcmGxP"
      },
      "execution_count": null,
      "outputs": []
    },
    {
      "cell_type": "code",
      "source": [
        "# Compile the model using the compile() method and specify the optimizer, loss function, and metrics to use during training."
      ],
      "metadata": {
        "id": "xTsZJ0uHmNoV"
      },
      "execution_count": null,
      "outputs": []
    },
    {
      "cell_type": "code",
      "source": [
        "# Train the model using the fit() method and specify the number of epochs to train for and the batch size to use."
      ],
      "metadata": {
        "id": "jrUv7WAzmPLc"
      },
      "execution_count": null,
      "outputs": []
    },
    {
      "cell_type": "code",
      "source": [
        "# Evaluate the model on the test set using the evaluate() method and print the test accuracy."
      ],
      "metadata": {
        "id": "bHXXsPCamSEE"
      },
      "execution_count": null,
      "outputs": []
    },
    {
      "cell_type": "code",
      "source": [
        "# Display a few example plots of test results"
      ],
      "metadata": {
        "id": "4VWhRTC6mrwc"
      },
      "execution_count": null,
      "outputs": []
    },
    {
      "cell_type": "markdown",
      "source": [],
      "metadata": {
        "id": "nK_XJfK_lguY"
      }
    },
    {
      "cell_type": "code",
      "execution_count": 1,
      "metadata": {
        "colab": {
          "base_uri": "https://localhost:8080/"
        },
        "id": "oot17pSii4X1",
        "outputId": "1334819b-bdd3-4397-fd6e-2316e238e53f"
      },
      "outputs": [
        {
          "output_type": "stream",
          "name": "stdout",
          "text": [
            "Downloading data from https://storage.googleapis.com/tensorflow/tf-keras-datasets/mnist.npz\n",
            "11490434/11490434 [==============================] - 0s 0us/step\n",
            "Epoch 1/10\n",
            "469/469 [==============================] - 25s 49ms/step - loss: 0.3985 - accuracy: 0.8855 - val_loss: 0.1280 - val_accuracy: 0.9615\n",
            "Epoch 2/10\n",
            "469/469 [==============================] - 18s 39ms/step - loss: 0.1158 - accuracy: 0.9658 - val_loss: 0.0856 - val_accuracy: 0.9729\n",
            "Epoch 3/10\n",
            "469/469 [==============================] - 17s 37ms/step - loss: 0.0879 - accuracy: 0.9732 - val_loss: 0.0593 - val_accuracy: 0.9818\n",
            "Epoch 4/10\n",
            "469/469 [==============================] - 18s 38ms/step - loss: 0.0708 - accuracy: 0.9785 - val_loss: 0.0543 - val_accuracy: 0.9834\n",
            "Epoch 5/10\n",
            "469/469 [==============================] - 17s 36ms/step - loss: 0.0592 - accuracy: 0.9816 - val_loss: 0.0446 - val_accuracy: 0.9854\n",
            "Epoch 6/10\n",
            "469/469 [==============================] - 19s 41ms/step - loss: 0.0516 - accuracy: 0.9838 - val_loss: 0.0467 - val_accuracy: 0.9852\n",
            "Epoch 7/10\n",
            "469/469 [==============================] - 18s 38ms/step - loss: 0.0455 - accuracy: 0.9859 - val_loss: 0.0527 - val_accuracy: 0.9832\n",
            "Epoch 8/10\n",
            "469/469 [==============================] - 18s 39ms/step - loss: 0.0410 - accuracy: 0.9872 - val_loss: 0.0380 - val_accuracy: 0.9888\n",
            "Epoch 9/10\n",
            "469/469 [==============================] - 18s 38ms/step - loss: 0.0365 - accuracy: 0.9882 - val_loss: 0.0390 - val_accuracy: 0.9886\n",
            "Epoch 10/10\n",
            "469/469 [==============================] - 19s 41ms/step - loss: 0.0329 - accuracy: 0.9896 - val_loss: 0.0344 - val_accuracy: 0.9886\n",
            "313/313 [==============================] - 2s 5ms/step - loss: 0.0344 - accuracy: 0.9886\n",
            "Test accuracy: 0.9886000156402588\n"
          ]
        }
      ],
      "source": [
        "import tensorflow as tf\n",
        "from tensorflow.keras.datasets import mnist\n",
        "from tensorflow.keras.models import Sequential\n",
        "from tensorflow.keras.layers import Conv2D, AveragePooling2D, Flatten, Dense\n",
        "\n",
        "# Load the MNIST dataset\n",
        "(x_train, y_train), (x_test, y_test) = mnist.load_data()\n",
        "\n",
        "# Normalize the pixel values to the range [0, 1]\n",
        "x_train = x_train.astype(\"float32\") / 255.0\n",
        "x_test = x_test.astype(\"float32\") / 255.0\n",
        "\n",
        "# Reshape the input data to have a single channel\n",
        "x_train = x_train.reshape((x_train.shape[0], 28, 28, 1))\n",
        "x_test = x_test.reshape((x_test.shape[0], 28, 28, 1))\n",
        "\n",
        "# Convert the labels to one-hot encoding\n",
        "num_classes = 10\n",
        "y_train = tf.keras.utils.to_categorical(y_train, num_classes)\n",
        "y_test = tf.keras.utils.to_categorical(y_test, num_classes)\n",
        "\n",
        "# Define the LeNet model architecture\n",
        "model = Sequential([\n",
        "    Conv2D(6, (5, 5), activation=\"relu\", input_shape=(28, 28, 1)),\n",
        "    AveragePooling2D(),\n",
        "    Conv2D(16, (5, 5), activation=\"relu\"),\n",
        "    AveragePooling2D(),\n",
        "    Flatten(),\n",
        "    Dense(120, activation=\"relu\"),\n",
        "    Dense(84, activation=\"relu\"),\n",
        "    Dense(num_classes, activation=\"softmax\")\n",
        "])\n",
        "\n",
        "# Compile the model\n",
        "model.compile(optimizer=\"adam\", loss=\"categorical_crossentropy\", metrics=[\"accuracy\"])\n",
        "\n",
        "# Train the model\n",
        "model.fit(x_train, y_train, epochs=10, batch_size=128, validation_data=(x_test, y_test))\n",
        "\n",
        "# Evaluate the model on the test set\n",
        "test_loss, test_acc = model.evaluate(x_test, y_test)\n",
        "print(\"Test accuracy:\", test_acc)\n"
      ]
    },
    {
      "cell_type": "code",
      "source": [
        "import matplotlib.pyplot as plt\n",
        "import numpy as np\n",
        "\n",
        "# Get the predicted labels for the test set\n",
        "y_pred = model.predict(x_test)\n",
        "y_pred = np.argmax(y_pred, axis=1)\n",
        "\n",
        "# Display a few example plots of test results\n",
        "fig, axs = plt.subplots(3, 3, figsize=(8, 8))\n",
        "fig.subplots_adjust(hspace=0.4, wspace=0.4)\n",
        "axs = axs.ravel()\n",
        "for i in range(9):\n",
        "    idx = np.random.randint(0, len(x_test))\n",
        "    axs[i].imshow(x_test[idx, :, :, 0], cmap=\"gray\")\n",
        "    axs[i].set_title(f\"True: {np.argmax(y_test[idx])}, Pred: {y_pred[idx]}\")\n",
        "    axs[i].axis(\"off\")\n",
        "plt.show()\n"
      ],
      "metadata": {
        "colab": {
          "base_uri": "https://localhost:8080/",
          "height": 500
        },
        "id": "jLrorunxk7od",
        "outputId": "9b5ca24c-fbf5-46f8-91ae-9123c432a079"
      },
      "execution_count": 2,
      "outputs": [
        {
          "output_type": "stream",
          "name": "stdout",
          "text": [
            "313/313 [==============================] - 2s 5ms/step\n"
          ]
        },
        {
          "output_type": "display_data",
          "data": {
            "text/plain": [
              "<Figure size 576x576 with 9 Axes>"
            ],
            "image/png": "[encoded data removed]"
          },
          "metadata": {
            "needs_background": "light"
          }
        }
      ]
    }
  ]
}