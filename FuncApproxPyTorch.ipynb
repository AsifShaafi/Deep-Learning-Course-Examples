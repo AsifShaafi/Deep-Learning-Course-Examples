{
  "nbformat": 4,
  "nbformat_minor": 0,
  "metadata": {
    "colab": {
      "provenance": [],
      "authorship_tag": "ABX9TyPVLjVgfr466q0FrLjoBljL",
      "include_colab_link": true
    },
    "kernelspec": {
      "name": "python3",
      "display_name": "Python 3"
    },
    "language_info": {
      "name": "python"
    }
  },
  "cells": [
    {
      "cell_type": "markdown",
      "metadata": {
        "id": "view-in-github",
        "colab_type": "text"
      },
      "source": [
        "<a href=\"https://colab.research.google.com/github/ProfessorDong/Deep-Learning-Course-Examples/blob/master/FuncApproxPyTorch.ipynb\" target=\"_parent\"><img src=\"https://colab.research.google.com/assets/colab-badge.svg\" alt=\"Open In Colab\"/></a>"
      ]
    },
    {
      "cell_type": "markdown",
      "source": [
        "An implementation of a neural network in PyTorch to model the function $f(x) = \\sin(x) + \\sqrt{x}$"
      ],
      "metadata": {
        "id": "2-RI5aHsq_14"
      }
    },
    {
      "cell_type": "code",
      "execution_count": 1,
      "metadata": {
        "id": "KHjvLfXnq34B"
      },
      "outputs": [],
      "source": [
        "import torch\n",
        "import torch.nn as nn\n",
        "import torch.optim as optim\n",
        "import numpy as np\n",
        "import matplotlib.pyplot as plt"
      ]
    },
    {
      "cell_type": "markdown",
      "source": [
        "Define the function to model:\n",
        "\n",
        "In the code, we define a function f that takes a tensor x as input and returns the output tensor obtained by applying the sine and square root functions to x."
      ],
      "metadata": {
        "id": "muLN0IKqrWOK"
      }
    },
    {
      "cell_type": "code",
      "source": [
        "def f(x):\n",
        "    return torch.sin(x) + torch.sqrt(x)"
      ],
      "metadata": {
        "id": "4phjeMnjrZDv"
      },
      "execution_count": 2,
      "outputs": []
    },
    {
      "cell_type": "markdown",
      "source": [
        "Generate the training data:\n",
        "\n",
        "We generate num_points equally spaced points between 0 and 10, and used the f function to obtain the corresponding output values."
      ],
      "metadata": {
        "id": "rk6hybCQrbSc"
      }
    },
    {
      "cell_type": "code",
      "source": [
        "num_points = 1000\n",
        "x_train = torch.linspace(0, 10, num_points)\n",
        "y_train = f(x_train)"
      ],
      "metadata": {
        "id": "TEsuXL4Hrmzr"
      },
      "execution_count": 3,
      "outputs": []
    },
    {
      "cell_type": "markdown",
      "source": [
        "Define the neural network:\n",
        "\n",
        "We define a three-layer feedforward neural network with one input, two hidden, and one output layers. We have used nn.Linear to define the linear transformations of each layer, and nn.Tanh as the activation function."
      ],
      "metadata": {
        "id": "HlnjcNFAruxQ"
      }
    },
    {
      "cell_type": "code",
      "source": [
        "class Net(nn.Module):\n",
        "    def __init__(self):\n",
        "        super(Net, self).__init__()\n",
        "        self.fc1 = nn.Linear(1, 10)\n",
        "        self.fc2 = nn.Linear(10, 10)\n",
        "        self.fc3 = nn.Linear(10, 1)\n",
        "\n",
        "    def forward(self, x):\n",
        "        x = torch.sin(x)\n",
        "        x = self.fc1(x)\n",
        "        x = torch.tanh(x)\n",
        "        x = self.fc2(x)\n",
        "        x = torch.tanh(x)\n",
        "        x = self.fc3(x)\n",
        "        return x"
      ],
      "metadata": {
        "id": "LoAkji5orxHB"
      },
      "execution_count": 4,
      "outputs": []
    },
    {
      "cell_type": "markdown",
      "source": [
        "Train the model:\n",
        "\n",
        "We create an instance of the Net class and define the loss function as mean squared error (MSE). We use the Adam optimizer with a learning rate of 0.01 to update the weights of the network. We train the network on the training data (x_train, y_train) for num_epochs iterations."
      ],
      "metadata": {
        "id": "fPu2bRQdrzpt"
      }
    },
    {
      "cell_type": "code",
      "source": [
        "net = Net()\n",
        "criterion = nn.MSELoss()\n",
        "optimizer = optim.Adam(net.parameters(), lr=0.01)\n",
        "\n",
        "num_epochs = 500\n",
        "for epoch in range(num_epochs):\n",
        "    optimizer.zero_grad()\n",
        "    y_pred = net(x_train.unsqueeze(1))\n",
        "    loss = criterion(y_pred, y_train.unsqueeze(1))\n",
        "    loss.backward()\n",
        "    optimizer.step()"
      ],
      "metadata": {
        "id": "CHBrCazQr12w"
      },
      "execution_count": 5,
      "outputs": []
    },
    {
      "cell_type": "markdown",
      "source": [
        "Evaluate the model:\n",
        "\n",
        "We use the trained network to predict the output values for x_test, and compare the predicted values with the ground truth using a plot. The predicted values are obtained by applying the trained network to x_test, and squeezing the output tensor to obtain a 1D array. The torch.no_grad() context manager is used to disable gradient calculation during the evaluation phase."
      ],
      "metadata": {
        "id": "TWpZFMmtr3yH"
      }
    },
    {
      "cell_type": "code",
      "source": [
        "x_test = torch.linspace(0, 10, 100)\n",
        "y_test = f(x_test)\n",
        "with torch.no_grad():\n",
        "    y_pred = net(x_test.unsqueeze(1))\n",
        "\n",
        "plt.plot(x_train, y_train, '.', label='Training data')\n",
        "plt.plot(x_test, y_test, label='Ground truth')\n",
        "plt.plot(x_test, y_pred.squeeze(), label='Predicted')\n",
        "plt.legend()\n",
        "plt.show()"
      ],
      "metadata": {
        "colab": {
          "base_uri": "https://localhost:8080/",
          "height": 269
        },
        "id": "34mZSkXFr6AY",
        "outputId": "b955a8af-83d0-4c06-a402-46e8a19a7295"
      },
      "execution_count": 6,
      "outputs": [
        {
          "output_type": "display_data",
          "data": {
            "text/plain": [
              "<Figure size 432x288 with 1 Axes>"
            ],
            "image/png": "[encoded data removed]"
          },
          "metadata": {
            "needs_background": "light"
          }
        }
      ]
    },
    {
      "cell_type": "markdown",
      "source": [],
      "metadata": {
        "id": "MT_ZBfvBr7qh"
      }
    }
  ]
}