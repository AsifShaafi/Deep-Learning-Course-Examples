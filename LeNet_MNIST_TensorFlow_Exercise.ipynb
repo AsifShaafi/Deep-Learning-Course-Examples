{
  "nbformat": 4,
  "nbformat_minor": 0,
  "metadata": {
    "colab": {
      "provenance": [],
      "authorship_tag": "ABX9TyPPS1cmXCgjl5IM73ldD4HV",
      "include_colab_link": true
    },
    "kernelspec": {
      "name": "python3",
      "display_name": "Python 3"
    },
    "language_info": {
      "name": "python"
    }
  },
  "cells": [
    {
      "cell_type": "markdown",
      "metadata": {
        "id": "view-in-github",
        "colab_type": "text"
      },
      "source": [
        "<a href=\"https://colab.research.google.com/github/ProfessorDong/Deep-Learning-Course-Examples/blob/master/LeNet_MNIST_TensorFlow_Exercise.ipynb\" target=\"_parent\"><img src=\"https://colab.research.google.com/assets/colab-badge.svg\" alt=\"Open In Colab\"/></a>"
      ]
    },
    {
      "cell_type": "markdown",
      "source": [
        "Implement the LeNet architecture for classification of MNIST data."
      ],
      "metadata": {
        "id": "QqnT-y7SjnF9"
      }
    },
    {
      "cell_type": "code",
      "source": [
        "# import libraries"
      ],
      "metadata": {
        "id": "zGMAdHzjluh9"
      },
      "execution_count": null,
      "outputs": []
    },
    {
      "cell_type": "code",
      "source": [
        "# Load the MNIST dataset using the mnist.load_data() function."
      ],
      "metadata": {
        "id": "PP20BFX_llks"
      },
      "execution_count": null,
      "outputs": []
    },
    {
      "cell_type": "code",
      "source": [
        "# Normalize the pixel values to the range [0, 1] using the astype() method."
      ],
      "metadata": {
        "id": "yeg5fC0cl5km"
      },
      "execution_count": null,
      "outputs": []
    },
    {
      "cell_type": "code",
      "source": [
        "# Reshape the input data to have a single channel using the reshape() method."
      ],
      "metadata": {
        "id": "ijzdXjR_l90A"
      },
      "execution_count": null,
      "outputs": []
    },
    {
      "cell_type": "code",
      "source": [
        "# Convert the labels to one-hot encoding using the to_categorical() function."
      ],
      "metadata": {
        "id": "2-jQFB3fmDNc"
      },
      "execution_count": null,
      "outputs": []
    },
    {
      "cell_type": "code",
      "source": [
        "# Define the LeNet model architecture using the Sequential() function and add convolutional, average pooling, and dense layers using the Conv2D(), AveragePooling2D(), Flatten(), and Dense() functions."
      ],
      "metadata": {
        "id": "bNYJQplcmGxP"
      },
      "execution_count": null,
      "outputs": []
    },
    {
      "cell_type": "code",
      "source": [
        "# Compile the model using the compile() method and specify the optimizer, loss function, and metrics to use during training."
      ],
      "metadata": {
        "id": "xTsZJ0uHmNoV"
      },
      "execution_count": null,
      "outputs": []
    },
    {
      "cell_type": "code",
      "source": [
        "# Train the model using the fit() method and specify the number of epochs to train for and the batch size to use."
      ],
      "metadata": {
        "id": "jrUv7WAzmPLc"
      },
      "execution_count": null,
      "outputs": []
    },
    {
      "cell_type": "code",
      "source": [
        "# Evaluate the model on the test set using the evaluate() method and print the test accuracy."
      ],
      "metadata": {
        "id": "bHXXsPCamSEE"
      },
      "execution_count": null,
      "outputs": []
    },
    {
      "cell_type": "code",
      "source": [
        "# Display a few example plots of test results"
      ],
      "metadata": {
        "id": "4VWhRTC6mrwc"
      },
      "execution_count": null,
      "outputs": []
    }
  ]
}