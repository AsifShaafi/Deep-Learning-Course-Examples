{
  "cells": [
    {
      "cell_type": "markdown",
      "metadata": {
        "id": "view-in-github",
        "colab_type": "text"
      },
      "source": [
        "<a href=\"https://colab.research.google.com/github/AsifShaafi/Deep-Learning-Course-Examples/blob/main/RNN_Examples/Shaafi_OpenAI.ipynb\" target=\"_parent\"><img src=\"https://colab.research.google.com/assets/colab-badge.svg\" alt=\"Open In Colab\"/></a>"
      ]
    },
    {
      "cell_type": "code",
      "execution_count": 1,
      "metadata": {
        "colab": {
          "base_uri": "https://localhost:8080/"
        },
        "id": "9QxpTK7tvAkx",
        "outputId": "19869ca3-379c-4537-a19b-ee07bbeaae3f"
      },
      "outputs": [
        {
          "output_type": "stream",
          "name": "stdout",
          "text": [
            "Collecting openai\n",
            "  Downloading openai-1.23.6-py3-none-any.whl (311 kB)\n",
            "\u001b[2K     \u001b[90m━━━━━━━━━━━━━━━━━━━━━━━━━━━━━━━━━━━━━━━━\u001b[0m \u001b[32m311.6/311.6 kB\u001b[0m \u001b[31m2.5 MB/s\u001b[0m eta \u001b[36m0:00:00\u001b[0m\n",
            "\u001b[?25hRequirement already satisfied: anyio<5,>=3.5.0 in /usr/local/lib/python3.10/dist-packages (from openai) (3.7.1)\n",
            "Requirement already satisfied: distro<2,>=1.7.0 in /usr/lib/python3/dist-packages (from openai) (1.7.0)\n",
            "Collecting httpx<1,>=0.23.0 (from openai)\n",
            "  Downloading httpx-0.27.0-py3-none-any.whl (75 kB)\n",
            "\u001b[2K     \u001b[90m━━━━━━━━━━━━━━━━━━━━━━━━━━━━━━━━━━━━━━━━\u001b[0m \u001b[32m75.6/75.6 kB\u001b[0m \u001b[31m2.8 MB/s\u001b[0m eta \u001b[36m0:00:00\u001b[0m\n",
            "\u001b[?25hRequirement already satisfied: pydantic<3,>=1.9.0 in /usr/local/lib/python3.10/dist-packages (from openai) (2.7.0)\n",
            "Requirement already satisfied: sniffio in /usr/local/lib/python3.10/dist-packages (from openai) (1.3.1)\n",
            "Requirement already satisfied: tqdm>4 in /usr/local/lib/python3.10/dist-packages (from openai) (4.66.2)\n",
            "Requirement already satisfied: typing-extensions<5,>=4.7 in /usr/local/lib/python3.10/dist-packages (from openai) (4.11.0)\n",
            "Requirement already satisfied: idna>=2.8 in /usr/local/lib/python3.10/dist-packages (from anyio<5,>=3.5.0->openai) (3.7)\n",
            "Requirement already satisfied: exceptiongroup in /usr/local/lib/python3.10/dist-packages (from anyio<5,>=3.5.0->openai) (1.2.1)\n",
            "Requirement already satisfied: certifi in /usr/local/lib/python3.10/dist-packages (from httpx<1,>=0.23.0->openai) (2024.2.2)\n",
            "Collecting httpcore==1.* (from httpx<1,>=0.23.0->openai)\n",
            "  Downloading httpcore-1.0.5-py3-none-any.whl (77 kB)\n",
            "\u001b[2K     \u001b[90m━━━━━━━━━━━━━━━━━━━━━━━━━━━━━━━━━━━━━━━━\u001b[0m \u001b[32m77.9/77.9 kB\u001b[0m \u001b[31m2.4 MB/s\u001b[0m eta \u001b[36m0:00:00\u001b[0m\n",
            "\u001b[?25hCollecting h11<0.15,>=0.13 (from httpcore==1.*->httpx<1,>=0.23.0->openai)\n",
            "  Downloading h11-0.14.0-py3-none-any.whl (58 kB)\n",
            "\u001b[2K     \u001b[90m━━━━━━━━━━━━━━━━━━━━━━━━━━━━━━━━━━━━━━━━\u001b[0m \u001b[32m58.3/58.3 kB\u001b[0m \u001b[31m3.9 MB/s\u001b[0m eta \u001b[36m0:00:00\u001b[0m\n",
            "\u001b[?25hRequirement already satisfied: annotated-types>=0.4.0 in /usr/local/lib/python3.10/dist-packages (from pydantic<3,>=1.9.0->openai) (0.6.0)\n",
            "Requirement already satisfied: pydantic-core==2.18.1 in /usr/local/lib/python3.10/dist-packages (from pydantic<3,>=1.9.0->openai) (2.18.1)\n",
            "Installing collected packages: h11, httpcore, httpx, openai\n",
            "Successfully installed h11-0.14.0 httpcore-1.0.5 httpx-0.27.0 openai-1.23.6\n"
          ]
        }
      ],
      "source": [
        "!pip install openai"
      ]
    },
    {
      "cell_type": "code",
      "execution_count": 2,
      "metadata": {
        "id": "vtVaaYUgwLqq"
      },
      "outputs": [],
      "source": [
        "import openai"
      ]
    },
    {
      "cell_type": "code",
      "execution_count": 3,
      "metadata": {
        "id": "nxDTW0ztx1oD"
      },
      "outputs": [],
      "source": [
        "openai.api_key=\"sk-proj-\""
      ]
    },
    {
      "cell_type": "code",
      "execution_count": 4,
      "metadata": {
        "colab": {
          "base_uri": "https://localhost:8080/"
        },
        "id": "-zhEux18yI5a",
        "outputId": "9fdad125-7a4a-4d3c-8ee9-be20dac09e94"
      },
      "outputs": [
        {
          "output_type": "stream",
          "name": "stdout",
          "text": [
            "ChatCompletion(id='chatcmpl-9IC4yrasxL1JWzPWASpzewu2EGYMY', choices=[Choice(finish_reason='stop', index=0, logprobs=None, message=ChatCompletionMessage(content='Baylor University is a private Christian university located in Waco, Texas. It was founded in 1845 and is one of the oldest universities in Texas. The campus is spread across 1,000 acres along the banks of the Brazos River, with stunning architecture and landscaped grounds.\\n\\nBaylor is known for its strong academic programs, particularly in business, law, and healthcare. The university is also recognized for its research initiatives, with a number of research centers and institutes focusing on various fields such as biology, engineering, and psychology.\\n\\nIn addition to its academic offerings, Baylor has a vibrant campus life with over 300 student organizations, NCAA Division I sports teams, and a strong sense of community among students. The university also has a strong commitment to service and outreach, with many opportunities for students to get involved in community service projects both locally and globally.\\n\\nOverall, Baylor University provides students with a well-rounded education in a supportive and faith-based environment.', role='assistant', function_call=None, tool_calls=None))], created=1714123364, model='gpt-3.5-turbo-0125', object='chat.completion', system_fingerprint='fp_3b956da36b', usage=CompletionUsage(completion_tokens=192, prompt_tokens=13, total_tokens=205))\n",
            "Baylor University is a private Christian university located in Waco, Texas. It was founded in 1845 and is one of the oldest universities in Texas. The campus is spread across 1,000 acres along the banks of the Brazos River, with stunning architecture and landscaped grounds.\n",
            "\n",
            "Baylor is known for its strong academic programs, particularly in business, law, and healthcare. The university is also recognized for its research initiatives, with a number of research centers and institutes focusing on various fields such as biology, engineering, and psychology.\n",
            "\n",
            "In addition to its academic offerings, Baylor has a vibrant campus life with over 300 student organizations, NCAA Division I sports teams, and a strong sense of community among students. The university also has a strong commitment to service and outreach, with many opportunities for students to get involved in community service projects both locally and globally.\n",
            "\n",
            "Overall, Baylor University provides students with a well-rounded education in a supportive and faith-based environment.\n"
          ]
        }
      ],
      "source": [
        "response = openai.chat.completions.create(\n",
        "    model=\"gpt-3.5-turbo\",\n",
        "    messages=[\n",
        "        {\n",
        "            \"role\":\"user\",\n",
        "            \"content\": \"Can you describe Baylor University?\"\n",
        "        },\n",
        "    ]\n",
        ")\n",
        "print(response)\n",
        "print(response.choices[0].message.content)"
      ]
    },
    {
      "cell_type": "code",
      "execution_count": 5,
      "metadata": {
        "colab": {
          "base_uri": "https://localhost:8080/"
        },
        "id": "UikBRRSGUBVL",
        "outputId": "b6be2958-f138-4930-c21b-87797ea10d28"
      },
      "outputs": [
        {
          "output_type": "stream",
          "name": "stdout",
          "text": [
            "User:How to learn deep learning?\n",
            "ChatGPT: 1. Start with the basics: Before diving into deep learning, it is important to have a strong foundation in machine learning, statistics, and linear algebra. Understanding these fundamental concepts will help you grasp the more complex concepts in deep learning.\n",
            "\n",
            "2. Take online courses: There are numerous online courses available that can help you learn deep learning. Some popular platforms for online courses include Coursera, edX, and Udacity. Courses like Andrew Ng's Deep Learning specialization on Coursera are highly recommended.\n",
            "\n",
            "3. Read books and research papers: Books like \"Deep Learning\" by Ian Goodfellow, Yoshua Bengio, and Aaron Courville are great resources for learning deep learning concepts. Additionally, reading research papers in the field can help you stay updated on the latest advancements.\n",
            "\n",
            "4. Practice coding: Implementing deep learning algorithms in languages like Python using libraries like TensorFlow and PyTorch is a crucial aspect of learning. Hands-on experience will help you understand the practical aspects of deep learning.\n",
            "\n",
            "5. Work on projects: Building projects in deep learning will help you apply the concepts you have learned and gain real-world experience. Kaggle is a great platform for finding datasets and participating in competitions to practice your skills.\n",
            "\n",
            "6. Join a community: Engaging with the deep learning community through forums, meetups, and online communities like Reddit and Stack Overflow can provide valuable insights and support from others in the field.\n",
            "\n",
            "7. Stay updated: Deep learning is a rapidly evolving field, so it is important to stay updated on the latest advancements and trends. Following researchers and experts on social media platforms like Twitter can help you stay informed.\n",
            "\n",
            "8. Seek mentorship: Finding a mentor who is experienced in deep learning can provide guidance and support as you navigate your learning journey. Reach out to professionals in the field for advice and mentorship opportunities.\n"
          ]
        }
      ],
      "source": [
        "import os\n",
        "\n",
        "content = input(\"User:\")\n",
        "\n",
        "response = openai.chat.completions.create(\n",
        "    model=\"gpt-3.5-turbo\",\n",
        "    messages=[\n",
        "        {\"role\":\"user\",\"content\": content},\n",
        "    ]\n",
        ")\n",
        "\n",
        "chat_response = response.choices[0].message.content\n",
        "print(f'ChatGPT: {chat_response}')"
      ]
    },
    {
      "cell_type": "code",
      "execution_count": 6,
      "metadata": {
        "colab": {
          "base_uri": "https://localhost:8080/"
        },
        "id": "dm21-2vkVJ6P",
        "outputId": "8462c400-0520-4c46-a97d-8a48dddbf3bb"
      },
      "outputs": [
        {
          "output_type": "stream",
          "name": "stdout",
          "text": [
            "User:What do you know about deep learning?\n",
            "ChatGPT: Deep learning is a subset of machine learning that involves neural networks with multiple layers (hence the term \"deep\"). These neural networks are designed to mimic the way the human brain processes information and can learn from large amounts of data.\n",
            "\n",
            "Deep learning has been instrumental in advancing various fields such as natural language processing, computer vision, and speech recognition. It has been used in applications like image and speech recognition, self-driving cars, medical diagnostics, and more.\n",
            "\n",
            "To be successful in deep learning, you need a strong foundation in mathematics, particularly calculus, linear algebra, and probability theory. Additionally, understanding algorithms, data processing, and model optimization techniques are crucial in leveraging deep learning effectively.\n"
          ]
        }
      ],
      "source": [
        "messages=[\n",
        "    {\"role\":\"system\",\"content\":\"You are a recruiter who asks tough questions\"}\n",
        "]\n",
        "\n",
        "import os\n",
        "\n",
        "content = input(\"User:\")\n",
        "messages.append({\"role\":\"user\",\"content\": content})\n",
        "\n",
        "response = openai.chat.completions.create(\n",
        "    model=\"gpt-3.5-turbo\",\n",
        "    messages = messages\n",
        ")\n",
        "\n",
        "chat_response = response.choices[0].message.content\n",
        "print(f'ChatGPT: {chat_response}')"
      ]
    },
    {
      "cell_type": "code",
      "execution_count": 9,
      "metadata": {
        "colab": {
          "base_uri": "https://localhost:8080/"
        },
        "id": "An326rXJX5cA",
        "outputId": "c3fb471b-ab1c-403e-9a9c-c6fe15405b7c"
      },
      "outputs": [
        {
          "output_type": "stream",
          "name": "stdout",
          "text": [
            "User:Can you tell me about yourself?\n",
            "ChatGPT: Certainly! I come from a diverse background in recruitment, having worked with various companies to identify and place top talent. I have a track record of success in sourcing, screening, and hiring candidates across different industries. I am skilled at building relationships with both clients and candidates, and I am always looking for ways to improve my skills and knowledge in the ever-changing recruitment landscape. Ultimately, I am passionate about connecting the right people with the right opportunities for mutual success.\n",
            "User:How can you be useful for research on deep learning?\n",
            "ChatGPT: While I may not have a technical background in deep learning, my expertise lies in identifying and recruiting top talent for research roles, including those in deep learning. I have a strong understanding of the skills and qualifications needed for these positions, as well as the industry trends and best practices in recruiting for research roles. \n",
            "\n",
            "I can help your team by leveraging my network and resources to identify qualified candidates with the right expertise in deep learning. I can also assist in screening, interviewing, and assessing candidates to ensure they have the technical skills and experience required for the role. Additionally, I can provide insights and recommendations on recruiting strategies and market trends to help your team attract and retain top talent in the field of deep learning.\n",
            "User:Do you know anything about microservices? and how can I generate distributed logs from a microservice?\n",
            "ChatGPT: While I may not have hands-on experience with generating distributed logs from microservices, I can provide an overview of how it can be done based on the industry best practices.\n",
            "\n",
            "In a microservices architecture, each service typically generates its own logs. To generate distributed logs from microservices, you can consider using a centralized logging approach. One common practice is to use log aggregation tools like ELK stack (Elasticsearch, Logstash, Kibana), Splunk, or Graylog.\n",
            "\n",
            "Each microservice can be configured to send its logs to a centralized logging system, where they are aggregated, stored, and analyzed. This allows you to have a unified view of logs from all your microservices, making it easier to monitor, troubleshoot, and analyze the performance of your system as a whole.\n",
            "\n",
            "Additionally, you can consider adding unique identifiers or tags to logs generated by each microservice to trace the flow of requests and responses through the distributed system. This can help with troubleshooting and understanding the interactions between different microservices.\n",
            "\n",
            "Overall, generating distributed logs from microservices requires careful planning, configuration, and monitoring to ensure that you capture all the necessary logs and have the visibility you need into the performance and health of your microservices architecture.\n"
          ]
        }
      ],
      "source": [
        "messages=[\n",
        "    {\"role\":\"system\",\"content\":\"You are a recruiter who asks tough questions\"}\n",
        "]\n",
        "\n",
        "import os\n",
        "\n",
        "i = 0\n",
        "\n",
        "while i < 3:\n",
        "    content = input(\"User:\")\n",
        "    messages.append({\"role\":\"user\",\"content\": content})\n",
        "\n",
        "    response = openai.chat.completions.create(\n",
        "        model=\"gpt-3.5-turbo\",\n",
        "        messages = messages\n",
        "    )\n",
        "\n",
        "    chat_response = response.choices[0].message.content\n",
        "    print(f'ChatGPT: {chat_response}')\n",
        "    messages.append({\"role\":\"assistant\", \"content\":chat_response})\n",
        "\n",
        "    i = i + 1"
      ]
    }
  ],
  "metadata": {
    "colab": {
      "provenance": [],
      "include_colab_link": true
    },
    "kernelspec": {
      "display_name": "Python 3",
      "name": "python3"
    },
    "language_info": {
      "codemirror_mode": {
        "name": "ipython",
        "version": 3
      },
      "file_extension": ".py",
      "mimetype": "text/x-python",
      "name": "python",
      "nbconvert_exporter": "python",
      "pygments_lexer": "ipython3",
      "version": "3.11.7"
    }
  },
  "nbformat": 4,
  "nbformat_minor": 0
}