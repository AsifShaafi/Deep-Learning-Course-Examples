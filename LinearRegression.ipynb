{
  "nbformat": 4,
  "nbformat_minor": 0,
  "metadata": {
    "colab": {
      "name": "LinearRegression.ipynb",
      "provenance": [],
      "collapsed_sections": [],
      "authorship_tag": "ABX9TyPa1pdw5zb4hTYP3/hES5WM",
      "include_colab_link": true
    },
    "kernelspec": {
      "name": "python3",
      "display_name": "Python 3"
    },
    "language_info": {
      "name": "python"
    }
  },
  "cells": [
    {
      "cell_type": "markdown",
      "metadata": {
        "id": "view-in-github",
        "colab_type": "text"
      },
      "source": [
        "<a href=\"https://colab.research.google.com/github/ProfessorDong/Deep-Learning-Course-Examples/blob/master/LinearRegression.ipynb\" target=\"_parent\"><img src=\"https://colab.research.google.com/assets/colab-badge.svg\" alt=\"Open In Colab\"/></a>"
      ]
    },
    {
      "cell_type": "code",
      "metadata": {
        "colab": {
          "base_uri": "https://localhost:8080/"
        },
        "id": "_cfzPDWs2x7d",
        "outputId": "4a1aaf65-7030-4412-fa3e-5c4e4379e8e1"
      },
      "source": [
        "!python --version\n",
        "\n",
        "import os\n",
        "os.environ[\"CUDA_DEVICE_ORDER\"]=\"PCI_BUS_ID\"\n",
        "os.environ[\"CUDA_VISIBLE_DEVICES\"]=\"\"\n",
        "\n",
        "%tensorflow_version 2.x\n",
        "import tensorflow as tf\n",
        "print(\"TensorFlow Version: \", tf.__version__)\n",
        "print(\"Num GPUs Available: \", len(tf.config.list_physical_devices('GPU')))"
      ],
      "execution_count": null,
      "outputs": [
        {
          "output_type": "stream",
          "name": "stdout",
          "text": [
            "Python 3.7.11\n",
            "TensorFlow Version:  2.6.0\n",
            "Num GPUs Available:  0\n"
          ]
        }
      ]
    },
    {
      "cell_type": "markdown",
      "metadata": {
        "id": "C9HN_Rt6Fg9x"
      },
      "source": [
        "You need to Restart Runtime to execute the following code, because you are going to re-import tensorflow version 1."
      ]
    },
    {
      "cell_type": "code",
      "metadata": {
        "colab": {
          "base_uri": "https://localhost:8080/"
        },
        "id": "urvB8zNQiTG5",
        "outputId": "3e57295f-4e64-47e6-f361-37e4879ee6da"
      },
      "source": [
        "%tensorflow_version 1.x\n",
        "import numpy as np\n",
        "import tensorflow as tf\n",
        "\n",
        "# The code is written in TensorFlow version 1.  If not using Colab, you need to add the following two lines:\n",
        "# import tensorflow.compat.v1 as tf\n",
        "# tf.disable_v2_behavior()\n",
        "\n",
        "# Model parameters\n",
        "W = tf.Variable([.3], tf.float32)\n",
        "b = tf.Variable([-.3], tf.float32)\n",
        "\n",
        "# Model input and output\n",
        "x = tf.placeholder(tf.float32)\n",
        "y = tf.placeholder(tf.float32)\n",
        "\n",
        "linear_model = W*x+b\n",
        "\n",
        "# Loss\n",
        "loss = tf.reduce_sum(tf.square(linear_model - y))\n",
        "\n",
        "# Optimizer\n",
        "optimizer = tf.train.GradientDescentOptimizer(0.01)\n",
        "train = optimizer.minimize(loss)\n",
        "\n",
        "# Training data\n",
        "x_train = [1,2,3,4]\n",
        "y_train = [0,-1,-2,-4]\n",
        "\n",
        "# Training loop\n",
        "init = tf.global_variables_initializer()\n",
        "sess = tf.Session()\n",
        "#File_Writer = tf.summary.FileWriter('C:\\\\Users\\\\dongl\\\\ClassExamples\\\\graph',sess.graph)\n",
        "\n",
        "# v = session.run(fetches, feed_dict=None, options=None, run_metadata=None)\n",
        "# fetches is a TensorFlow graph element (or a tuple, list, etc. of graph elements);\n",
        "# feed_dict contains the input and expected data used to compute the values of the elements in fetches.\n",
        "\n",
        "sess.run(init)\n",
        "\n",
        "for i in range(1000):\n",
        "    sess.run(train, {x:x_train, y:y_train})\n",
        "    \n",
        "# Evaluate training accuracy\n",
        "curr_W, curr_b, curr_loss = sess.run([W,b,loss],{x:x_train,y:y_train})\n",
        "print(\"W: %s  b: %s  loss: %s\"%(curr_W, curr_b, curr_loss))\n",
        "\n",
        "sess.close()"
      ],
      "execution_count": 15,
      "outputs": [
        {
          "output_type": "stream",
          "name": "stdout",
          "text": [
            "W: [-1.2999957]  b: [1.4999871]  loss: 0.3\n"
          ]
        }
      ]
    },
    {
      "cell_type": "markdown",
      "metadata": {
        "id": "4ZTFVDS5ZLi4"
      },
      "source": [
        "Visualize linear regression result $y = Wx + b$, compared with the training data."
      ]
    },
    {
      "cell_type": "code",
      "metadata": {
        "colab": {
          "base_uri": "https://localhost:8080/",
          "height": 301
        },
        "id": "KnKiPPRNYlLA",
        "outputId": "104dd010-0868-4e7e-cffd-3c0d8ab5288e"
      },
      "source": [
        "import matplotlib.pyplot as plt\n",
        "\n",
        "x = np.linspace(0, 5, 10)\n",
        "y = curr_W * x + curr_b\n",
        "\n",
        "plt.plot(x, y, label='Linear Regression')\n",
        "plt.scatter(x_train, y_train, c=\"r\", marker=\"*\", label='Data Points')\n",
        "plt.xlabel('x', size=16)\n",
        "plt.ylabel('y', size=16)\n",
        "plt.legend()\n",
        "plt.show"
      ],
      "execution_count": 27,
      "outputs": [
        {
          "output_type": "execute_result",
          "data": {
            "text/plain": [
              "<function matplotlib.pyplot.show>"
            ]
          },
          "metadata": {},
          "execution_count": 27
        },
        {
          "output_type": "display_data",
          "data": {
            "image/png": "[encoded data removed]",
            "text/plain": [
              "<Figure size 432x288 with 1 Axes>"
            ]
          },
          "metadata": {
            "needs_background": "light"
          }
        }
      ]
    }
  ]
}