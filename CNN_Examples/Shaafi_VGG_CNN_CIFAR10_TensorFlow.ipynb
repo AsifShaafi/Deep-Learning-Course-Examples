{
  "nbformat": 4,
  "nbformat_minor": 0,
  "metadata": {
    "colab": {
      "provenance": [],
      "include_colab_link": true
    },
    "kernelspec": {
      "name": "python3",
      "display_name": "Python 3"
    },
    "language_info": {
      "name": "python"
    }
  },
  "cells": [
    {
      "cell_type": "markdown",
      "metadata": {
        "id": "view-in-github",
        "colab_type": "text"
      },
      "source": [
        "<a href=\"https://colab.research.google.com/github/AsifShaafi/Deep-Learning-Course-Examples/blob/main/CNN_Examples/Shaafi_VGG_CNN_CIFAR10_TensorFlow.ipynb\" target=\"_parent\"><img src=\"https://colab.research.google.com/assets/colab-badge.svg\" alt=\"Open In Colab\"/></a>"
      ]
    },
    {
      "cell_type": "markdown",
      "source": [
        "Implementing a VGG-style convolutional neural network for classifying CIFAR-10 image data."
      ],
      "metadata": {
        "id": "gw2WKqCDFVXA"
      }
    },
    {
      "cell_type": "code",
      "source": [
        "import tensorflow as tf\n",
        "from tensorflow import keras\n",
        "from tensorflow.keras import layers\n",
        "from tensorflow.keras.datasets import cifar10\n",
        "\n",
        "# Check if GPU is available\n",
        "if tf.test.is_gpu_available():\n",
        "    device = '/GPU:0'\n",
        "else:\n",
        "    device = '/CPU:0'\n",
        "\n",
        "display(device)"
      ],
      "metadata": {
        "colab": {
          "base_uri": "https://localhost:8080/",
          "height": 87
        },
        "id": "kbYYuGidF8LM",
        "outputId": "0933acfe-1b41-45cb-aa83-d3686be8fd30"
      },
      "execution_count": 1,
      "outputs": [
        {
          "output_type": "stream",
          "name": "stderr",
          "text": [
            "WARNING:tensorflow:From <ipython-input-1-23ff410ef3db>:7: is_gpu_available (from tensorflow.python.framework.test_util) is deprecated and will be removed in a future version.\n",
            "Instructions for updating:\n",
            "Use `tf.config.list_physical_devices('GPU')` instead.\n"
          ]
        },
        {
          "output_type": "display_data",
          "data": {
            "text/plain": [
              "'/CPU:0'"
            ],
            "application/vnd.google.colaboratory.intrinsic+json": {
              "type": "string"
            }
          },
          "metadata": {}
        }
      ]
    },
    {
      "cell_type": "code",
      "source": [
        "# Load CIFAR-10 dataset\n",
        "(x_train, y_train), (x_test, y_test) = cifar10.load_data()"
      ],
      "metadata": {
        "id": "oEtHhKbPF-pW",
        "outputId": "d3dac164-efe6-4794-e46b-cec8b9b9ab55",
        "colab": {
          "base_uri": "https://localhost:8080/"
        }
      },
      "execution_count": 2,
      "outputs": [
        {
          "output_type": "stream",
          "name": "stdout",
          "text": [
            "Downloading data from https://www.cs.toronto.edu/~kriz/cifar-10-python.tar.gz\n",
            "170498071/170498071 [==============================] - 3s 0us/step\n"
          ]
        }
      ]
    },
    {
      "cell_type": "code",
      "source": [
        "# Normalize pixel values to the range [0, 1]\n",
        "x_train = x_train.astype(\"float32\") / 255.0\n",
        "x_test = x_test.astype(\"float32\") / 255.0"
      ],
      "metadata": {
        "id": "c2wUnWInGArl"
      },
      "execution_count": 3,
      "outputs": []
    },
    {
      "cell_type": "code",
      "source": [
        "# Define the VGG model architecture\n",
        "with tf.device(device):\n",
        "  model = keras.Sequential(\n",
        "      [\n",
        "          # Convolutional layers\n",
        "          layers.Conv2D(64, (3, 3), activation=\"relu\", padding=\"same\", input_shape=(32, 32, 3)),\n",
        "          layers.Conv2D(64, (3, 3), activation=\"relu\", padding=\"same\"),\n",
        "          layers.MaxPooling2D((2, 2)),\n",
        "          layers.Conv2D(128, (3, 3), activation=\"relu\", padding=\"same\"),\n",
        "          layers.Conv2D(128, (3, 3), activation=\"relu\", padding=\"same\"),\n",
        "          layers.MaxPooling2D((2, 2)),\n",
        "          layers.Conv2D(256, (3, 3), activation=\"relu\", padding=\"same\"),\n",
        "          layers.Conv2D(256, (3, 3), activation=\"relu\", padding=\"same\"),\n",
        "          layers.Conv2D(256, (3, 3), activation=\"relu\", padding=\"same\"),\n",
        "          layers.MaxPooling2D((2, 2)),\n",
        "          layers.Conv2D(512, (3, 3), activation=\"relu\", padding=\"same\"),\n",
        "          layers.Conv2D(512, (3, 3), activation=\"relu\", padding=\"same\"),\n",
        "          layers.Conv2D(512, (3, 3), activation=\"relu\", padding=\"same\"),\n",
        "          layers.MaxPooling2D((2, 2)),\n",
        "          layers.Conv2D(512, (3, 3), activation=\"relu\", padding=\"same\"),\n",
        "          layers.Conv2D(512, (3, 3), activation=\"relu\", padding=\"same\"),\n",
        "          layers.Conv2D(512, (3, 3), activation=\"relu\", padding=\"same\"),\n",
        "          layers.MaxPooling2D((2, 2)),\n",
        "          # Dense layers\n",
        "          layers.Flatten(),\n",
        "          layers.Dense(4096, activation=\"relu\"),\n",
        "          layers.Dense(4096, activation=\"relu\"),\n",
        "          layers.Dense(10, activation=\"softmax\"),\n",
        "       ]\n",
        "      )\n",
        "\n",
        "  model.summary()"
      ],
      "metadata": {
        "colab": {
          "base_uri": "https://localhost:8080/"
        },
        "id": "0WKxHeksGCPE",
        "outputId": "9af337b0-c25d-4343-8214-fab3152be118"
      },
      "execution_count": 4,
      "outputs": [
        {
          "output_type": "stream",
          "name": "stdout",
          "text": [
            "Model: \"sequential\"\n",
            "_________________________________________________________________\n",
            " Layer (type)                Output Shape              Param #   \n",
            "=================================================================\n",
            " conv2d (Conv2D)             (None, 32, 32, 64)        1792      \n",
            "                                                                 \n",
            " conv2d_1 (Conv2D)           (None, 32, 32, 64)        36928     \n",
            "                                                                 \n",
            " max_pooling2d (MaxPooling2  (None, 16, 16, 64)        0         \n",
            " D)                                                              \n",
            "                                                                 \n",
            " conv2d_2 (Conv2D)           (None, 16, 16, 128)       73856     \n",
            "                                                                 \n",
            " conv2d_3 (Conv2D)           (None, 16, 16, 128)       147584    \n",
            "                                                                 \n",
            " max_pooling2d_1 (MaxPoolin  (None, 8, 8, 128)         0         \n",
            " g2D)                                                            \n",
            "                                                                 \n",
            " conv2d_4 (Conv2D)           (None, 8, 8, 256)         295168    \n",
            "                                                                 \n",
            " conv2d_5 (Conv2D)           (None, 8, 8, 256)         590080    \n",
            "                                                                 \n",
            " conv2d_6 (Conv2D)           (None, 8, 8, 256)         590080    \n",
            "                                                                 \n",
            " max_pooling2d_2 (MaxPoolin  (None, 4, 4, 256)         0         \n",
            " g2D)                                                            \n",
            "                                                                 \n",
            " conv2d_7 (Conv2D)           (None, 4, 4, 512)         1180160   \n",
            "                                                                 \n",
            " conv2d_8 (Conv2D)           (None, 4, 4, 512)         2359808   \n",
            "                                                                 \n",
            " conv2d_9 (Conv2D)           (None, 4, 4, 512)         2359808   \n",
            "                                                                 \n",
            " max_pooling2d_3 (MaxPoolin  (None, 2, 2, 512)         0         \n",
            " g2D)                                                            \n",
            "                                                                 \n",
            " conv2d_10 (Conv2D)          (None, 2, 2, 512)         2359808   \n",
            "                                                                 \n",
            " conv2d_11 (Conv2D)          (None, 2, 2, 512)         2359808   \n",
            "                                                                 \n",
            " conv2d_12 (Conv2D)          (None, 2, 2, 512)         2359808   \n",
            "                                                                 \n",
            " max_pooling2d_4 (MaxPoolin  (None, 1, 1, 512)         0         \n",
            " g2D)                                                            \n",
            "                                                                 \n",
            " flatten (Flatten)           (None, 512)               0         \n",
            "                                                                 \n",
            " dense (Dense)               (None, 4096)              2101248   \n",
            "                                                                 \n",
            " dense_1 (Dense)             (None, 4096)              16781312  \n",
            "                                                                 \n",
            " dense_2 (Dense)             (None, 10)                40970     \n",
            "                                                                 \n",
            "=================================================================\n",
            "Total params: 33638218 (128.32 MB)\n",
            "Trainable params: 33638218 (128.32 MB)\n",
            "Non-trainable params: 0 (0.00 Byte)\n",
            "_________________________________________________________________\n"
          ]
        }
      ]
    },
    {
      "cell_type": "code",
      "source": [
        "# Compile the model\n",
        "with tf.device(device):\n",
        "  model.compile(\n",
        "      optimizer=\"adam\", loss=\"sparse_categorical_crossentropy\", metrics=[\"accuracy\"]\n",
        "      )"
      ],
      "metadata": {
        "id": "UHC25ucmGD_S"
      },
      "execution_count": 5,
      "outputs": []
    },
    {
      "cell_type": "code",
      "source": [
        "# Train the model\n",
        "with tf.device(device):\n",
        "  history = model.fit(x_train, y_train, epochs=2, batch_size=64, validation_split=0.1)"
      ],
      "metadata": {
        "colab": {
          "base_uri": "https://localhost:8080/"
        },
        "id": "LJN8dzeZGGu1",
        "outputId": "7e00d226-2dd6-4d66-8316-d0a4c1bc9418"
      },
      "execution_count": null,
      "outputs": [
        {
          "output_type": "stream",
          "name": "stdout",
          "text": [
            "Epoch 1/2\n",
            " 81/704 [==>...........................] - ETA: 1:03:51 - loss: 2.3195 - accuracy: 0.0995"
          ]
        }
      ]
    },
    {
      "cell_type": "code",
      "source": [
        "# Evaluate the model on the test set\n",
        "with tf.device(device):\n",
        "  test_loss, test_acc = model.evaluate(x_test, y_test)\n",
        "\n",
        "print(\"Test loss:\", test_loss)\n",
        "print(\"Test accuracy:\", test_acc)"
      ],
      "metadata": {
        "id": "YWV7lkprGJWD"
      },
      "execution_count": null,
      "outputs": []
    },
    {
      "cell_type": "code",
      "source": [
        "import matplotlib.pyplot as plt\n",
        "import numpy as np\n",
        "\n",
        "# Get predicted labels for the test set\n",
        "y_pred = model.predict(x_test)\n",
        "y_pred_labels = np.argmax(y_pred, axis=1)\n",
        "\n",
        "# Define class names for CIFAR-10 dataset\n",
        "class_names = [\"airplane\", \"automobile\", \"bird\", \"cat\", \"deer\",\n",
        "               \"dog\", \"frog\", \"horse\", \"ship\", \"truck\"]\n",
        "\n",
        "# Create a figure with 16 subplots\n",
        "fig, axes = plt.subplots(4, 4, figsize=(10, 10))\n",
        "axes = axes.ravel()\n",
        "\n",
        "# Plot images with their predicted labels\n",
        "for i in range(16):\n",
        "    axes[i].imshow(x_test[i])\n",
        "    axes[i].set_title(\"True: %s \\nPred: %s\" % (class_names[y_test[i][0]],\n",
        "                                                class_names[y_pred_labels[i]]))\n",
        "    axes[i].axis('off')\n",
        "\n",
        "plt.subplots_adjust(wspace=1, hspace=1)\n",
        "plt.show()"
      ],
      "metadata": {
        "id": "Vv_kuZ9MJa0K"
      },
      "execution_count": null,
      "outputs": []
    }
  ]
}