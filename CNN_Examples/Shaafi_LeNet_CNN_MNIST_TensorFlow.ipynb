{
  "cells": [
    {
      "cell_type": "markdown",
      "metadata": {
        "colab_type": "text",
        "id": "view-in-github"
      },
      "source": [
        "<a href=\"https://colab.research.google.com/github/AsifShaafi/Deep-Learning-Course-Examples/blob/main/CNN_Examples/Shaafi_LeNet_CNN_MNIST_TensorFlow.ipynb\" target=\"_parent\"><img src=\"https://colab.research.google.com/assets/colab-badge.svg\" alt=\"Open In Colab\"/></a>"
      ]
    },
    {
      "cell_type": "markdown",
      "metadata": {
        "id": "QqnT-y7SjnF9"
      },
      "source": [
        "Implement the LeNet architecture for classification of MNIST data."
      ]
    },
    {
      "cell_type": "code",
      "execution_count": null,
      "metadata": {
        "id": "zGMAdHzjluh9"
      },
      "outputs": [],
      "source": [
        "# import libraries\n",
        "import tensorflow as tf\n",
        "from tensorflow.keras.datasets import mnist\n",
        "from tensorflow.keras.models import Sequential\n",
        "from tensorflow.keras.layers import Conv2D, AveragePooling2D, MaxPooling2D, Flatten, Dense, Dropout\n",
        "\n",
        "import matplotlib.pyplot as plt\n",
        "import matplotlib.cm as cm\n",
        "import numpy as np\n",
        "\n"
      ]
    },
    {
      "cell_type": "code",
      "execution_count": null,
      "metadata": {
        "id": "PP20BFX_llks"
      },
      "outputs": [],
      "source": [
        "# Load the MNIST dataset using the mnist.load_data() function.\n",
        "(x_train, y_train), (x_test, y_test) = mnist.load_data()\n"
      ]
    },
    {
      "cell_type": "code",
      "execution_count": null,
      "metadata": {
        "id": "yeg5fC0cl5km"
      },
      "outputs": [],
      "source": [
        "# Normalize the pixel values to the range [0, 1] using the astype() method.\n",
        "x_train = x_train.astype(\"float32\") / 255.0\n",
        "x_test = x_test.astype(\"float32\") / 255.0\n"
      ]
    },
    {
      "cell_type": "code",
      "execution_count": null,
      "metadata": {
        "id": "ijzdXjR_l90A"
      },
      "outputs": [],
      "source": [
        "# Reshape the input data to have a single channel using the reshape() method.\n",
        "x_train = x_train.reshape((x_train.shape[0], 28, 28, 1))\n",
        "x_test = x_test.reshape((x_test.shape[0], 28, 28, 1))\n"
      ]
    },
    {
      "cell_type": "code",
      "execution_count": null,
      "metadata": {
        "id": "2-jQFB3fmDNc"
      },
      "outputs": [],
      "source": [
        "# Convert the labels to one-hot encoding using the to_categorical() function.\n",
        "num_classes = 10\n",
        "y_train = tf.keras.utils.to_categorical(y_train, num_classes)\n",
        "y_test = tf.keras.utils.to_categorical(y_test, num_classes)\n"
      ]
    },
    {
      "cell_type": "code",
      "execution_count": null,
      "metadata": {
        "id": "bNYJQplcmGxP",
        "outputId": "2a62a240-c4a2-4033-b2e2-3ae4278e476a"
      },
      "outputs": [
        {
          "name": "stdout",
          "output_type": "stream",
          "text": [
            "Model: \"sequential_2\"\n",
            "_________________________________________________________________\n",
            " Layer (type)                Output Shape              Param #   \n",
            "=================================================================\n",
            " conv2d_4 (Conv2D)           (None, 28, 28, 6)         156       \n",
            "                                                                 \n",
            " average_pooling2d (Average  (None, 14, 14, 6)         0         \n",
            " Pooling2D)                                                      \n",
            "                                                                 \n",
            " conv2d_5 (Conv2D)           (None, 10, 10, 16)        2416      \n",
            "                                                                 \n",
            " max_pooling2d_4 (MaxPoolin  (None, 5, 5, 16)          0         \n",
            " g2D)                                                            \n",
            "                                                                 \n",
            " flatten_2 (Flatten)         (None, 400)               0         \n",
            "                                                                 \n",
            " dense_6 (Dense)             (None, 120)               48120     \n",
            "                                                                 \n",
            " dense_7 (Dense)             (None, 84)                10164     \n",
            "                                                                 \n",
            " dense_8 (Dense)             (None, 10)                850       \n",
            "                                                                 \n",
            "=================================================================\n",
            "Total params: 61706 (241.04 KB)\n",
            "Trainable params: 61706 (241.04 KB)\n",
            "Non-trainable params: 0 (0.00 Byte)\n",
            "_________________________________________________________________\n"
          ]
        }
      ],
      "source": [
        "# Define the LeNet model architecture using the Sequential() function and\n",
        "# add convolutional, average pooling, and dense layers using the\n",
        "# Conv2D(), AveragePooling2D(), Flatten(), and Dense() functions.\n",
        "model = Sequential([\n",
        "    Conv2D(6, (5, 5), activation=\"relu\", padding='same', input_shape=(28, 28, 1)),\n",
        "    # AveragePooling2D(),\n",
        "    MaxPooling2D((2, 2,), strides=(2, 2)),\n",
        "    Conv2D(16, (5, 5), activation=\"relu\"),\n",
        "    # AveragePooling2D(),\n",
        "    MaxPooling2D((2, 2,), strides=(2, 2)),\n",
        "    Flatten(),\n",
        "    Dense(120, activation=\"relu\"),\n",
        "    Dense(84, activation=\"relu\"),\n",
        "    Dense(num_classes, activation=\"softmax\")\n",
        "])\n",
        "\n",
        "model.summary()"
      ]
    },
    {
      "cell_type": "code",
      "execution_count": null,
      "metadata": {
        "id": "xTsZJ0uHmNoV"
      },
      "outputs": [],
      "source": [
        "# Compile the model using the compile() method and\n",
        "# specify the optimizer, loss function, and metrics to use during training.\n",
        "model.compile(optimizer=\"adam\", loss=\"categorical_crossentropy\", metrics=[\"accuracy\"])\n"
      ]
    },
    {
      "cell_type": "code",
      "execution_count": null,
      "metadata": {
        "id": "jrUv7WAzmPLc",
        "outputId": "fd1e602b-4a88-4c2c-cb89-c5d8a8071e3f"
      },
      "outputs": [
        {
          "name": "stdout",
          "output_type": "stream",
          "text": [
            "Epoch 1/10\n",
            "469/469 [==============================] - 4s 9ms/step - loss: 0.3200 - accuracy: 0.9036 - val_loss: 0.0721 - val_accuracy: 0.9775\n",
            "Epoch 2/10\n",
            "469/469 [==============================] - 4s 8ms/step - loss: 0.0934 - accuracy: 0.9718 - val_loss: 0.0729 - val_accuracy: 0.9769\n",
            "Epoch 3/10\n",
            "469/469 [==============================] - 4s 8ms/step - loss: 0.0672 - accuracy: 0.9792 - val_loss: 0.0432 - val_accuracy: 0.9852\n",
            "Epoch 4/10\n",
            "469/469 [==============================] - 4s 8ms/step - loss: 0.0535 - accuracy: 0.9832 - val_loss: 0.0416 - val_accuracy: 0.9865\n",
            "Epoch 5/10\n",
            "469/469 [==============================] - 4s 8ms/step - loss: 0.0464 - accuracy: 0.9854 - val_loss: 0.0322 - val_accuracy: 0.9890\n",
            "Epoch 6/10\n",
            "469/469 [==============================] - 4s 8ms/step - loss: 0.0385 - accuracy: 0.9881 - val_loss: 0.0339 - val_accuracy: 0.9890\n",
            "Epoch 7/10\n",
            "469/469 [==============================] - 4s 8ms/step - loss: 0.0342 - accuracy: 0.9894 - val_loss: 0.0311 - val_accuracy: 0.9903\n",
            "Epoch 8/10\n",
            "469/469 [==============================] - 4s 8ms/step - loss: 0.0317 - accuracy: 0.9900 - val_loss: 0.0313 - val_accuracy: 0.9901\n",
            "Epoch 9/10\n",
            "469/469 [==============================] - 4s 8ms/step - loss: 0.0277 - accuracy: 0.9913 - val_loss: 0.0331 - val_accuracy: 0.9898\n",
            "Epoch 10/10\n",
            "469/469 [==============================] - 4s 8ms/step - loss: 0.0247 - accuracy: 0.9922 - val_loss: 0.0293 - val_accuracy: 0.9888\n"
          ]
        },
        {
          "data": {
            "text/plain": [
              "<keras.src.callbacks.History at 0x353077990>"
            ]
          },
          "execution_count": 8,
          "metadata": {},
          "output_type": "execute_result"
        }
      ],
      "source": [
        "# Train the model using the fit() method and specify the number of epochs to train for and the batch size to use.\n",
        "model.fit(x_train, y_train, epochs=10, batch_size=128, validation_data=(x_test, y_test))\n"
      ]
    },
    {
      "cell_type": "code",
      "execution_count": null,
      "metadata": {
        "id": "bHXXsPCamSEE",
        "outputId": "dfa5b68b-8fcc-451e-9c23-f03230e3429c"
      },
      "outputs": [
        {
          "name": "stdout",
          "output_type": "stream",
          "text": [
            "  1/313 [..............................] - ETA: 4s - loss: 0.0118 - accuracy: 1.0000"
          ]
        },
        {
          "name": "stdout",
          "output_type": "stream",
          "text": [
            "313/313 [==============================] - 0s 1ms/step - loss: 0.0293 - accuracy: 0.9888\n",
            "Test Loss:  0.029292916879057884\n",
            "Test Accuracy: 0.9887999892234802\n"
          ]
        }
      ],
      "source": [
        "# Evaluate the model on the test set using the evaluate() method and print the test accuracy.\n",
        "test_loss, test_acc = model.evaluate(x_test, y_test)\n",
        "print(\"Test Loss: \", test_loss)\n",
        "print(\"Test Accuracy:\", test_acc)"
      ]
    },
    {
      "cell_type": "code",
      "execution_count": null,
      "metadata": {
        "id": "RqMIyNs7ZyiI",
        "outputId": "e37e39c6-2a2c-4a1f-d271-0244c4393ca7"
      },
      "outputs": [
        {
          "name": "stdout",
          "output_type": "stream",
          "text": [
            "1/1 [==============================] - 0s 45ms/step\n",
            "3\n"
          ]
        },
        {
          "data": {
            "image/png": "[encoded data removed]",
            "text/plain": [
              "<Figure size 640x480 with 1 Axes>"
            ]
          },
          "metadata": {},
          "output_type": "display_data"
        }
      ],
      "source": [
        "# One image prediction\n",
        "image_index = 200\n",
        "plt.imshow(x_test[image_index].reshape(28, 28), cmap='Greys')\n",
        "pred = model.predict(x_test[image_index].reshape(1, 28, 28, 1))\n",
        "print(pred.argmax())"
      ]
    },
    {
      "cell_type": "code",
      "execution_count": null,
      "metadata": {
        "id": "4VWhRTC6mrwc",
        "outputId": "72ec2cda-c652-4354-bfbc-2f3b9e18223d"
      },
      "outputs": [
        {
          "name": "stdout",
          "output_type": "stream",
          "text": [
            "313/313 [==============================] - 1s 2ms/step\n"
          ]
        },
        {
          "data": {
            "image/png": "[encoded data removed]",
            "text/plain": [
              "<Figure size 800x800 with 9 Axes>"
            ]
          },
          "metadata": {},
          "output_type": "display_data"
        }
      ],
      "source": [
        "# Display a few example plots of test results\n",
        "# Get the predicted labels for the test set\n",
        "y_pred = model.predict(x_test)\n",
        "y_pred = np.argmax(y_pred, axis=1)\n",
        "\n",
        "# Display a few example plots of test results\n",
        "fig, axs = plt.subplots(3, 3, figsize=(8, 8))\n",
        "fig.subplots_adjust(hspace=0.4, wspace=0.4)\n",
        "axs = axs.ravel()\n",
        "for i in range(9):\n",
        "    idx = np.random.randint(0, len(x_test))\n",
        "    axs[i].imshow(x_test[idx, :, :, 0], cmap=\"gray\")\n",
        "    axs[i].set_title(f\"True: {np.argmax(y_test[idx])}, Pred: {y_pred[idx]}\")\n",
        "    axs[i].axis(\"off\")\n",
        "plt.show()\n"
      ]
    }
  ],
  "metadata": {
    "colab": {
      "include_colab_link": true,
      "provenance": []
    },
    "kernelspec": {
      "display_name": "Python 3",
      "name": "python3"
    },
    "language_info": {
      "codemirror_mode": {
        "name": "ipython",
        "version": 3
      },
      "file_extension": ".py",
      "mimetype": "text/x-python",
      "name": "python",
      "nbconvert_exporter": "python",
      "pygments_lexer": "ipython3",
      "version": "3.9.18"
    }
  },
  "nbformat": 4,
  "nbformat_minor": 0
}
