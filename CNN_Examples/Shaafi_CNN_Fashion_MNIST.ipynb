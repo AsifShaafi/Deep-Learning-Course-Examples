{
  "cells": [
    {
      "cell_type": "markdown",
      "metadata": {
        "colab_type": "text",
        "id": "view-in-github"
      },
      "source": [
        "<a href=\"https://colab.research.google.com/github/ProfessorDong/Deep-Learning-Course-Examples/blob/master/CNN_Examples/fashion_mnist.ipynb\" target=\"_parent\"><img src=\"https://colab.research.google.com/assets/colab-badge.svg\" alt=\"Open In Colab\"/></a>"
      ]
    },
    {
      "cell_type": "markdown",
      "metadata": {
        "id": "8TlEhsfJ9rti"
      },
      "source": [
        "# Image Classification using Fashion-MNIST image data"
      ]
    },
    {
      "cell_type": "code",
      "execution_count": 1,
      "metadata": {
        "colab": {
          "base_uri": "https://localhost:8080/"
        },
        "id": "usCuJHFQqqFz",
        "outputId": "38699c17-1955-418e-fdf9-9d42ddf7e45b"
      },
      "outputs": [
        {
          "name": "stdout",
          "output_type": "stream",
          "text": [
            "2.11.0\n"
          ]
        }
      ],
      "source": [
        "import tensorflow as tf\n",
        "from tensorflow import keras\n",
        "print(tf.__version__)\n",
        "\n",
        "import numpy as np\n",
        "import matplotlib.pyplot as plt"
      ]
    },
    {
      "cell_type": "markdown",
      "metadata": {
        "id": "dtQfJNudsBZI"
      },
      "source": [
        "## Load image data\n",
        "\n",
        "Fashion-MNIST is a dataset of Zalando's article images consisting of a training set of 60,000 examples and a test set of 10,000 examples. Each example is a 28x28 grayscale image, associated with a label from 10 classes.\n",
        "\n",
        "https://www.tensorflow.org/datasets/catalog/fashion_mnist\n",
        "\n",
        "https://github.com/zalandoresearch/fashion-mnist"
      ]
    },
    {
      "cell_type": "code",
      "execution_count": 2,
      "metadata": {
        "colab": {
          "base_uri": "https://localhost:8080/"
        },
        "id": "LHrt3jJRrbM5",
        "outputId": "996e0460-e775-40b6-c118-f3dfa0b5ef67"
      },
      "outputs": [
        {
          "name": "stdout",
          "output_type": "stream",
          "text": [
            "Downloading data from https://storage.googleapis.com/tensorflow/tf-keras-datasets/train-labels-idx1-ubyte.gz\n",
            "29515/29515 [==============================] - 0s 2us/step\n",
            "Downloading data from https://storage.googleapis.com/tensorflow/tf-keras-datasets/train-images-idx3-ubyte.gz\n",
            "26421880/26421880 [==============================] - 1s 0us/step\n",
            "Downloading data from https://storage.googleapis.com/tensorflow/tf-keras-datasets/t10k-labels-idx1-ubyte.gz\n",
            "5148/5148 [==============================] - 0s 0s/step\n",
            "Downloading data from https://storage.googleapis.com/tensorflow/tf-keras-datasets/t10k-images-idx3-ubyte.gz\n",
            "4422102/4422102 [==============================] - 0s 0us/step\n"
          ]
        }
      ],
      "source": [
        "fashion_mnist = keras.datasets.fashion_mnist\n",
        "(train_images, train_labels), (test_images, test_labels) = fashion_mnist.load_data()"
      ]
    },
    {
      "cell_type": "markdown",
      "metadata": {
        "id": "Bhv14ObBswiA"
      },
      "source": [
        "Pixel values are between 0 and 255, 0 being black and 255 white (grey-scale image).\n",
        "\n",
        "Check the loaded data - Image"
      ]
    },
    {
      "cell_type": "code",
      "execution_count": 3,
      "metadata": {
        "colab": {
          "base_uri": "https://localhost:8080/"
        },
        "id": "HLX_RkQGsI6o",
        "outputId": "421b06ea-b1ef-4f4b-a08a-8326dd687cc4"
      },
      "outputs": [
        {
          "name": "stdout",
          "output_type": "stream",
          "text": [
            "(60000, 28, 28)\n",
            "[[  0   0   0   0   0   0   0   0   0   0   0   0   0   0   0   0   0   0\n",
            "    0   0   0   0   0   0   0   0   0   0]\n",
            " [  0   0   0   0   0   0   0   0   0   0   0   0   0   0   0   0   0   0\n",
            "    0   0   0   0   0   0   0   0   0   0]\n",
            " [  0   0   0   0   0   0   0   0   0   0   0   0   0   0   0   0   0   0\n",
            "    0   0   0   0   0   0   0   0   0   0]\n",
            " [  0   0   0   0   0   0   0   0   0   0   0   0   1   0   0  13  73   0\n",
            "    0   1   4   0   0   0   0   1   1   0]\n",
            " [  0   0   0   0   0   0   0   0   0   0   0   0   3   0  36 136 127  62\n",
            "   54   0   0   0   1   3   4   0   0   3]\n",
            " [  0   0   0   0   0   0   0   0   0   0   0   0   6   0 102 204 176 134\n",
            "  144 123  23   0   0   0   0  12  10   0]\n",
            " [  0   0   0   0   0   0   0   0   0   0   0   0   0   0 155 236 207 178\n",
            "  107 156 161 109  64  23  77 130  72  15]\n",
            " [  0   0   0   0   0   0   0   0   0   0   0   1   0  69 207 223 218 216\n",
            "  216 163 127 121 122 146 141  88 172  66]\n",
            " [  0   0   0   0   0   0   0   0   0   1   1   1   0 200 232 232 233 229\n",
            "  223 223 215 213 164 127 123 196 229   0]\n",
            " [  0   0   0   0   0   0   0   0   0   0   0   0   0 183 225 216 223 228\n",
            "  235 227 224 222 224 221 223 245 173   0]\n",
            " [  0   0   0   0   0   0   0   0   0   0   0   0   0 193 228 218 213 198\n",
            "  180 212 210 211 213 223 220 243 202   0]\n",
            " [  0   0   0   0   0   0   0   0   0   1   3   0  12 219 220 212 218 192\n",
            "  169 227 208 218 224 212 226 197 209  52]\n",
            " [  0   0   0   0   0   0   0   0   0   0   6   0  99 244 222 220 218 203\n",
            "  198 221 215 213 222 220 245 119 167  56]\n",
            " [  0   0   0   0   0   0   0   0   0   4   0   0  55 236 228 230 228 240\n",
            "  232 213 218 223 234 217 217 209  92   0]\n",
            " [  0   0   1   4   6   7   2   0   0   0   0   0 237 226 217 223 222 219\n",
            "  222 221 216 223 229 215 218 255  77   0]\n",
            " [  0   3   0   0   0   0   0   0   0  62 145 204 228 207 213 221 218 208\n",
            "  211 218 224 223 219 215 224 244 159   0]\n",
            " [  0   0   0   0  18  44  82 107 189 228 220 222 217 226 200 205 211 230\n",
            "  224 234 176 188 250 248 233 238 215   0]\n",
            " [  0  57 187 208 224 221 224 208 204 214 208 209 200 159 245 193 206 223\n",
            "  255 255 221 234 221 211 220 232 246   0]\n",
            " [  3 202 228 224 221 211 211 214 205 205 205 220 240  80 150 255 229 221\n",
            "  188 154 191 210 204 209 222 228 225   0]\n",
            " [ 98 233 198 210 222 229 229 234 249 220 194 215 217 241  65  73 106 117\n",
            "  168 219 221 215 217 223 223 224 229  29]\n",
            " [ 75 204 212 204 193 205 211 225 216 185 197 206 198 213 240 195 227 245\n",
            "  239 223 218 212 209 222 220 221 230  67]\n",
            " [ 48 203 183 194 213 197 185 190 194 192 202 214 219 221 220 236 225 216\n",
            "  199 206 186 181 177 172 181 205 206 115]\n",
            " [  0 122 219 193 179 171 183 196 204 210 213 207 211 210 200 196 194 191\n",
            "  195 191 198 192 176 156 167 177 210  92]\n",
            " [  0   0  74 189 212 191 175 172 175 181 185 188 189 188 193 198 204 209\n",
            "  210 210 211 188 188 194 192 216 170   0]\n",
            " [  2   0   0   0  66 200 222 237 239 242 246 243 244 221 220 193 191 179\n",
            "  182 182 181 176 166 168  99  58   0   0]\n",
            " [  0   0   0   0   0   0   0  40  61  44  72  41  35   0   0   0   0   0\n",
            "    0   0   0   0   0   0   0   0   0   0]\n",
            " [  0   0   0   0   0   0   0   0   0   0   0   0   0   0   0   0   0   0\n",
            "    0   0   0   0   0   0   0   0   0   0]\n",
            " [  0   0   0   0   0   0   0   0   0   0   0   0   0   0   0   0   0   0\n",
            "    0   0   0   0   0   0   0   0   0   0]]\n"
          ]
        }
      ],
      "source": [
        "print(train_images.shape)\n",
        "print(train_images[0,:])"
      ]
    },
    {
      "cell_type": "code",
      "execution_count": 4,
      "metadata": {
        "colab": {
          "base_uri": "https://localhost:8080/",
          "height": 266
        },
        "id": "zekY0RBftpAA",
        "outputId": "ab724ca3-e9d9-4a1e-803e-0be69b941918"
      },
      "outputs": [
        {
          "data": {
            "image/png": "[encoded data removed]",
            "text/plain": [
              "<Figure size 640x480 with 2 Axes>"
            ]
          },
          "metadata": {},
          "output_type": "display_data"
        }
      ],
      "source": [
        "plt.figure()\n",
        "plt.imshow(train_images[36])\n",
        "plt.colorbar()\n",
        "plt.grid(False)\n",
        "plt.show()"
      ]
    },
    {
      "cell_type": "markdown",
      "metadata": {
        "id": "kXHL34qutEww"
      },
      "source": [
        "Labels are integers from 0 to 9.  Each represents a specific article of clothing.\n",
        "\n",
        "Check the loaded data - Label"
      ]
    },
    {
      "cell_type": "code",
      "execution_count": 5,
      "metadata": {
        "colab": {
          "base_uri": "https://localhost:8080/"
        },
        "id": "k1SaLSmPspYw",
        "outputId": "a13932d7-4869-4c54-9622-098bfab8f6aa"
      },
      "outputs": [
        {
          "data": {
            "text/plain": [
              "array([9, 0, 0, 3, 0, 2, 7, 2, 5, 5, 0, 9], dtype=uint8)"
            ]
          },
          "execution_count": 5,
          "metadata": {},
          "output_type": "execute_result"
        }
      ],
      "source": [
        "train_labels[:12]  # First 12 training labels"
      ]
    },
    {
      "cell_type": "markdown",
      "metadata": {
        "id": "WuQc91CCl_Cw"
      },
      "source": [
        "Define class names"
      ]
    },
    {
      "cell_type": "code",
      "execution_count": 6,
      "metadata": {
        "id": "fwNkcOhPtpMX"
      },
      "outputs": [],
      "source": [
        "class_names = ['T-shirt/top', 'Trouser', 'Pullover', 'Dress', 'Coat', 'Sandal', 'Shirt', 'Sneaker', 'Bag', 'Ankle boot']"
      ]
    },
    {
      "cell_type": "markdown",
      "metadata": {
        "id": "44S38onPrbDw"
      },
      "source": [
        "## Data Preprocessing"
      ]
    },
    {
      "cell_type": "code",
      "execution_count": 7,
      "metadata": {
        "id": "0YEcXFcLuVx_"
      },
      "outputs": [],
      "source": [
        "train_images = train_images / 255.0\n",
        "test_images = test_images / 255.0\n",
        "\n",
        "train_images = train_images.astype('float32')\n",
        "test_images = test_images.astype('float32')\n",
        "\n",
        "# Reshape the array to 4-dims so that it can work with the Keras API\n",
        "train_images = train_images.reshape(train_images.shape[0], 28, 28, 1)\n",
        "test_images = test_images.reshape(test_images.shape[0], 28, 28, 1)\n",
        "input_shape = (28, 28, 1)"
      ]
    },
    {
      "cell_type": "markdown",
      "metadata": {
        "id": "p7Q2UPVMufYW"
      },
      "source": [
        "## Build the Model"
      ]
    },
    {
      "cell_type": "code",
      "execution_count": 8,
      "metadata": {
        "id": "kOlqAcnfuieP"
      },
      "outputs": [],
      "source": [
        "model = keras.Sequential([\n",
        "    keras.layers.Conv2D(6, kernel_size=(5,5), padding='same', input_shape=input_shape),\n",
        "    keras.layers.MaxPooling2D(pool_size=(2,2)),\n",
        "    keras.layers.Conv2D(16, kernel_size=(5,5)),\n",
        "    keras.layers.MaxPooling2D(pool_size=(2,2)),\n",
        "    keras.layers.Flatten(),\n",
        "    keras.layers.Dense(128, activation='relu'),\n",
        "    keras.layers.Dense(64, activation='relu'),\n",
        "    keras.layers.Dropout(0.2),\n",
        "    keras.layers.Dense(10, activation='softmax')\n",
        "])"
      ]
    },
    {
      "cell_type": "code",
      "execution_count": 9,
      "metadata": {
        "colab": {
          "base_uri": "https://localhost:8080/"
        },
        "id": "wC1SK5bZ7X7k",
        "outputId": "05b634d2-ac45-4ee5-b4b8-6c35fe25fde2"
      },
      "outputs": [
        {
          "name": "stdout",
          "output_type": "stream",
          "text": [
            "Model: \"sequential\"\n",
            "_________________________________________________________________\n",
            " Layer (type)                Output Shape              Param #   \n",
            "=================================================================\n",
            " conv2d (Conv2D)             (None, 28, 28, 6)         156       \n",
            "                                                                 \n",
            " max_pooling2d (MaxPooling2D  (None, 14, 14, 6)        0         \n",
            " )                                                               \n",
            "                                                                 \n",
            " conv2d_1 (Conv2D)           (None, 10, 10, 16)        2416      \n",
            "                                                                 \n",
            " max_pooling2d_1 (MaxPooling  (None, 5, 5, 16)         0         \n",
            " 2D)                                                             \n",
            "                                                                 \n",
            " flatten (Flatten)           (None, 400)               0         \n",
            "                                                                 \n",
            " dense (Dense)               (None, 128)               51328     \n",
            "                                                                 \n",
            " dense_1 (Dense)             (None, 64)                8256      \n",
            "                                                                 \n",
            " dropout (Dropout)           (None, 64)                0         \n",
            "                                                                 \n",
            " dense_2 (Dense)             (None, 10)                650       \n",
            "                                                                 \n",
            "=================================================================\n",
            "Total params: 62,806\n",
            "Trainable params: 62,806\n",
            "Non-trainable params: 0\n",
            "_________________________________________________________________\n"
          ]
        }
      ],
      "source": [
        "model.summary()"
      ]
    },
    {
      "cell_type": "markdown",
      "metadata": {
        "id": "tdTQocvrvkKv"
      },
      "source": [
        "## Compile the Model"
      ]
    },
    {
      "cell_type": "code",
      "execution_count": 10,
      "metadata": {
        "id": "e1KtOpDTvmSY"
      },
      "outputs": [],
      "source": [
        "model.compile(optimizer='adam',\n",
        "              loss='sparse_categorical_crossentropy',\n",
        "              metrics=['accuracy'])"
      ]
    },
    {
      "cell_type": "markdown",
      "metadata": {
        "id": "4Mf-hV_Kv9Fo"
      },
      "source": [
        "## Train the Model"
      ]
    },
    {
      "cell_type": "code",
      "execution_count": 11,
      "metadata": {
        "colab": {
          "base_uri": "https://localhost:8080/"
        },
        "id": "PB82VLNRv_PX",
        "outputId": "a3ebb6d7-bacf-415f-fc6d-f2f83cc1ff74"
      },
      "outputs": [
        {
          "name": "stdout",
          "output_type": "stream",
          "text": [
            "Epoch 1/30\n",
            "1875/1875 [==============================] - 17s 8ms/step - loss: 0.5449 - accuracy: 0.8048\n",
            "Epoch 2/30\n",
            "1875/1875 [==============================] - 14s 7ms/step - loss: 0.3597 - accuracy: 0.8697\n",
            "Epoch 3/30\n",
            "1875/1875 [==============================] - 18s 10ms/step - loss: 0.3104 - accuracy: 0.8869\n",
            "Epoch 4/30\n",
            "1875/1875 [==============================] - 19s 10ms/step - loss: 0.2830 - accuracy: 0.8959\n",
            "Epoch 5/30\n",
            "1875/1875 [==============================] - 14s 7ms/step - loss: 0.2585 - accuracy: 0.9051\n",
            "Epoch 6/30\n",
            "1875/1875 [==============================] - 14s 8ms/step - loss: 0.2403 - accuracy: 0.9109\n",
            "Epoch 7/30\n",
            "1875/1875 [==============================] - 15s 8ms/step - loss: 0.2262 - accuracy: 0.9163\n",
            "Epoch 8/30\n",
            "1875/1875 [==============================] - 16s 9ms/step - loss: 0.2106 - accuracy: 0.9207\n",
            "Epoch 9/30\n",
            "1875/1875 [==============================] - 14s 8ms/step - loss: 0.1971 - accuracy: 0.9258\n",
            "Epoch 10/30\n",
            "1875/1875 [==============================] - 16s 8ms/step - loss: 0.1880 - accuracy: 0.9290\n",
            "Epoch 11/30\n",
            "1875/1875 [==============================] - 18s 9ms/step - loss: 0.1754 - accuracy: 0.9336\n",
            "Epoch 12/30\n",
            "1875/1875 [==============================] - 17s 9ms/step - loss: 0.1660 - accuracy: 0.9367\n",
            "Epoch 13/30\n",
            "1875/1875 [==============================] - 17s 9ms/step - loss: 0.1606 - accuracy: 0.9397\n",
            "Epoch 14/30\n",
            "1875/1875 [==============================] - 17s 9ms/step - loss: 0.1512 - accuracy: 0.9414\n",
            "Epoch 15/30\n",
            "1875/1875 [==============================] - 16s 9ms/step - loss: 0.1429 - accuracy: 0.9455\n",
            "Epoch 16/30\n",
            "1875/1875 [==============================] - 16s 9ms/step - loss: 0.1361 - accuracy: 0.9481\n",
            "Epoch 17/30\n",
            "1875/1875 [==============================] - 14s 8ms/step - loss: 0.1290 - accuracy: 0.9507\n",
            "Epoch 18/30\n",
            "1875/1875 [==============================] - 15s 8ms/step - loss: 0.1266 - accuracy: 0.9506\n",
            "Epoch 19/30\n",
            "1875/1875 [==============================] - 16s 8ms/step - loss: 0.1219 - accuracy: 0.9528\n",
            "Epoch 20/30\n",
            "1875/1875 [==============================] - 16s 9ms/step - loss: 0.1146 - accuracy: 0.9550\n",
            "Epoch 21/30\n",
            "1875/1875 [==============================] - 16s 8ms/step - loss: 0.1125 - accuracy: 0.9564\n",
            "Epoch 22/30\n",
            "1875/1875 [==============================] - 15s 8ms/step - loss: 0.1054 - accuracy: 0.9596\n",
            "Epoch 23/30\n",
            "1875/1875 [==============================] - 16s 8ms/step - loss: 0.1062 - accuracy: 0.9586\n",
            "Epoch 24/30\n",
            "1875/1875 [==============================] - 15s 8ms/step - loss: 0.0985 - accuracy: 0.9610\n",
            "Epoch 25/30\n",
            "1875/1875 [==============================] - 15s 8ms/step - loss: 0.0968 - accuracy: 0.9619\n",
            "Epoch 26/30\n",
            "1875/1875 [==============================] - 16s 8ms/step - loss: 0.0958 - accuracy: 0.9627\n",
            "Epoch 27/30\n",
            "1875/1875 [==============================] - 16s 9ms/step - loss: 0.0906 - accuracy: 0.9646\n",
            "Epoch 28/30\n",
            "1875/1875 [==============================] - 16s 8ms/step - loss: 0.0879 - accuracy: 0.9646\n",
            "Epoch 29/30\n",
            "1875/1875 [==============================] - 16s 8ms/step - loss: 0.0880 - accuracy: 0.9658\n",
            "Epoch 30/30\n",
            "1875/1875 [==============================] - 16s 8ms/step - loss: 0.0825 - accuracy: 0.9676\n"
          ]
        },
        {
          "data": {
            "text/plain": [
              "<keras.callbacks.History at 0x1fb2209ca60>"
            ]
          },
          "execution_count": 11,
          "metadata": {},
          "output_type": "execute_result"
        }
      ],
      "source": [
        "model.fit(train_images, train_labels, epochs=30)"
      ]
    },
    {
      "cell_type": "markdown",
      "metadata": {
        "id": "p5L-u4twwfsl"
      },
      "source": [
        "## Evaluate the Model"
      ]
    },
    {
      "cell_type": "code",
      "execution_count": 12,
      "metadata": {
        "colab": {
          "base_uri": "https://localhost:8080/"
        },
        "id": "ob-06S51wkLu",
        "outputId": "98f7f14d-d324-4067-cf77-19b98481ae4f"
      },
      "outputs": [
        {
          "name": "stdout",
          "output_type": "stream",
          "text": [
            "313/313 [==============================] - 1s 3ms/step - loss: 0.5373 - accuracy: 0.8971\n",
            "Test Accuracy: 0.8970999717712402\n"
          ]
        }
      ],
      "source": [
        "test_loss, test_acc = model.evaluate(test_images, test_labels, verbose=1)\n",
        "print('Test Accuracy:', test_acc)"
      ]
    },
    {
      "cell_type": "markdown",
      "metadata": {
        "id": "RpArkIhtxR0P"
      },
      "source": [
        "## Make a Prediction"
      ]
    },
    {
      "cell_type": "code",
      "execution_count": 13,
      "metadata": {
        "colab": {
          "base_uri": "https://localhost:8080/",
          "height": 525
        },
        "id": "4q8BDi5FxUNG",
        "outputId": "6249382c-1f90-44c3-e203-8c8ae1db23b5"
      },
      "outputs": [
        {
          "name": "stdout",
          "output_type": "stream",
          "text": [
            "313/313 [==============================] - 2s 4ms/step\n",
            "[[9.7903801e-27 9.8448492e-24 3.9788825e-29 ... 6.1266581e-10\n",
            "  4.2265149e-26 1.0000000e+00]\n",
            " [2.2922645e-15 8.4196517e-32 1.0000000e+00 ... 1.0392261e-35\n",
            "  5.4825557e-17 0.0000000e+00]\n",
            " [2.6940286e-33 1.0000000e+00 0.0000000e+00 ... 0.0000000e+00\n",
            "  0.0000000e+00 0.0000000e+00]\n",
            " ...\n",
            " [2.0784354e-18 1.3383831e-22 5.5247972e-17 ... 6.1963196e-15\n",
            "  1.0000000e+00 9.5886017e-21]\n",
            " [1.7349486e-26 1.0000000e+00 1.1624552e-25 ... 5.9786239e-27\n",
            "  5.4695971e-27 1.2280815e-20]\n",
            " [9.7935296e-15 1.9455493e-17 3.3123792e-12 ... 6.0349191e-04\n",
            "  8.4912788e-10 3.1715647e-08]]\n",
            "6\n",
            "Shirt\n"
          ]
        },
        {
          "data": {
            "image/png": "[encoded data removed]",
            "text/plain": [
              "<Figure size 640x480 with 2 Axes>"
            ]
          },
          "metadata": {},
          "output_type": "display_data"
        }
      ],
      "source": [
        "predictions = model.predict(test_images)\n",
        "print(predictions)\n",
        "# predictions = model.predict([test_images[0]])\n",
        "\n",
        "print(np.argmax(predictions[101]))\n",
        "print(class_names[np.argmax(predictions[101])])\n",
        "\n",
        "plt.figure()\n",
        "plt.imshow(test_images[101].reshape(28,28))\n",
        "plt.colorbar()\n",
        "plt.grid(False)\n",
        "plt.show()"
      ]
    },
    {
      "cell_type": "code",
      "execution_count": 14,
      "metadata": {
        "colab": {
          "base_uri": "https://localhost:8080/",
          "height": 317
        },
        "id": "A2X4IOx9yk--",
        "outputId": "d5ad5c97-ed09-4255-bf79-47748d5d38fc"
      },
      "outputs": [
        {
          "name": "stdout",
          "output_type": "stream",
          "text": [
            "1/1 [==============================] - 0s 24ms/step\n"
          ]
        },
        {
          "data": {
            "image/png": "[encoded data removed]",
            "text/plain": [
              "<Figure size 640x480 with 2 Axes>"
            ]
          },
          "metadata": {},
          "output_type": "display_data"
        },
        {
          "name": "stdout",
          "output_type": "stream",
          "text": [
            "Correct label: Pullover\n",
            "Guessed label: Pullover\n"
          ]
        }
      ],
      "source": [
        "COLOR = 'white'\n",
        "plt.rcParams['text.color'] = COLOR\n",
        "plt.rcParams['axes.labelcolor'] = COLOR \n",
        "\n",
        "def show_image(img, label, guess):\n",
        "  img = img.reshape(28,28)\n",
        "  plt.figure()\n",
        "  plt.imshow(img, cmap=plt.cm.binary)\n",
        "  # plt.title(\"Corrected label: \" + label)\n",
        "  # plt.xlabel(\"Guessed label: \" + guess)\n",
        "  plt.colorbar()\n",
        "  plt.grid(False)\n",
        "  plt.show()\n",
        "  print(\"Correct label: \" + label)\n",
        "  print(\"Guessed label: \" + guess)\n",
        "\n",
        "def predict(model, image, correct_label):\n",
        "  class_names = ['T-shirt/top', 'Trouser', 'Pullover', 'Dress', 'Coat', 'Sandal', 'Shirt', 'Sneaker', 'Bag', 'Ankle boot']\n",
        "  prediction = model.predict(np.array([image]))\n",
        "  predicted_class = class_names[np.argmax(prediction)]\n",
        "  show_image(image, class_names[correct_label], predicted_class)\n",
        "\n",
        "def get_number():\n",
        "  while True:\n",
        "    num = input(\"Choose a number: \")\n",
        "    if num.isdigit():\n",
        "      num = int(num)\n",
        "      if 0<=num<=1000:\n",
        "        return int(num)\n",
        "    else:\n",
        "      print(\"Try again...\")\n",
        "\n",
        "num = get_number()\n",
        "image = test_images[num]\n",
        "label = test_labels[num]\n",
        "predict(model, image, label)"
      ]
    }
  ],
  "metadata": {
    "colab": {
      "authorship_tag": "ABX9TyMLGzTAj8wrlqOmGcBmPvt6",
      "collapsed_sections": [],
      "include_colab_link": true,
      "name": "fashion_mnist.ipynb",
      "provenance": []
    },
    "kernelspec": {
      "display_name": "Python 3",
      "name": "python3"
    },
    "language_info": {
      "codemirror_mode": {
        "name": "ipython",
        "version": 3
      },
      "file_extension": ".py",
      "mimetype": "text/x-python",
      "name": "python",
      "nbconvert_exporter": "python",
      "pygments_lexer": "ipython3",
      "version": "3.9.18"
    }
  },
  "nbformat": 4,
  "nbformat_minor": 0
}
