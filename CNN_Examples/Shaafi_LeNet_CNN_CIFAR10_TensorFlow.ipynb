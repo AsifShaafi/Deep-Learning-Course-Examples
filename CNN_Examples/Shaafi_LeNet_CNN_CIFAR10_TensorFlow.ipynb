{
  "cells": [
    {
      "cell_type": "markdown",
      "metadata": {
        "id": "view-in-github",
        "colab_type": "text"
      },
      "source": [
        "<a href=\"https://colab.research.google.com/github/AsifShaafi/Deep-Learning-Course-Examples/blob/main/CNN_Examples/Shaafi_LeNet_CNN_CIFAR10_TensorFlow.ipynb\" target=\"_parent\"><img src=\"https://colab.research.google.com/assets/colab-badge.svg\" alt=\"Open In Colab\"/></a>"
      ]
    },
    {
      "cell_type": "markdown",
      "metadata": {
        "id": "QqnT-y7SjnF9"
      },
      "source": [
        "Implement the LeNet architecture for classification of CIFAR10 data."
      ]
    },
    {
      "cell_type": "code",
      "execution_count": 1,
      "metadata": {
        "id": "zGMAdHzjluh9"
      },
      "outputs": [],
      "source": [
        "# import libraries\n",
        "import tensorflow as tf\n",
        "\n",
        "import matplotlib.pyplot as plt\n",
        "import numpy as np\n",
        "\n",
        "from keras.src.optimizers import SGD\n",
        "from keras.src.layers import Activation\n",
        "from tensorflow.keras.datasets import cifar10\n",
        "from tensorflow.keras.models import Sequential\n",
        "from tensorflow.keras.layers import Conv2D, Dense, Flatten, MaxPooling2D, AveragePooling2D\n",
        "from tensorflow.keras.callbacks import LearningRateScheduler, TensorBoard\n"
      ]
    },
    {
      "cell_type": "code",
      "execution_count": 2,
      "metadata": {
        "id": "PP20BFX_llks",
        "outputId": "b1b795a2-3ce4-44ce-92ea-01cc260dc9aa",
        "colab": {
          "base_uri": "https://localhost:8080/"
        }
      },
      "outputs": [
        {
          "output_type": "stream",
          "name": "stdout",
          "text": [
            "Downloading data from https://www.cs.toronto.edu/~kriz/cifar-10-python.tar.gz\n",
            "170498071/170498071 [==============================] - 4s 0us/step\n"
          ]
        }
      ],
      "source": [
        "# Load the CIFAR10 dataset using the cifar10.load_data() function.\n",
        "(x_train, y_train), (x_test, y_test) = cifar10.load_data()"
      ]
    },
    {
      "cell_type": "code",
      "execution_count": 3,
      "metadata": {
        "id": "yeg5fC0cl5km"
      },
      "outputs": [],
      "source": [
        "# Normalize the pixel values to the range [0, 1] using the astype() method.\n",
        "x_train = x_train.astype(\"float32\") / 255.0\n",
        "x_test = x_test.astype(\"float32\") / 255.0\n"
      ]
    },
    {
      "cell_type": "code",
      "execution_count": 4,
      "metadata": {
        "id": "2-jQFB3fmDNc"
      },
      "outputs": [],
      "source": [
        "# Convert the labels to one-hot encoding using the to_categorical() function.\n",
        "num_classes = 10\n",
        "y_train = tf.keras.utils.to_categorical(y_train, num_classes)\n",
        "y_test = tf.keras.utils.to_categorical(y_test, num_classes)\n"
      ]
    },
    {
      "cell_type": "code",
      "execution_count": 5,
      "metadata": {
        "id": "h7uu_dl1n3k6"
      },
      "outputs": [],
      "source": [
        "# Define the class names\n",
        "class_names = ['airplane','automobile','bird','cat','deer','dog','frog','horse','ship','truck']\n"
      ]
    },
    {
      "cell_type": "code",
      "execution_count": 6,
      "metadata": {
        "id": "bNYJQplcmGxP",
        "outputId": "2fba4499-550b-4d4a-cd0a-c98b9a8cf36e",
        "colab": {
          "base_uri": "https://localhost:8080/"
        }
      },
      "outputs": [
        {
          "output_type": "stream",
          "name": "stdout",
          "text": [
            "Model: \"sequential\"\n",
            "_________________________________________________________________\n",
            " Layer (type)                Output Shape              Param #   \n",
            "=================================================================\n",
            " conv2d (Conv2D)             (None, 28, 28, 6)         456       \n",
            "                                                                 \n",
            " average_pooling2d (Average  (None, 14, 14, 6)         0         \n",
            " Pooling2D)                                                      \n",
            "                                                                 \n",
            " activation (Activation)     (None, 14, 14, 6)         0         \n",
            "                                                                 \n",
            " conv2d_1 (Conv2D)           (None, 10, 10, 16)        2416      \n",
            "                                                                 \n",
            " average_pooling2d_1 (Avera  (None, 5, 5, 16)          0         \n",
            " gePooling2D)                                                    \n",
            "                                                                 \n",
            " activation_1 (Activation)   (None, 5, 5, 16)          0         \n",
            "                                                                 \n",
            " flatten (Flatten)           (None, 400)               0         \n",
            "                                                                 \n",
            " dense (Dense)               (None, 120)               48120     \n",
            "                                                                 \n",
            " dense_1 (Dense)             (None, 84)                10164     \n",
            "                                                                 \n",
            " dense_2 (Dense)             (None, 10)                850       \n",
            "                                                                 \n",
            "=================================================================\n",
            "Total params: 62006 (242.21 KB)\n",
            "Trainable params: 62006 (242.21 KB)\n",
            "Non-trainable params: 0 (0.00 Byte)\n",
            "_________________________________________________________________\n"
          ]
        }
      ],
      "source": [
        "# Define the LeNet model architecture using the Sequential() function and\n",
        "# add convolutional, average pooling, and dense layers using the\n",
        "# Conv2D(), AveragePooling2D(), Flatten(), and Dense() functions.\n",
        "model = Sequential([\n",
        "    Conv2D(6, 5, padding='valid', activation = 'relu', input_shape=(32,32,3)),\n",
        "    AveragePooling2D(2),\n",
        "    Activation('sigmoid'),\n",
        "    Conv2D(16, 5, padding='valid', activation = 'relu'),\n",
        "    AveragePooling2D(2),\n",
        "    Activation('sigmoid'),\n",
        "    Flatten(),\n",
        "    Dense(120, activation = 'tanh'),\n",
        "    Dense(84, activation = 'tanh'),\n",
        "    Dense(10, activation = 'softmax')\n",
        "])\n",
        "\n",
        "model.summary()"
      ]
    },
    {
      "cell_type": "code",
      "execution_count": 7,
      "metadata": {
        "id": "xTsZJ0uHmNoV",
        "outputId": "ca71ee5a-6cd9-46ed-9784-8d963d4c0ca1",
        "colab": {
          "base_uri": "https://localhost:8080/"
        }
      },
      "outputs": [
        {
          "output_type": "stream",
          "name": "stderr",
          "text": [
            "/usr/local/lib/python3.10/dist-packages/keras/src/optimizers/legacy/gradient_descent.py:114: UserWarning: The `lr` argument is deprecated, use `learning_rate` instead.\n",
            "  super().__init__(name, **kwargs)\n"
          ]
        }
      ],
      "source": [
        "# Compile the model using the compile() method and\n",
        "# specify the optimizer, loss function, and metrics to use during training.\n",
        "model.compile(optimizer=SGD(lr=0.01, momentum=0.9), loss=\"categorical_crossentropy\", metrics=[\"accuracy\"])\n"
      ]
    },
    {
      "cell_type": "code",
      "execution_count": 8,
      "metadata": {
        "id": "jrUv7WAzmPLc",
        "outputId": "3bc641eb-3c29-4def-c0e4-a75d085ab20c",
        "colab": {
          "base_uri": "https://localhost:8080/"
        }
      },
      "outputs": [
        {
          "output_type": "stream",
          "name": "stdout",
          "text": [
            "Epoch 1/60\n",
            "782/782 [==============================] - 6s 4ms/step - loss: 2.3319 - accuracy: 0.0986 - val_loss: 2.3387 - val_accuracy: 0.1000\n",
            "Epoch 2/60\n",
            "782/782 [==============================] - 3s 4ms/step - loss: 2.2641 - accuracy: 0.1294 - val_loss: 2.0676 - val_accuracy: 0.2261\n",
            "Epoch 3/60\n",
            "782/782 [==============================] - 3s 4ms/step - loss: 2.0576 - accuracy: 0.2197 - val_loss: 2.0028 - val_accuracy: 0.2482\n",
            "Epoch 4/60\n",
            "782/782 [==============================] - 3s 4ms/step - loss: 1.9875 - accuracy: 0.2490 - val_loss: 1.9509 - val_accuracy: 0.2704\n",
            "Epoch 5/60\n",
            "782/782 [==============================] - 3s 4ms/step - loss: 1.9404 - accuracy: 0.2697 - val_loss: 1.9052 - val_accuracy: 0.2950\n",
            "Epoch 6/60\n",
            "782/782 [==============================] - 3s 4ms/step - loss: 1.8973 - accuracy: 0.2867 - val_loss: 1.8697 - val_accuracy: 0.3155\n",
            "Epoch 7/60\n",
            "782/782 [==============================] - 3s 4ms/step - loss: 1.8607 - accuracy: 0.3063 - val_loss: 1.8901 - val_accuracy: 0.3044\n",
            "Epoch 8/60\n",
            "782/782 [==============================] - 3s 4ms/step - loss: 1.8230 - accuracy: 0.3259 - val_loss: 1.9088 - val_accuracy: 0.3085\n",
            "Epoch 9/60\n",
            "782/782 [==============================] - 3s 4ms/step - loss: 1.7898 - accuracy: 0.3408 - val_loss: 1.7175 - val_accuracy: 0.3692\n",
            "Epoch 10/60\n",
            "782/782 [==============================] - 3s 4ms/step - loss: 1.7491 - accuracy: 0.3560 - val_loss: 1.7446 - val_accuracy: 0.3517\n",
            "Epoch 11/60\n",
            "782/782 [==============================] - 3s 4ms/step - loss: 1.7393 - accuracy: 0.3591 - val_loss: 1.7203 - val_accuracy: 0.3759\n",
            "Epoch 12/60\n",
            "782/782 [==============================] - 3s 3ms/step - loss: 1.7020 - accuracy: 0.3745 - val_loss: 1.6792 - val_accuracy: 0.3837\n",
            "Epoch 13/60\n",
            "782/782 [==============================] - 3s 4ms/step - loss: 1.6977 - accuracy: 0.3741 - val_loss: 1.6565 - val_accuracy: 0.3910\n",
            "Epoch 14/60\n",
            "782/782 [==============================] - 3s 4ms/step - loss: 1.6731 - accuracy: 0.3820 - val_loss: 1.6356 - val_accuracy: 0.3900\n",
            "Epoch 15/60\n",
            "782/782 [==============================] - 3s 4ms/step - loss: 1.6696 - accuracy: 0.3828 - val_loss: 1.7387 - val_accuracy: 0.3458\n",
            "Epoch 16/60\n",
            "782/782 [==============================] - 3s 4ms/step - loss: 1.6534 - accuracy: 0.3911 - val_loss: 1.6497 - val_accuracy: 0.3935\n",
            "Epoch 17/60\n",
            "782/782 [==============================] - 3s 4ms/step - loss: 1.6451 - accuracy: 0.3937 - val_loss: 1.6335 - val_accuracy: 0.3933\n",
            "Epoch 18/60\n",
            "782/782 [==============================] - 3s 4ms/step - loss: 1.6362 - accuracy: 0.3959 - val_loss: 1.6372 - val_accuracy: 0.4032\n",
            "Epoch 19/60\n",
            "782/782 [==============================] - 3s 4ms/step - loss: 1.6259 - accuracy: 0.3992 - val_loss: 1.5852 - val_accuracy: 0.4099\n",
            "Epoch 20/60\n",
            "782/782 [==============================] - 3s 4ms/step - loss: 1.6135 - accuracy: 0.4039 - val_loss: 1.6162 - val_accuracy: 0.4010\n",
            "Epoch 21/60\n",
            "782/782 [==============================] - 3s 4ms/step - loss: 1.6029 - accuracy: 0.4081 - val_loss: 1.5847 - val_accuracy: 0.4155\n",
            "Epoch 22/60\n",
            "782/782 [==============================] - 3s 3ms/step - loss: 1.5879 - accuracy: 0.4130 - val_loss: 1.6224 - val_accuracy: 0.3967\n",
            "Epoch 23/60\n",
            "782/782 [==============================] - 3s 4ms/step - loss: 1.5784 - accuracy: 0.4157 - val_loss: 1.5639 - val_accuracy: 0.4279\n",
            "Epoch 24/60\n",
            "782/782 [==============================] - 3s 4ms/step - loss: 1.5597 - accuracy: 0.4260 - val_loss: 1.5595 - val_accuracy: 0.4208\n",
            "Epoch 25/60\n",
            "782/782 [==============================] - 3s 4ms/step - loss: 1.5338 - accuracy: 0.4348 - val_loss: 1.5105 - val_accuracy: 0.4373\n",
            "Epoch 26/60\n",
            "782/782 [==============================] - 3s 4ms/step - loss: 1.5167 - accuracy: 0.4415 - val_loss: 1.4931 - val_accuracy: 0.4481\n",
            "Epoch 27/60\n",
            "782/782 [==============================] - 3s 3ms/step - loss: 1.5050 - accuracy: 0.4473 - val_loss: 1.5199 - val_accuracy: 0.4418\n",
            "Epoch 28/60\n",
            "782/782 [==============================] - 3s 4ms/step - loss: 1.4848 - accuracy: 0.4534 - val_loss: 1.5301 - val_accuracy: 0.4405\n",
            "Epoch 29/60\n",
            "782/782 [==============================] - 3s 4ms/step - loss: 1.4774 - accuracy: 0.4578 - val_loss: 1.4401 - val_accuracy: 0.4676\n",
            "Epoch 30/60\n",
            "782/782 [==============================] - 3s 4ms/step - loss: 1.4732 - accuracy: 0.4601 - val_loss: 1.4519 - val_accuracy: 0.4642\n",
            "Epoch 31/60\n",
            "782/782 [==============================] - 3s 4ms/step - loss: 1.4553 - accuracy: 0.4672 - val_loss: 1.4168 - val_accuracy: 0.4817\n",
            "Epoch 32/60\n",
            "782/782 [==============================] - 3s 3ms/step - loss: 1.4424 - accuracy: 0.4725 - val_loss: 1.4746 - val_accuracy: 0.4591\n",
            "Epoch 33/60\n",
            "782/782 [==============================] - 3s 4ms/step - loss: 1.4314 - accuracy: 0.4735 - val_loss: 1.4254 - val_accuracy: 0.4743\n",
            "Epoch 34/60\n",
            "782/782 [==============================] - 3s 4ms/step - loss: 1.4338 - accuracy: 0.4754 - val_loss: 1.4657 - val_accuracy: 0.4553\n",
            "Epoch 35/60\n",
            "782/782 [==============================] - 3s 4ms/step - loss: 1.4173 - accuracy: 0.4826 - val_loss: 1.4596 - val_accuracy: 0.4567\n",
            "Epoch 36/60\n",
            "782/782 [==============================] - 3s 4ms/step - loss: 1.4125 - accuracy: 0.4812 - val_loss: 1.4796 - val_accuracy: 0.4591\n",
            "Epoch 37/60\n",
            "782/782 [==============================] - 3s 4ms/step - loss: 1.4072 - accuracy: 0.4857 - val_loss: 1.4366 - val_accuracy: 0.4774\n",
            "Epoch 38/60\n",
            "782/782 [==============================] - 3s 4ms/step - loss: 1.4018 - accuracy: 0.4911 - val_loss: 1.4410 - val_accuracy: 0.4811\n",
            "Epoch 39/60\n",
            "782/782 [==============================] - 3s 3ms/step - loss: 1.3940 - accuracy: 0.4929 - val_loss: 1.3740 - val_accuracy: 0.4999\n",
            "Epoch 40/60\n",
            "782/782 [==============================] - 3s 4ms/step - loss: 1.3894 - accuracy: 0.4941 - val_loss: 1.3592 - val_accuracy: 0.5107\n",
            "Epoch 41/60\n",
            "782/782 [==============================] - 3s 3ms/step - loss: 1.3812 - accuracy: 0.5001 - val_loss: 1.3939 - val_accuracy: 0.4952\n",
            "Epoch 42/60\n",
            "782/782 [==============================] - 3s 4ms/step - loss: 1.3729 - accuracy: 0.4992 - val_loss: 1.4798 - val_accuracy: 0.4533\n",
            "Epoch 43/60\n",
            "782/782 [==============================] - 3s 4ms/step - loss: 1.3737 - accuracy: 0.5000 - val_loss: 1.3599 - val_accuracy: 0.5098\n",
            "Epoch 44/60\n",
            "782/782 [==============================] - 3s 4ms/step - loss: 1.3619 - accuracy: 0.5064 - val_loss: 1.3998 - val_accuracy: 0.4850\n",
            "Epoch 45/60\n",
            "782/782 [==============================] - 3s 4ms/step - loss: 1.3620 - accuracy: 0.5050 - val_loss: 1.3685 - val_accuracy: 0.5065\n",
            "Epoch 46/60\n",
            "782/782 [==============================] - 3s 4ms/step - loss: 1.3606 - accuracy: 0.5061 - val_loss: 1.3961 - val_accuracy: 0.4978\n",
            "Epoch 47/60\n",
            "782/782 [==============================] - 3s 4ms/step - loss: 1.3561 - accuracy: 0.5072 - val_loss: 1.3582 - val_accuracy: 0.5109\n",
            "Epoch 48/60\n",
            "782/782 [==============================] - 3s 3ms/step - loss: 1.3461 - accuracy: 0.5131 - val_loss: 1.4104 - val_accuracy: 0.4832\n",
            "Epoch 49/60\n",
            "782/782 [==============================] - 3s 4ms/step - loss: 1.3491 - accuracy: 0.5141 - val_loss: 1.3920 - val_accuracy: 0.4959\n",
            "Epoch 50/60\n",
            "782/782 [==============================] - 3s 4ms/step - loss: 1.3421 - accuracy: 0.5161 - val_loss: 1.3310 - val_accuracy: 0.5233\n",
            "Epoch 51/60\n",
            "782/782 [==============================] - 3s 3ms/step - loss: 1.3442 - accuracy: 0.5126 - val_loss: 1.3990 - val_accuracy: 0.4936\n",
            "Epoch 52/60\n",
            "782/782 [==============================] - 3s 4ms/step - loss: 1.3403 - accuracy: 0.5173 - val_loss: 1.4338 - val_accuracy: 0.4889\n",
            "Epoch 53/60\n",
            "782/782 [==============================] - 3s 4ms/step - loss: 1.3291 - accuracy: 0.5202 - val_loss: 1.3036 - val_accuracy: 0.5338\n",
            "Epoch 54/60\n",
            "782/782 [==============================] - 3s 4ms/step - loss: 1.3272 - accuracy: 0.5237 - val_loss: 1.3761 - val_accuracy: 0.5088\n",
            "Epoch 55/60\n",
            "782/782 [==============================] - 3s 4ms/step - loss: 1.3170 - accuracy: 0.5283 - val_loss: 1.3504 - val_accuracy: 0.5089\n",
            "Epoch 56/60\n",
            "782/782 [==============================] - 3s 3ms/step - loss: 1.3134 - accuracy: 0.5266 - val_loss: 1.3372 - val_accuracy: 0.5120\n",
            "Epoch 57/60\n",
            "782/782 [==============================] - 3s 4ms/step - loss: 1.3084 - accuracy: 0.5309 - val_loss: 1.3285 - val_accuracy: 0.5183\n",
            "Epoch 58/60\n",
            "782/782 [==============================] - 3s 4ms/step - loss: 1.3124 - accuracy: 0.5273 - val_loss: 1.3727 - val_accuracy: 0.5115\n",
            "Epoch 59/60\n",
            "782/782 [==============================] - 3s 4ms/step - loss: 1.3011 - accuracy: 0.5322 - val_loss: 1.3131 - val_accuracy: 0.5303\n",
            "Epoch 60/60\n",
            "782/782 [==============================] - 3s 4ms/step - loss: 1.2941 - accuracy: 0.5354 - val_loss: 1.3444 - val_accuracy: 0.5177\n"
          ]
        },
        {
          "output_type": "execute_result",
          "data": {
            "text/plain": [
              "<keras.src.callbacks.History at 0x7d8ce0509c60>"
            ]
          },
          "metadata": {},
          "execution_count": 8
        }
      ],
      "source": [
        "# Train the model using the fit() method and specify the number of epochs to train for and the batch size to use.\n",
        "# model.fit(x_train, y_train, epochs=10, batch_size=128, validation_data=(x_test, y_test))\n",
        "\n",
        "model.fit(x_train, y_train,\n",
        "            batch_size=64,\n",
        "            epochs=60,\n",
        "            validation_data=(x_test, y_test),\n",
        "            shuffle=True)"
      ]
    },
    {
      "cell_type": "code",
      "execution_count": 9,
      "metadata": {
        "id": "bHXXsPCamSEE",
        "outputId": "8eed5fb6-51ff-404b-f137-59283e4cbf92",
        "colab": {
          "base_uri": "https://localhost:8080/"
        }
      },
      "outputs": [
        {
          "output_type": "stream",
          "name": "stdout",
          "text": [
            "313/313 [==============================] - 1s 2ms/step - loss: 1.3444 - accuracy: 0.5177\n",
            "Test Loss:  1.3444225788116455\n",
            "Test Accuracy: 0.5177000164985657\n"
          ]
        }
      ],
      "source": [
        "# Evaluate the model on the test set using the evaluate() method and print the test accuracy.\n",
        "test_loss, test_acc = model.evaluate(x_test, y_test)\n",
        "print(\"Test Loss: \", test_loss)\n",
        "print(\"Test Accuracy:\", test_acc)"
      ]
    },
    {
      "cell_type": "code",
      "execution_count": 10,
      "metadata": {
        "id": "I1y2m5Apn3k7",
        "outputId": "79553b53-b0b6-462f-c846-363e03c3cb50",
        "colab": {
          "base_uri": "https://localhost:8080/",
          "height": 791
        }
      },
      "outputs": [
        {
          "output_type": "stream",
          "name": "stdout",
          "text": [
            "1/1 [==============================] - 0s 205ms/step\n"
          ]
        },
        {
          "output_type": "execute_result",
          "data": {
            "text/plain": [
              "<matplotlib.image.AxesImage at 0x7d8ce0244eb0>"
            ]
          },
          "metadata": {},
          "execution_count": 10
        },
        {
          "output_type": "display_data",
          "data": {
            "text/plain": [
              "<Figure size 1600x800 with 1 Axes>"
            ],
            "image/png": "[encoded data removed]"
          },
          "metadata": {}
        }
      ],
      "source": [
        "# One image prediction\n",
        "image_index = 100\n",
        "pred = model.predict(x_test[image_index,::].reshape(1, 32, 32, 3))\n",
        "\n",
        "#im = np.transpose(x_test[image_index,::], (1, 2, 0))\n",
        "im = x_test[image_index,::]\n",
        "\n",
        "fig1 = plt.figure(figsize=(16, 8))\n",
        "fig1.suptitle(class_names[np.argmax(pred)], fontsize=16)\n",
        "plt.imshow(im)"
      ]
    },
    {
      "cell_type": "code",
      "execution_count": 11,
      "metadata": {
        "id": "4VWhRTC6mrwc",
        "outputId": "060287d7-ea60-4d5a-e58e-6bbb83c609c9",
        "colab": {
          "base_uri": "https://localhost:8080/",
          "height": 692
        }
      },
      "outputs": [
        {
          "output_type": "stream",
          "name": "stdout",
          "text": [
            "313/313 [==============================] - 1s 2ms/step\n"
          ]
        },
        {
          "output_type": "display_data",
          "data": {
            "text/plain": [
              "<Figure size 800x800 with 9 Axes>"
            ],
            "image/png": "[encoded data removed]"
          },
          "metadata": {}
        }
      ],
      "source": [
        "# Display a few example plots of test results\n",
        "# Get the predicted labels for the test set\n",
        "y_pred = model.predict(x_test)\n",
        "y_pred = np.argmax(y_pred, axis=1)\n",
        "\n",
        "# Display a few example plots of test results\n",
        "fig, axs = plt.subplots(3, 3, figsize=(8, 8))\n",
        "fig.subplots_adjust(hspace=0.4, wspace=0.4)\n",
        "axs = axs.ravel()\n",
        "for i in range(9):\n",
        "    idx = np.random.randint(0, len(x_test))\n",
        "    axs[i].imshow(x_test[idx, :, :, 0], cmap=\"gray\")\n",
        "    axs[i].set_title(f\"True: {np.argmax(y_test[idx])}, Pred: {y_pred[idx]}\")\n",
        "    axs[i].axis(\"off\")\n",
        "plt.show()\n"
      ]
    }
  ],
  "metadata": {
    "colab": {
      "provenance": [],
      "gpuType": "L4",
      "include_colab_link": true
    },
    "kernelspec": {
      "display_name": "Python 3",
      "name": "python3"
    },
    "language_info": {
      "codemirror_mode": {
        "name": "ipython",
        "version": 3
      },
      "file_extension": ".py",
      "mimetype": "text/x-python",
      "name": "python",
      "nbconvert_exporter": "python",
      "pygments_lexer": "ipython3",
      "version": "3.11.7"
    },
    "accelerator": "GPU"
  },
  "nbformat": 4,
  "nbformat_minor": 0
}