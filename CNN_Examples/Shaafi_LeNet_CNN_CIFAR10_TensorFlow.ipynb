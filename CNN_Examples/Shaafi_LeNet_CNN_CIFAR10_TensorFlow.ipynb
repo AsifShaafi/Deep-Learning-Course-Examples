{
  "cells": [
    {
      "cell_type": "markdown",
      "metadata": {
        "colab_type": "text",
        "id": "view-in-github"
      },
      "source": [
        "<a href=\"https://colab.research.google.com/github/ProfessorDong/Deep-Learning-Course-Examples/blob/master/CNN_Examples/LeNet_MNIST_TensorFlow.ipynb\" target=\"_parent\"><img src=\"https://colab.research.google.com/assets/colab-badge.svg\" alt=\"Open In Colab\"/></a>"
      ]
    },
    {
      "cell_type": "markdown",
      "metadata": {
        "id": "QqnT-y7SjnF9"
      },
      "source": [
        "Implement the LeNet architecture for classification of CIFAR10 data."
      ]
    },
    {
      "cell_type": "code",
      "execution_count": 42,
      "metadata": {
        "id": "zGMAdHzjluh9"
      },
      "outputs": [],
      "source": [
        "# import libraries\n",
        "import tensorflow as tf\n",
        "\n",
        "import matplotlib.pyplot as plt\n",
        "import numpy as np\n",
        "\n",
        "from tensorflow.keras.datasets import cifar10\n",
        "from tensorflow.keras.models import Sequential\n",
        "from tensorflow.keras.layers import Conv2D, Dense, Flatten, MaxPooling2D\n",
        "from tensorflow.keras.callbacks import LearningRateScheduler, TensorBoard\n"
      ]
    },
    {
      "cell_type": "code",
      "execution_count": 43,
      "metadata": {
        "id": "PP20BFX_llks"
      },
      "outputs": [],
      "source": [
        "# Load the CIFAR10 dataset using the cifar10.load_data() function.\n",
        "(x_train, y_train), (x_test, y_test) = cifar10.load_data()"
      ]
    },
    {
      "cell_type": "code",
      "execution_count": 44,
      "metadata": {
        "id": "yeg5fC0cl5km"
      },
      "outputs": [],
      "source": [
        "# Normalize the pixel values to the range [0, 1] using the astype() method.\n",
        "x_train = x_train.astype(\"float32\") / 255.0\n",
        "x_test = x_test.astype(\"float32\") / 255.0\n"
      ]
    },
    {
      "cell_type": "code",
      "execution_count": 45,
      "metadata": {
        "id": "ijzdXjR_l90A"
      },
      "outputs": [],
      "source": [
        "# Reshape the input data to have a single channel using the reshape() method.\n",
        "# x_train = x_train.reshape((x_train.shape[0], 28, 28, 1))\n",
        "# x_test = x_test.reshape((x_test.shape[0], 28, 28, 1))\n"
      ]
    },
    {
      "cell_type": "code",
      "execution_count": 46,
      "metadata": {
        "id": "2-jQFB3fmDNc"
      },
      "outputs": [],
      "source": [
        "# Convert the labels to one-hot encoding using the to_categorical() function.\n",
        "num_classes = 10\n",
        "y_train = tf.keras.utils.to_categorical(y_train, num_classes)\n",
        "y_test = tf.keras.utils.to_categorical(y_test, num_classes)\n"
      ]
    },
    {
      "cell_type": "code",
      "execution_count": 47,
      "metadata": {},
      "outputs": [],
      "source": [
        "# Define the class names\n",
        "class_names = ['airplane','automobile','bird','cat','deer','dog','frog','horse','ship','truck']\n"
      ]
    },
    {
      "cell_type": "code",
      "execution_count": 58,
      "metadata": {},
      "outputs": [
        {
          "ename": "ValueError",
          "evalue": "high <= 0",
          "output_type": "error",
          "traceback": [
            "\u001b[0;31m---------------------------------------------------------------------------\u001b[0m",
            "\u001b[0;31mValueError\u001b[0m                                Traceback (most recent call last)",
            "Cell \u001b[0;32mIn[58], line 8\u001b[0m\n\u001b[1;32m      6\u001b[0m idx \u001b[38;5;241m=\u001b[39m np\u001b[38;5;241m.\u001b[39mwhere(y_train[:]\u001b[38;5;241m==\u001b[39mi)[\u001b[38;5;241m0\u001b[39m]\n\u001b[1;32m      7\u001b[0m features_idx \u001b[38;5;241m=\u001b[39m x_train[idx,::]\n\u001b[0;32m----> 8\u001b[0m img_num \u001b[38;5;241m=\u001b[39m np\u001b[38;5;241m.\u001b[39mrandom\u001b[38;5;241m.\u001b[39mrandint(\u001b[38;5;241m0\u001b[39m, features_idx\u001b[38;5;241m.\u001b[39mshape[\u001b[38;5;241m0\u001b[39m])\n\u001b[1;32m      9\u001b[0m \u001b[38;5;66;03m#im = np.transpose(features_idx[img_num,::], (1, 2, 0))\u001b[39;00m\n\u001b[1;32m     10\u001b[0m im \u001b[38;5;241m=\u001b[39m features_idx[img_num,::]\n",
            "File \u001b[0;32mnumpy/random/mtrand.pyx:782\u001b[0m, in \u001b[0;36mnumpy.random.mtrand.RandomState.randint\u001b[0;34m()\u001b[0m\n",
            "File \u001b[0;32mnumpy/random/_bounded_integers.pyx:1334\u001b[0m, in \u001b[0;36mnumpy.random._bounded_integers._rand_int64\u001b[0;34m()\u001b[0m\n",
            "\u001b[0;31mValueError\u001b[0m: high <= 0"
          ]
        },
        {
          "data": {
            "image/png": "[encoded data removed]",
            "text/plain": [
              "<Figure size 800x300 with 3 Axes>"
            ]
          },
          "metadata": {},
          "output_type": "display_data"
        }
      ],
      "source": [
        "fig = plt.figure(figsize=(8,3))\n",
        "\n",
        "num_classes = 10\n",
        "for i in range(num_classes):\n",
        "    ax = fig.add_subplot(2, 5, 1 + i, xticks=[], yticks=[])\n",
        "    idx = np.where(y_train[:]==i)[0]\n",
        "    features_idx = x_train[idx,::]\n",
        "    img_num = np.random.randint(0, features_idx.shape[0])\n",
        "    #im = np.transpose(features_idx[img_num,::], (1, 2, 0))\n",
        "    im = features_idx[img_num,::]\n",
        "    ax.set_title(class_names[i])\n",
        "    plt.imshow(im)\n"
      ]
    },
    {
      "cell_type": "code",
      "execution_count": 49,
      "metadata": {
        "id": "bNYJQplcmGxP"
      },
      "outputs": [
        {
          "name": "stdout",
          "output_type": "stream",
          "text": [
            "Model: \"sequential_3\"\n",
            "_________________________________________________________________\n",
            " Layer (type)                Output Shape              Param #   \n",
            "=================================================================\n",
            " conv2d_6 (Conv2D)           (None, 28, 28, 6)         456       \n",
            "                                                                 \n",
            " max_pooling2d_6 (MaxPoolin  (None, 14, 14, 6)         0         \n",
            " g2D)                                                            \n",
            "                                                                 \n",
            " conv2d_7 (Conv2D)           (None, 10, 10, 16)        2416      \n",
            "                                                                 \n",
            " max_pooling2d_7 (MaxPoolin  (None, 5, 5, 16)          0         \n",
            " g2D)                                                            \n",
            "                                                                 \n",
            " flatten_3 (Flatten)         (None, 400)               0         \n",
            "                                                                 \n",
            " dense_9 (Dense)             (None, 120)               48120     \n",
            "                                                                 \n",
            " dense_10 (Dense)            (None, 84)                10164     \n",
            "                                                                 \n",
            " dense_11 (Dense)            (None, 10)                850       \n",
            "                                                                 \n",
            "=================================================================\n",
            "Total params: 62006 (242.21 KB)\n",
            "Trainable params: 62006 (242.21 KB)\n",
            "Non-trainable params: 0 (0.00 Byte)\n",
            "_________________________________________________________________\n"
          ]
        }
      ],
      "source": [
        "# Define the LeNet model architecture using the Sequential() function and \n",
        "# add convolutional, average pooling, and dense layers using the \n",
        "# Conv2D(), AveragePooling2D(), Flatten(), and Dense() functions.\n",
        "model = Sequential([\n",
        "    Conv2D(6, (5, 5), padding='valid', activation = 'relu', kernel_initializer='he_normal', input_shape=(32,32,3)),\n",
        "    MaxPooling2D((2, 2), strides=(2, 2)),\n",
        "    Conv2D(16, (5, 5), padding='valid', activation = 'relu', kernel_initializer='he_normal'),\n",
        "    MaxPooling2D((2, 2), strides=(2, 2)),\n",
        "    Flatten(),\n",
        "    Dense(120, activation = 'relu', kernel_initializer='he_normal'),\n",
        "    Dense(84, activation = 'relu', kernel_initializer='he_normal'),\n",
        "    Dense(10, activation = 'softmax', kernel_initializer='he_normal')\n",
        "])\n",
        "\n",
        "model.summary()"
      ]
    },
    {
      "cell_type": "code",
      "execution_count": 50,
      "metadata": {
        "id": "xTsZJ0uHmNoV"
      },
      "outputs": [],
      "source": [
        "# Compile the model using the compile() method and \n",
        "# specify the optimizer, loss function, and metrics to use during training.\n",
        "model.compile(optimizer=\"adam\", loss=\"categorical_crossentropy\", metrics=[\"accuracy\"])\n"
      ]
    },
    {
      "cell_type": "code",
      "execution_count": 51,
      "metadata": {},
      "outputs": [],
      "source": [
        "# set callback\n",
        "def scheduler(epoch):\n",
        "    if epoch < 100:\n",
        "        return 0.01\n",
        "    if epoch < 150:\n",
        "        return 0.005\n",
        "    return 0.001\n",
        "\n",
        "tb_cb = TensorBoard(log_dir='./LeNet_CIFAR10_graph', histogram_freq=0)\n",
        "change_lr = LearningRateScheduler(scheduler)\n",
        "cbks = [change_lr,tb_cb]\n"
      ]
    },
    {
      "cell_type": "code",
      "execution_count": 52,
      "metadata": {
        "id": "jrUv7WAzmPLc"
      },
      "outputs": [
        {
          "name": "stdout",
          "output_type": "stream",
          "text": [
            "Epoch 1/120\n",
            "391/391 [==============================] - 5s 13ms/step - loss: 1.7873 - accuracy: 0.3328 - val_loss: 1.5853 - val_accuracy: 0.4133 - lr: 0.0100\n",
            "Epoch 2/120\n",
            "391/391 [==============================] - 5s 12ms/step - loss: 1.5435 - accuracy: 0.4343 - val_loss: 1.5020 - val_accuracy: 0.4541 - lr: 0.0100\n",
            "Epoch 3/120\n",
            "391/391 [==============================] - 4s 11ms/step - loss: 1.4743 - accuracy: 0.4675 - val_loss: 1.5053 - val_accuracy: 0.4592 - lr: 0.0100\n",
            "Epoch 4/120\n",
            "391/391 [==============================] - 5s 12ms/step - loss: 1.4303 - accuracy: 0.4823 - val_loss: 1.4706 - val_accuracy: 0.4675 - lr: 0.0100\n",
            "Epoch 5/120\n",
            "391/391 [==============================] - 5s 12ms/step - loss: 1.4024 - accuracy: 0.4967 - val_loss: 1.4733 - val_accuracy: 0.4819 - lr: 0.0100\n",
            "Epoch 6/120\n",
            "391/391 [==============================] - 4s 11ms/step - loss: 1.3602 - accuracy: 0.5144 - val_loss: 1.4176 - val_accuracy: 0.4987 - lr: 0.0100\n",
            "Epoch 7/120\n",
            "391/391 [==============================] - 4s 11ms/step - loss: 1.3461 - accuracy: 0.5216 - val_loss: 1.4506 - val_accuracy: 0.4797 - lr: 0.0100\n",
            "Epoch 8/120\n",
            "391/391 [==============================] - 4s 11ms/step - loss: 1.3117 - accuracy: 0.5337 - val_loss: 1.3913 - val_accuracy: 0.5120 - lr: 0.0100\n",
            "Epoch 9/120\n",
            "391/391 [==============================] - 4s 11ms/step - loss: 1.2979 - accuracy: 0.5414 - val_loss: 1.4346 - val_accuracy: 0.4946 - lr: 0.0100\n",
            "Epoch 10/120\n",
            "391/391 [==============================] - 5s 12ms/step - loss: 1.2917 - accuracy: 0.5439 - val_loss: 1.4157 - val_accuracy: 0.5065 - lr: 0.0100\n",
            "Epoch 11/120\n",
            "391/391 [==============================] - 4s 11ms/step - loss: 1.2689 - accuracy: 0.5491 - val_loss: 1.3953 - val_accuracy: 0.5110 - lr: 0.0100\n",
            "Epoch 12/120\n",
            "391/391 [==============================] - 4s 11ms/step - loss: 1.2581 - accuracy: 0.5547 - val_loss: 1.4203 - val_accuracy: 0.5099 - lr: 0.0100\n",
            "Epoch 13/120\n",
            "391/391 [==============================] - 5s 12ms/step - loss: 1.2426 - accuracy: 0.5601 - val_loss: 1.4287 - val_accuracy: 0.5176 - lr: 0.0100\n",
            "Epoch 14/120\n",
            "391/391 [==============================] - 4s 11ms/step - loss: 1.2251 - accuracy: 0.5670 - val_loss: 1.4731 - val_accuracy: 0.4896 - lr: 0.0100\n",
            "Epoch 15/120\n",
            "391/391 [==============================] - 5s 12ms/step - loss: 1.2178 - accuracy: 0.5686 - val_loss: 1.3850 - val_accuracy: 0.5227 - lr: 0.0100\n",
            "Epoch 16/120\n",
            "391/391 [==============================] - 5s 12ms/step - loss: 1.1923 - accuracy: 0.5778 - val_loss: 1.3934 - val_accuracy: 0.5184 - lr: 0.0100\n",
            "Epoch 17/120\n",
            "391/391 [==============================] - 5s 12ms/step - loss: 1.1846 - accuracy: 0.5823 - val_loss: 1.4155 - val_accuracy: 0.5189 - lr: 0.0100\n",
            "Epoch 18/120\n",
            "391/391 [==============================] - 5s 13ms/step - loss: 1.1679 - accuracy: 0.5908 - val_loss: 1.4262 - val_accuracy: 0.5092 - lr: 0.0100\n",
            "Epoch 19/120\n",
            "391/391 [==============================] - 4s 11ms/step - loss: 1.1846 - accuracy: 0.5822 - val_loss: 1.4470 - val_accuracy: 0.4982 - lr: 0.0100\n",
            "Epoch 20/120\n",
            "391/391 [==============================] - 5s 13ms/step - loss: 1.1579 - accuracy: 0.5929 - val_loss: 1.4192 - val_accuracy: 0.5212 - lr: 0.0100\n",
            "Epoch 21/120\n",
            "391/391 [==============================] - 5s 13ms/step - loss: 1.1486 - accuracy: 0.5967 - val_loss: 1.4494 - val_accuracy: 0.5109 - lr: 0.0100\n",
            "Epoch 22/120\n",
            "391/391 [==============================] - 5s 12ms/step - loss: 1.1592 - accuracy: 0.5947 - val_loss: 1.4637 - val_accuracy: 0.5069 - lr: 0.0100\n",
            "Epoch 23/120\n",
            "391/391 [==============================] - 5s 12ms/step - loss: 1.1351 - accuracy: 0.6018 - val_loss: 1.4319 - val_accuracy: 0.5243 - lr: 0.0100\n",
            "Epoch 24/120\n",
            "391/391 [==============================] - 5s 12ms/step - loss: 1.1265 - accuracy: 0.6046 - val_loss: 1.4761 - val_accuracy: 0.5111 - lr: 0.0100\n",
            "Epoch 25/120\n",
            "391/391 [==============================] - 5s 12ms/step - loss: 1.1286 - accuracy: 0.6060 - val_loss: 1.4855 - val_accuracy: 0.5112 - lr: 0.0100\n",
            "Epoch 26/120\n",
            "391/391 [==============================] - 5s 12ms/step - loss: 1.1041 - accuracy: 0.6129 - val_loss: 1.4550 - val_accuracy: 0.5152 - lr: 0.0100\n",
            "Epoch 27/120\n",
            "391/391 [==============================] - 4s 11ms/step - loss: 1.1089 - accuracy: 0.6131 - val_loss: 1.4870 - val_accuracy: 0.5107 - lr: 0.0100\n",
            "Epoch 28/120\n",
            "391/391 [==============================] - 5s 12ms/step - loss: 1.1073 - accuracy: 0.6134 - val_loss: 1.4614 - val_accuracy: 0.5235 - lr: 0.0100\n",
            "Epoch 29/120\n",
            "391/391 [==============================] - 6s 14ms/step - loss: 1.0901 - accuracy: 0.6196 - val_loss: 1.5308 - val_accuracy: 0.5079 - lr: 0.0100\n",
            "Epoch 30/120\n",
            "391/391 [==============================] - 5s 12ms/step - loss: 1.0849 - accuracy: 0.6215 - val_loss: 1.4760 - val_accuracy: 0.5180 - lr: 0.0100\n",
            "Epoch 31/120\n",
            "391/391 [==============================] - 5s 12ms/step - loss: 1.1010 - accuracy: 0.6165 - val_loss: 1.4948 - val_accuracy: 0.5052 - lr: 0.0100\n",
            "Epoch 32/120\n",
            "391/391 [==============================] - 5s 12ms/step - loss: 1.0688 - accuracy: 0.6250 - val_loss: 1.5272 - val_accuracy: 0.5170 - lr: 0.0100\n",
            "Epoch 33/120\n",
            "391/391 [==============================] - 5s 13ms/step - loss: 1.0796 - accuracy: 0.6234 - val_loss: 1.5082 - val_accuracy: 0.5157 - lr: 0.0100\n",
            "Epoch 34/120\n",
            "391/391 [==============================] - 4s 11ms/step - loss: 1.0770 - accuracy: 0.6246 - val_loss: 1.4924 - val_accuracy: 0.5111 - lr: 0.0100\n",
            "Epoch 35/120\n",
            "391/391 [==============================] - 5s 12ms/step - loss: 1.0711 - accuracy: 0.6270 - val_loss: 1.5298 - val_accuracy: 0.5086 - lr: 0.0100\n",
            "Epoch 36/120\n",
            "391/391 [==============================] - 4s 11ms/step - loss: 1.0620 - accuracy: 0.6311 - val_loss: 1.5375 - val_accuracy: 0.5055 - lr: 0.0100\n",
            "Epoch 37/120\n",
            "391/391 [==============================] - 5s 13ms/step - loss: 1.0505 - accuracy: 0.6340 - val_loss: 1.5131 - val_accuracy: 0.5134 - lr: 0.0100\n",
            "Epoch 38/120\n",
            "391/391 [==============================] - 6s 14ms/step - loss: 1.0456 - accuracy: 0.6369 - val_loss: 1.5589 - val_accuracy: 0.5128 - lr: 0.0100\n",
            "Epoch 39/120\n",
            "391/391 [==============================] - 5s 13ms/step - loss: 1.0672 - accuracy: 0.6301 - val_loss: 1.5794 - val_accuracy: 0.5025 - lr: 0.0100\n",
            "Epoch 40/120\n",
            "391/391 [==============================] - 5s 14ms/step - loss: 1.0595 - accuracy: 0.6322 - val_loss: 1.5847 - val_accuracy: 0.5071 - lr: 0.0100\n",
            "Epoch 41/120\n",
            "391/391 [==============================] - 4s 12ms/step - loss: 1.0417 - accuracy: 0.6389 - val_loss: 1.5646 - val_accuracy: 0.5127 - lr: 0.0100\n",
            "Epoch 42/120\n",
            "391/391 [==============================] - 4s 12ms/step - loss: 1.0475 - accuracy: 0.6362 - val_loss: 1.5169 - val_accuracy: 0.5022 - lr: 0.0100\n",
            "Epoch 43/120\n",
            "391/391 [==============================] - 5s 12ms/step - loss: 1.0413 - accuracy: 0.6384 - val_loss: 1.5314 - val_accuracy: 0.5191 - lr: 0.0100\n",
            "Epoch 44/120\n",
            "391/391 [==============================] - 5s 13ms/step - loss: 1.0279 - accuracy: 0.6433 - val_loss: 1.5329 - val_accuracy: 0.5116 - lr: 0.0100\n",
            "Epoch 45/120\n",
            "391/391 [==============================] - 5s 12ms/step - loss: 1.0455 - accuracy: 0.6391 - val_loss: 1.5337 - val_accuracy: 0.5158 - lr: 0.0100\n",
            "Epoch 46/120\n",
            "391/391 [==============================] - 5s 12ms/step - loss: 1.0318 - accuracy: 0.6438 - val_loss: 1.5466 - val_accuracy: 0.5186 - lr: 0.0100\n",
            "Epoch 47/120\n",
            "391/391 [==============================] - 5s 12ms/step - loss: 1.0182 - accuracy: 0.6464 - val_loss: 1.5915 - val_accuracy: 0.5076 - lr: 0.0100\n",
            "Epoch 48/120\n",
            "391/391 [==============================] - 5s 12ms/step - loss: 1.0166 - accuracy: 0.6468 - val_loss: 1.5678 - val_accuracy: 0.5035 - lr: 0.0100\n",
            "Epoch 49/120\n",
            "391/391 [==============================] - 5s 12ms/step - loss: 1.0160 - accuracy: 0.6451 - val_loss: 1.5906 - val_accuracy: 0.5079 - lr: 0.0100\n",
            "Epoch 50/120\n",
            "391/391 [==============================] - 5s 12ms/step - loss: 1.0046 - accuracy: 0.6525 - val_loss: 1.5786 - val_accuracy: 0.5125 - lr: 0.0100\n",
            "Epoch 51/120\n",
            "391/391 [==============================] - 5s 12ms/step - loss: 1.0235 - accuracy: 0.6465 - val_loss: 1.6150 - val_accuracy: 0.5036 - lr: 0.0100\n",
            "Epoch 52/120\n",
            "391/391 [==============================] - 5s 12ms/step - loss: 1.0234 - accuracy: 0.6452 - val_loss: 1.6644 - val_accuracy: 0.4985 - lr: 0.0100\n",
            "Epoch 53/120\n",
            "391/391 [==============================] - 5s 12ms/step - loss: 1.0213 - accuracy: 0.6466 - val_loss: 1.6060 - val_accuracy: 0.5081 - lr: 0.0100\n",
            "Epoch 54/120\n",
            "391/391 [==============================] - 4s 11ms/step - loss: 0.9990 - accuracy: 0.6545 - val_loss: 1.6376 - val_accuracy: 0.4956 - lr: 0.0100\n",
            "Epoch 55/120\n",
            "391/391 [==============================] - 5s 12ms/step - loss: 1.0009 - accuracy: 0.6536 - val_loss: 1.6281 - val_accuracy: 0.5057 - lr: 0.0100\n",
            "Epoch 56/120\n",
            "391/391 [==============================] - 5s 12ms/step - loss: 1.0091 - accuracy: 0.6508 - val_loss: 1.7425 - val_accuracy: 0.4878 - lr: 0.0100\n",
            "Epoch 57/120\n",
            "391/391 [==============================] - 5s 12ms/step - loss: 1.0103 - accuracy: 0.6526 - val_loss: 1.6265 - val_accuracy: 0.5099 - lr: 0.0100\n",
            "Epoch 58/120\n",
            "391/391 [==============================] - 5s 12ms/step - loss: 1.0023 - accuracy: 0.6539 - val_loss: 1.6214 - val_accuracy: 0.5136 - lr: 0.0100\n",
            "Epoch 59/120\n",
            "391/391 [==============================] - 5s 12ms/step - loss: 0.9964 - accuracy: 0.6598 - val_loss: 1.6013 - val_accuracy: 0.5138 - lr: 0.0100\n",
            "Epoch 60/120\n",
            "391/391 [==============================] - 4s 11ms/step - loss: 0.9915 - accuracy: 0.6595 - val_loss: 1.7131 - val_accuracy: 0.5079 - lr: 0.0100\n",
            "Epoch 61/120\n",
            "391/391 [==============================] - 5s 12ms/step - loss: 0.9766 - accuracy: 0.6644 - val_loss: 1.6428 - val_accuracy: 0.5037 - lr: 0.0100\n",
            "Epoch 62/120\n",
            "391/391 [==============================] - 5s 12ms/step - loss: 1.0122 - accuracy: 0.6506 - val_loss: 1.6664 - val_accuracy: 0.5044 - lr: 0.0100\n",
            "Epoch 63/120\n",
            "391/391 [==============================] - 5s 12ms/step - loss: 0.9858 - accuracy: 0.6617 - val_loss: 1.6727 - val_accuracy: 0.5064 - lr: 0.0100\n",
            "Epoch 64/120\n",
            "391/391 [==============================] - 5s 12ms/step - loss: 0.9921 - accuracy: 0.6591 - val_loss: 1.6638 - val_accuracy: 0.4974 - lr: 0.0100\n",
            "Epoch 65/120\n",
            "391/391 [==============================] - 5s 12ms/step - loss: 0.9734 - accuracy: 0.6650 - val_loss: 1.6531 - val_accuracy: 0.5082 - lr: 0.0100\n",
            "Epoch 66/120\n",
            "391/391 [==============================] - 5s 12ms/step - loss: 0.9734 - accuracy: 0.6652 - val_loss: 1.6884 - val_accuracy: 0.5063 - lr: 0.0100\n",
            "Epoch 67/120\n",
            "391/391 [==============================] - 5s 12ms/step - loss: 0.9675 - accuracy: 0.6665 - val_loss: 1.7190 - val_accuracy: 0.4927 - lr: 0.0100\n",
            "Epoch 68/120\n",
            "391/391 [==============================] - 5s 12ms/step - loss: 0.9763 - accuracy: 0.6633 - val_loss: 1.6158 - val_accuracy: 0.5052 - lr: 0.0100\n",
            "Epoch 69/120\n",
            "391/391 [==============================] - 5s 12ms/step - loss: 0.9701 - accuracy: 0.6663 - val_loss: 1.6564 - val_accuracy: 0.5140 - lr: 0.0100\n",
            "Epoch 70/120\n",
            "391/391 [==============================] - 5s 12ms/step - loss: 0.9761 - accuracy: 0.6641 - val_loss: 1.6617 - val_accuracy: 0.5103 - lr: 0.0100\n",
            "Epoch 71/120\n",
            "391/391 [==============================] - 5s 12ms/step - loss: 0.9699 - accuracy: 0.6657 - val_loss: 1.8031 - val_accuracy: 0.4951 - lr: 0.0100\n",
            "Epoch 72/120\n",
            "391/391 [==============================] - 5s 12ms/step - loss: 0.9643 - accuracy: 0.6715 - val_loss: 1.6991 - val_accuracy: 0.5069 - lr: 0.0100\n",
            "Epoch 73/120\n",
            "391/391 [==============================] - 5s 14ms/step - loss: 0.9627 - accuracy: 0.6685 - val_loss: 1.7235 - val_accuracy: 0.5149 - lr: 0.0100\n",
            "Epoch 74/120\n",
            "391/391 [==============================] - 4s 11ms/step - loss: 0.9512 - accuracy: 0.6708 - val_loss: 1.7085 - val_accuracy: 0.4976 - lr: 0.0100\n",
            "Epoch 75/120\n",
            "391/391 [==============================] - 5s 13ms/step - loss: 0.9412 - accuracy: 0.6743 - val_loss: 1.8217 - val_accuracy: 0.4919 - lr: 0.0100\n",
            "Epoch 76/120\n",
            "391/391 [==============================] - 5s 12ms/step - loss: 0.9650 - accuracy: 0.6682 - val_loss: 1.7466 - val_accuracy: 0.4971 - lr: 0.0100\n",
            "Epoch 77/120\n",
            "391/391 [==============================] - 4s 11ms/step - loss: 0.9638 - accuracy: 0.6698 - val_loss: 1.7574 - val_accuracy: 0.5005 - lr: 0.0100\n",
            "Epoch 78/120\n",
            "391/391 [==============================] - 5s 12ms/step - loss: 0.9436 - accuracy: 0.6777 - val_loss: 1.7179 - val_accuracy: 0.5076 - lr: 0.0100\n",
            "Epoch 79/120\n",
            "391/391 [==============================] - 4s 11ms/step - loss: 0.9657 - accuracy: 0.6705 - val_loss: 1.7447 - val_accuracy: 0.5056 - lr: 0.0100\n",
            "Epoch 80/120\n",
            "391/391 [==============================] - 4s 11ms/step - loss: 0.9342 - accuracy: 0.6785 - val_loss: 1.8227 - val_accuracy: 0.4970 - lr: 0.0100\n",
            "Epoch 81/120\n",
            "391/391 [==============================] - 5s 12ms/step - loss: 0.9626 - accuracy: 0.6712 - val_loss: 1.6990 - val_accuracy: 0.5070 - lr: 0.0100\n",
            "Epoch 82/120\n",
            "391/391 [==============================] - 5s 12ms/step - loss: 0.9352 - accuracy: 0.6784 - val_loss: 1.7717 - val_accuracy: 0.4971 - lr: 0.0100\n",
            "Epoch 83/120\n",
            "391/391 [==============================] - 5s 12ms/step - loss: 0.9336 - accuracy: 0.6807 - val_loss: 1.7879 - val_accuracy: 0.5060 - lr: 0.0100\n",
            "Epoch 84/120\n",
            "391/391 [==============================] - 5s 12ms/step - loss: 0.9371 - accuracy: 0.6788 - val_loss: 1.8226 - val_accuracy: 0.5064 - lr: 0.0100\n",
            "Epoch 85/120\n",
            "391/391 [==============================] - 5s 12ms/step - loss: 0.9453 - accuracy: 0.6759 - val_loss: 1.8182 - val_accuracy: 0.4985 - lr: 0.0100\n",
            "Epoch 86/120\n",
            "391/391 [==============================] - 5s 12ms/step - loss: 1.0013 - accuracy: 0.6617 - val_loss: 1.7948 - val_accuracy: 0.5015 - lr: 0.0100\n",
            "Epoch 87/120\n",
            "391/391 [==============================] - 5s 12ms/step - loss: 0.9285 - accuracy: 0.6805 - val_loss: 1.7597 - val_accuracy: 0.4812 - lr: 0.0100\n",
            "Epoch 88/120\n",
            "391/391 [==============================] - 5s 12ms/step - loss: 1.0324 - accuracy: 0.6446 - val_loss: 1.8226 - val_accuracy: 0.4999 - lr: 0.0100\n",
            "Epoch 89/120\n",
            "391/391 [==============================] - 5s 13ms/step - loss: 0.9435 - accuracy: 0.6758 - val_loss: 1.7777 - val_accuracy: 0.5008 - lr: 0.0100\n",
            "Epoch 90/120\n",
            "391/391 [==============================] - 5s 12ms/step - loss: 0.9756 - accuracy: 0.6681 - val_loss: 1.7698 - val_accuracy: 0.4960 - lr: 0.0100\n",
            "Epoch 91/120\n",
            "391/391 [==============================] - 5s 12ms/step - loss: 0.9443 - accuracy: 0.6747 - val_loss: 1.7340 - val_accuracy: 0.4936 - lr: 0.0100\n",
            "Epoch 92/120\n",
            "391/391 [==============================] - 5s 13ms/step - loss: 0.9338 - accuracy: 0.6802 - val_loss: 1.7520 - val_accuracy: 0.4940 - lr: 0.0100\n",
            "Epoch 93/120\n",
            "391/391 [==============================] - 5s 12ms/step - loss: 0.9400 - accuracy: 0.6785 - val_loss: 1.7378 - val_accuracy: 0.4971 - lr: 0.0100\n",
            "Epoch 94/120\n",
            "391/391 [==============================] - 4s 11ms/step - loss: 0.9463 - accuracy: 0.6771 - val_loss: 1.8228 - val_accuracy: 0.4880 - lr: 0.0100\n",
            "Epoch 95/120\n",
            "391/391 [==============================] - 5s 12ms/step - loss: 0.9545 - accuracy: 0.6748 - val_loss: 1.8097 - val_accuracy: 0.4905 - lr: 0.0100\n",
            "Epoch 96/120\n",
            "391/391 [==============================] - 4s 11ms/step - loss: 0.9440 - accuracy: 0.6774 - val_loss: 1.8169 - val_accuracy: 0.5028 - lr: 0.0100\n",
            "Epoch 97/120\n",
            "391/391 [==============================] - 4s 12ms/step - loss: 0.9554 - accuracy: 0.6734 - val_loss: 1.8568 - val_accuracy: 0.5020 - lr: 0.0100\n",
            "Epoch 98/120\n",
            "391/391 [==============================] - 4s 11ms/step - loss: 0.9747 - accuracy: 0.6694 - val_loss: 1.9244 - val_accuracy: 0.4908 - lr: 0.0100\n",
            "Epoch 99/120\n",
            "391/391 [==============================] - 5s 12ms/step - loss: 0.9556 - accuracy: 0.6763 - val_loss: 1.8189 - val_accuracy: 0.5051 - lr: 0.0100\n",
            "Epoch 100/120\n",
            "391/391 [==============================] - 5s 12ms/step - loss: 0.9065 - accuracy: 0.6905 - val_loss: 1.8393 - val_accuracy: 0.4989 - lr: 0.0100\n",
            "Epoch 101/120\n",
            "391/391 [==============================] - 5s 13ms/step - loss: 0.7921 - accuracy: 0.7247 - val_loss: 1.9227 - val_accuracy: 0.5003 - lr: 0.0050\n",
            "Epoch 102/120\n",
            "391/391 [==============================] - 4s 11ms/step - loss: 0.7697 - accuracy: 0.7322 - val_loss: 1.9942 - val_accuracy: 0.4980 - lr: 0.0050\n",
            "Epoch 103/120\n",
            "391/391 [==============================] - 5s 12ms/step - loss: 0.7643 - accuracy: 0.7342 - val_loss: 2.0134 - val_accuracy: 0.5021 - lr: 0.0050\n",
            "Epoch 104/120\n",
            "391/391 [==============================] - 4s 11ms/step - loss: 0.7575 - accuracy: 0.7366 - val_loss: 2.0376 - val_accuracy: 0.4953 - lr: 0.0050\n",
            "Epoch 105/120\n",
            "391/391 [==============================] - 4s 11ms/step - loss: 0.7657 - accuracy: 0.7340 - val_loss: 2.0059 - val_accuracy: 0.5047 - lr: 0.0050\n",
            "Epoch 106/120\n",
            "391/391 [==============================] - 4s 11ms/step - loss: 0.7505 - accuracy: 0.7400 - val_loss: 2.0442 - val_accuracy: 0.5011 - lr: 0.0050\n",
            "Epoch 107/120\n",
            "391/391 [==============================] - 4s 11ms/step - loss: 0.7489 - accuracy: 0.7397 - val_loss: 2.0892 - val_accuracy: 0.5009 - lr: 0.0050\n",
            "Epoch 108/120\n",
            "391/391 [==============================] - 4s 11ms/step - loss: 0.7409 - accuracy: 0.7398 - val_loss: 2.1097 - val_accuracy: 0.5003 - lr: 0.0050\n",
            "Epoch 109/120\n",
            "391/391 [==============================] - 5s 12ms/step - loss: 0.7354 - accuracy: 0.7448 - val_loss: 2.0826 - val_accuracy: 0.4991 - lr: 0.0050\n",
            "Epoch 110/120\n",
            "391/391 [==============================] - 5s 12ms/step - loss: 0.7498 - accuracy: 0.7404 - val_loss: 2.0836 - val_accuracy: 0.5014 - lr: 0.0050\n",
            "Epoch 111/120\n",
            "391/391 [==============================] - 5s 13ms/step - loss: 0.7394 - accuracy: 0.7433 - val_loss: 2.1306 - val_accuracy: 0.5012 - lr: 0.0050\n",
            "Epoch 112/120\n",
            "391/391 [==============================] - 5s 12ms/step - loss: 0.7246 - accuracy: 0.7473 - val_loss: 2.1449 - val_accuracy: 0.4944 - lr: 0.0050\n",
            "Epoch 113/120\n",
            "391/391 [==============================] - 4s 11ms/step - loss: 0.7381 - accuracy: 0.7453 - val_loss: 2.1573 - val_accuracy: 0.4945 - lr: 0.0050\n",
            "Epoch 114/120\n",
            "391/391 [==============================] - 4s 11ms/step - loss: 0.7236 - accuracy: 0.7484 - val_loss: 2.2276 - val_accuracy: 0.4957 - lr: 0.0050\n",
            "Epoch 115/120\n",
            "391/391 [==============================] - 4s 11ms/step - loss: 0.7137 - accuracy: 0.7519 - val_loss: 2.2651 - val_accuracy: 0.5007 - lr: 0.0050\n",
            "Epoch 116/120\n",
            "391/391 [==============================] - 5s 12ms/step - loss: 0.7185 - accuracy: 0.7508 - val_loss: 2.2762 - val_accuracy: 0.5009 - lr: 0.0050\n",
            "Epoch 117/120\n",
            "391/391 [==============================] - 5s 12ms/step - loss: 0.7132 - accuracy: 0.7518 - val_loss: 2.3473 - val_accuracy: 0.4899 - lr: 0.0050\n",
            "Epoch 118/120\n",
            "391/391 [==============================] - 5s 12ms/step - loss: 0.7140 - accuracy: 0.7515 - val_loss: 2.1840 - val_accuracy: 0.4947 - lr: 0.0050\n",
            "Epoch 119/120\n",
            "391/391 [==============================] - 5s 12ms/step - loss: 0.7081 - accuracy: 0.7525 - val_loss: 2.2917 - val_accuracy: 0.4941 - lr: 0.0050\n",
            "Epoch 120/120\n",
            "391/391 [==============================] - 5s 12ms/step - loss: 0.7041 - accuracy: 0.7550 - val_loss: 2.3049 - val_accuracy: 0.4901 - lr: 0.0050\n"
          ]
        },
        {
          "data": {
            "text/plain": [
              "<keras.src.callbacks.History at 0x15547acd0>"
            ]
          },
          "execution_count": 52,
          "metadata": {},
          "output_type": "execute_result"
        }
      ],
      "source": [
        "# Train the model using the fit() method and specify the number of epochs to train for and the batch size to use.\n",
        "# model.fit(x_train, y_train, epochs=10, batch_size=128, validation_data=(x_test, y_test))\n",
        "\n",
        "model.fit(x_train, y_train,\n",
        "            batch_size=128,\n",
        "            epochs=120,\n",
        "            callbacks=cbks,\n",
        "            validation_data=(x_test, y_test),\n",
        "            shuffle=True)"
      ]
    },
    {
      "cell_type": "code",
      "execution_count": 53,
      "metadata": {},
      "outputs": [],
      "source": [
        "# save model\n",
        "model.save('LeNet_CIFAR10.h5')"
      ]
    },
    {
      "cell_type": "code",
      "execution_count": 54,
      "metadata": {
        "id": "bHXXsPCamSEE"
      },
      "outputs": [
        {
          "name": "stdout",
          "output_type": "stream",
          "text": [
            "313/313 [==============================] - 1s 2ms/step - loss: 2.3049 - accuracy: 0.4901\n",
            "Test Loss:  2.30488920211792\n",
            "Test Accuracy: 0.4900999963283539\n"
          ]
        }
      ],
      "source": [
        "# Evaluate the model on the test set using the evaluate() method and print the test accuracy.\n",
        "test_loss, test_acc = model.evaluate(x_test, y_test)\n",
        "print(\"Test Loss: \", test_loss)\n",
        "print(\"Test Accuracy:\", test_acc)"
      ]
    },
    {
      "cell_type": "code",
      "execution_count": 55,
      "metadata": {},
      "outputs": [
        {
          "name": "stdout",
          "output_type": "stream",
          "text": [
            "1/1 [==============================] - 0s 36ms/step\n"
          ]
        },
        {
          "data": {
            "text/plain": [
              "<matplotlib.image.AxesImage at 0x156a9e510>"
            ]
          },
          "execution_count": 55,
          "metadata": {},
          "output_type": "execute_result"
        },
        {
          "data": {
            "image/png": "[encoded data removed]",
            "text/plain": [
              "<Figure size 1600x800 with 1 Axes>"
            ]
          },
          "metadata": {},
          "output_type": "display_data"
        }
      ],
      "source": [
        "# One image prediction\n",
        "image_index = 100\n",
        "pred = model.predict(x_test[image_index,::].reshape(1, 32, 32, 3))\n",
        "    \n",
        "#im = np.transpose(x_test[image_index,::], (1, 2, 0))\n",
        "im = x_test[image_index,::]\n",
        "\n",
        "fig1 = plt.figure(figsize=(16, 8))\n",
        "fig1.suptitle(class_names[np.argmax(pred)], fontsize=16)\n",
        "plt.imshow(im)"
      ]
    },
    {
      "cell_type": "code",
      "execution_count": 56,
      "metadata": {
        "id": "4VWhRTC6mrwc"
      },
      "outputs": [
        {
          "name": "stdout",
          "output_type": "stream",
          "text": [
            "313/313 [==============================] - 1s 2ms/step\n"
          ]
        },
        {
          "data": {
            "image/png": "[encoded data removed]",
            "text/plain": [
              "<Figure size 800x800 with 9 Axes>"
            ]
          },
          "metadata": {},
          "output_type": "display_data"
        }
      ],
      "source": [
        "# Display a few example plots of test results\n",
        "# Get the predicted labels for the test set\n",
        "y_pred = model.predict(x_test)\n",
        "y_pred = np.argmax(y_pred, axis=1)\n",
        "\n",
        "# Display a few example plots of test results\n",
        "fig, axs = plt.subplots(3, 3, figsize=(8, 8))\n",
        "fig.subplots_adjust(hspace=0.4, wspace=0.4)\n",
        "axs = axs.ravel()\n",
        "for i in range(9):\n",
        "    idx = np.random.randint(0, len(x_test))\n",
        "    axs[i].imshow(x_test[idx, :, :, 0], cmap=\"gray\")\n",
        "    axs[i].set_title(f\"True: {np.argmax(y_test[idx])}, Pred: {y_pred[idx]}\")\n",
        "    axs[i].axis(\"off\")\n",
        "plt.show()\n"
      ]
    },
    {
      "cell_type": "code",
      "execution_count": 57,
      "metadata": {
        "colab": {
          "base_uri": "https://localhost:8080/"
        },
        "id": "oot17pSii4X1",
        "outputId": "57b01f18-d00c-481b-e11e-231bd00275f6"
      },
      "outputs": [],
      "source": [
        "\n",
        "\n",
        "# Reshape the input data to have a single channel\n",
        "\n",
        "# Convert the labels to one-hot encoding\n",
        "\n",
        "# Define the LeNet model architecture\n",
        "\n",
        "# Compile the model\n",
        "\n",
        "# Train the model\n",
        "\n",
        "# Evaluate the model on the test set\n",
        "\n"
      ]
    },
    {
      "cell_type": "code",
      "execution_count": null,
      "metadata": {
        "colab": {
          "base_uri": "https://localhost:8080/"
        },
        "id": "bID7Zwkmo691",
        "outputId": "9d6d3c34-0381-412a-981d-483121c04c42"
      },
      "outputs": [],
      "source": []
    },
    {
      "cell_type": "code",
      "execution_count": null,
      "metadata": {
        "colab": {
          "base_uri": "https://localhost:8080/",
          "height": 301
        },
        "id": "Mr8fOQ5oKpJK",
        "outputId": "71079622-9524-4b7c-871b-a9df8e5109de"
      },
      "outputs": [],
      "source": []
    },
    {
      "cell_type": "code",
      "execution_count": null,
      "metadata": {
        "colab": {
          "base_uri": "https://localhost:8080/",
          "height": 500
        },
        "id": "jLrorunxk7od",
        "outputId": "49fb4924-3aa6-4832-bc75-7fc69f0c7d89"
      },
      "outputs": [],
      "source": []
    }
  ],
  "metadata": {
    "colab": {
      "authorship_tag": "ABX9TyPvtP3Y3r1BKhOiodCZpEJK",
      "include_colab_link": true,
      "provenance": []
    },
    "kernelspec": {
      "display_name": "Python 3",
      "name": "python3"
    },
    "language_info": {
      "codemirror_mode": {
        "name": "ipython",
        "version": 3
      },
      "file_extension": ".py",
      "mimetype": "text/x-python",
      "name": "python",
      "nbconvert_exporter": "python",
      "pygments_lexer": "ipython3",
      "version": "3.11.7"
    }
  },
  "nbformat": 4,
  "nbformat_minor": 0
}
