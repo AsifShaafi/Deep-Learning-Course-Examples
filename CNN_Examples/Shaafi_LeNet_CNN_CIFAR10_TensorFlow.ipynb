{
  "cells": [
    {
      "cell_type": "markdown",
      "metadata": {
        "colab_type": "text",
        "id": "view-in-github"
      },
      "source": [
        "<a href=\"https://colab.research.google.com/github/ProfessorDong/Deep-Learning-Course-Examples/blob/master/CNN_Examples/LeNet_MNIST_TensorFlow.ipynb\" target=\"_parent\"><img src=\"https://colab.research.google.com/assets/colab-badge.svg\" alt=\"Open In Colab\"/></a>"
      ]
    },
    {
      "cell_type": "markdown",
      "metadata": {
        "id": "QqnT-y7SjnF9"
      },
      "source": [
        "Implement the LeNet architecture for classification of CIFAR10 data."
      ]
    },
    {
      "cell_type": "code",
      "execution_count": 1,
      "metadata": {
        "id": "zGMAdHzjluh9"
      },
      "outputs": [],
      "source": [
        "# import libraries\n",
        "import tensorflow as tf\n",
        "\n",
        "import matplotlib.pyplot as plt\n",
        "import numpy as np\n",
        "\n",
        "from keras.src.optimizers import SGD\n",
        "from keras.src.layers import Activation\n",
        "from tensorflow.keras.datasets import cifar10\n",
        "from tensorflow.keras.models import Sequential\n",
        "from tensorflow.keras.layers import Conv2D, Dense, Flatten, MaxPooling2D, AveragePooling2D\n",
        "from tensorflow.keras.callbacks import LearningRateScheduler, TensorBoard\n"
      ]
    },
    {
      "cell_type": "code",
      "execution_count": 2,
      "metadata": {
        "id": "PP20BFX_llks"
      },
      "outputs": [],
      "source": [
        "# Load the CIFAR10 dataset using the cifar10.load_data() function.\n",
        "(x_train, y_train), (x_test, y_test) = cifar10.load_data()"
      ]
    },
    {
      "cell_type": "code",
      "execution_count": 3,
      "metadata": {
        "id": "yeg5fC0cl5km"
      },
      "outputs": [],
      "source": [
        "# Normalize the pixel values to the range [0, 1] using the astype() method.\n",
        "x_train = x_train.astype(\"float32\") / 255.0\n",
        "x_test = x_test.astype(\"float32\") / 255.0\n"
      ]
    },
    {
      "cell_type": "code",
      "execution_count": 4,
      "metadata": {
        "id": "2-jQFB3fmDNc"
      },
      "outputs": [],
      "source": [
        "# Convert the labels to one-hot encoding using the to_categorical() function.\n",
        "num_classes = 10\n",
        "y_train = tf.keras.utils.to_categorical(y_train, num_classes)\n",
        "y_test = tf.keras.utils.to_categorical(y_test, num_classes)\n"
      ]
    },
    {
      "cell_type": "code",
      "execution_count": 5,
      "metadata": {},
      "outputs": [],
      "source": [
        "# Define the class names\n",
        "class_names = ['airplane','automobile','bird','cat','deer','dog','frog','horse','ship','truck']\n"
      ]
    },
    {
      "cell_type": "code",
      "execution_count": 6,
      "metadata": {
        "id": "bNYJQplcmGxP"
      },
      "outputs": [
        {
          "name": "stdout",
          "output_type": "stream",
          "text": [
            "Model: \"sequential\"\n",
            "_________________________________________________________________\n",
            " Layer (type)                Output Shape              Param #   \n",
            "=================================================================\n",
            " conv2d (Conv2D)             (None, 28, 28, 6)         456       \n",
            "                                                                 \n",
            " average_pooling2d (Average  (None, 14, 14, 6)         0         \n",
            " Pooling2D)                                                      \n",
            "                                                                 \n",
            " activation (Activation)     (None, 14, 14, 6)         0         \n",
            "                                                                 \n",
            " conv2d_1 (Conv2D)           (None, 10, 10, 16)        2416      \n",
            "                                                                 \n",
            " average_pooling2d_1 (Avera  (None, 5, 5, 16)          0         \n",
            " gePooling2D)                                                    \n",
            "                                                                 \n",
            " activation_1 (Activation)   (None, 5, 5, 16)          0         \n",
            "                                                                 \n",
            " flatten (Flatten)           (None, 400)               0         \n",
            "                                                                 \n",
            " dense (Dense)               (None, 120)               48120     \n",
            "                                                                 \n",
            " dense_1 (Dense)             (None, 84)                10164     \n",
            "                                                                 \n",
            " dense_2 (Dense)             (None, 10)                850       \n",
            "                                                                 \n",
            "=================================================================\n",
            "Total params: 62006 (242.21 KB)\n",
            "Trainable params: 62006 (242.21 KB)\n",
            "Non-trainable params: 0 (0.00 Byte)\n",
            "_________________________________________________________________\n"
          ]
        }
      ],
      "source": [
        "# Define the LeNet model architecture using the Sequential() function and \n",
        "# add convolutional, average pooling, and dense layers using the \n",
        "# Conv2D(), AveragePooling2D(), Flatten(), and Dense() functions.\n",
        "model = Sequential([\n",
        "    Conv2D(6, 5, padding='valid', activation = 'tanh', input_shape=(32,32,3)),\n",
        "    AveragePooling2D(2),\n",
        "    Activation('sigmoid'),\n",
        "    Conv2D(16, 5, padding='valid', activation = 'tanh'),\n",
        "    AveragePooling2D(2),\n",
        "    Activation('sigmoid'),\n",
        "    Flatten(),\n",
        "    Dense(120, activation = 'tanh'),\n",
        "    Dense(84, activation = 'tanh'),\n",
        "    Dense(10, activation = 'softmax')\n",
        "])\n",
        "\n",
        "model.summary()"
      ]
    },
    {
      "cell_type": "code",
      "execution_count": 7,
      "metadata": {
        "id": "xTsZJ0uHmNoV"
      },
      "outputs": [
        {
          "name": "stderr",
          "output_type": "stream",
          "text": [
            "/Library/anaconda3/envs/deepLearningClass/lib/python3.11/site-packages/keras/src/optimizers/legacy/gradient_descent.py:114: UserWarning: The `lr` argument is deprecated, use `learning_rate` instead.\n",
            "  super().__init__(name, **kwargs)\n"
          ]
        }
      ],
      "source": [
        "# Compile the model using the compile() method and \n",
        "# specify the optimizer, loss function, and metrics to use during training.\n",
        "model.compile(optimizer=SGD(lr=0.01, momentum=0.9), loss=\"categorical_crossentropy\", metrics=[\"accuracy\"])\n"
      ]
    },
    {
      "cell_type": "code",
      "execution_count": 8,
      "metadata": {
        "id": "jrUv7WAzmPLc"
      },
      "outputs": [
        {
          "name": "stdout",
          "output_type": "stream",
          "text": [
            "Epoch 1/60\n",
            "782/782 [==============================] - 6s 7ms/step - loss: 2.3208 - accuracy: 0.1031 - val_loss: 2.3072 - val_accuracy: 0.1000\n",
            "Epoch 2/60\n",
            "782/782 [==============================] - 5s 6ms/step - loss: 2.0844 - accuracy: 0.2207 - val_loss: 2.0000 - val_accuracy: 0.2638\n",
            "Epoch 3/60\n",
            "782/782 [==============================] - 5s 6ms/step - loss: 1.9678 - accuracy: 0.2684 - val_loss: 1.8807 - val_accuracy: 0.3102\n",
            "Epoch 4/60\n",
            "782/782 [==============================] - 5s 6ms/step - loss: 1.8410 - accuracy: 0.3275 - val_loss: 1.8052 - val_accuracy: 0.3386\n",
            "Epoch 5/60\n",
            "782/782 [==============================] - 5s 6ms/step - loss: 1.7668 - accuracy: 0.3556 - val_loss: 1.7103 - val_accuracy: 0.3753\n",
            "Epoch 6/60\n",
            "782/782 [==============================] - 5s 6ms/step - loss: 1.7067 - accuracy: 0.3774 - val_loss: 1.6437 - val_accuracy: 0.4004\n",
            "Epoch 7/60\n",
            "782/782 [==============================] - 5s 6ms/step - loss: 1.6724 - accuracy: 0.3899 - val_loss: 1.6340 - val_accuracy: 0.3963\n",
            "Epoch 8/60\n",
            "782/782 [==============================] - 5s 6ms/step - loss: 1.6377 - accuracy: 0.4031 - val_loss: 1.5841 - val_accuracy: 0.4261\n",
            "Epoch 9/60\n",
            "782/782 [==============================] - 5s 6ms/step - loss: 1.6066 - accuracy: 0.4130 - val_loss: 1.5891 - val_accuracy: 0.4197\n",
            "Epoch 10/60\n",
            "782/782 [==============================] - 5s 6ms/step - loss: 1.5788 - accuracy: 0.4240 - val_loss: 1.5473 - val_accuracy: 0.4337\n",
            "Epoch 11/60\n",
            "782/782 [==============================] - 5s 6ms/step - loss: 1.5571 - accuracy: 0.4323 - val_loss: 1.5435 - val_accuracy: 0.4300\n",
            "Epoch 12/60\n",
            "782/782 [==============================] - 5s 6ms/step - loss: 1.5421 - accuracy: 0.4387 - val_loss: 1.5326 - val_accuracy: 0.4267\n",
            "Epoch 13/60\n",
            "782/782 [==============================] - 5s 6ms/step - loss: 1.5195 - accuracy: 0.4511 - val_loss: 1.5293 - val_accuracy: 0.4410\n",
            "Epoch 14/60\n",
            "782/782 [==============================] - 5s 6ms/step - loss: 1.5007 - accuracy: 0.4544 - val_loss: 1.5274 - val_accuracy: 0.4505\n",
            "Epoch 15/60\n",
            "782/782 [==============================] - 5s 6ms/step - loss: 1.4843 - accuracy: 0.4632 - val_loss: 1.4638 - val_accuracy: 0.4736\n",
            "Epoch 16/60\n",
            "782/782 [==============================] - 5s 6ms/step - loss: 1.4722 - accuracy: 0.4683 - val_loss: 1.4717 - val_accuracy: 0.4621\n",
            "Epoch 17/60\n",
            "782/782 [==============================] - 5s 6ms/step - loss: 1.4689 - accuracy: 0.4718 - val_loss: 1.4537 - val_accuracy: 0.4733\n",
            "Epoch 18/60\n",
            "782/782 [==============================] - 5s 6ms/step - loss: 1.4507 - accuracy: 0.4740 - val_loss: 1.4339 - val_accuracy: 0.4824\n",
            "Epoch 19/60\n",
            "782/782 [==============================] - 5s 6ms/step - loss: 1.4329 - accuracy: 0.4822 - val_loss: 1.4434 - val_accuracy: 0.4786\n",
            "Epoch 20/60\n",
            "782/782 [==============================] - 5s 6ms/step - loss: 1.4196 - accuracy: 0.4869 - val_loss: 1.4694 - val_accuracy: 0.4622\n",
            "Epoch 21/60\n",
            "782/782 [==============================] - 5s 6ms/step - loss: 1.4067 - accuracy: 0.4938 - val_loss: 1.4208 - val_accuracy: 0.4874\n",
            "Epoch 22/60\n",
            "782/782 [==============================] - 5s 6ms/step - loss: 1.3986 - accuracy: 0.4949 - val_loss: 1.4454 - val_accuracy: 0.4705\n",
            "Epoch 23/60\n",
            "782/782 [==============================] - 5s 6ms/step - loss: 1.3896 - accuracy: 0.4987 - val_loss: 1.4023 - val_accuracy: 0.4978\n",
            "Epoch 24/60\n",
            "782/782 [==============================] - 5s 6ms/step - loss: 1.3797 - accuracy: 0.5009 - val_loss: 1.5351 - val_accuracy: 0.4461\n",
            "Epoch 25/60\n",
            "782/782 [==============================] - 5s 6ms/step - loss: 1.3677 - accuracy: 0.5054 - val_loss: 1.3637 - val_accuracy: 0.5074\n",
            "Epoch 26/60\n",
            "782/782 [==============================] - 5s 6ms/step - loss: 1.3578 - accuracy: 0.5102 - val_loss: 1.3904 - val_accuracy: 0.5045\n",
            "Epoch 27/60\n",
            "782/782 [==============================] - 5s 7ms/step - loss: 1.3446 - accuracy: 0.5155 - val_loss: 1.3602 - val_accuracy: 0.5061\n",
            "Epoch 28/60\n",
            "782/782 [==============================] - 5s 6ms/step - loss: 1.3334 - accuracy: 0.5196 - val_loss: 1.4314 - val_accuracy: 0.4954\n",
            "Epoch 29/60\n",
            "782/782 [==============================] - 5s 7ms/step - loss: 1.3245 - accuracy: 0.5236 - val_loss: 1.3398 - val_accuracy: 0.5259\n",
            "Epoch 30/60\n",
            "782/782 [==============================] - 5s 7ms/step - loss: 1.3110 - accuracy: 0.5295 - val_loss: 1.3838 - val_accuracy: 0.5023\n",
            "Epoch 31/60\n",
            "782/782 [==============================] - 5s 6ms/step - loss: 1.2996 - accuracy: 0.5296 - val_loss: 1.3783 - val_accuracy: 0.5073\n",
            "Epoch 32/60\n",
            "782/782 [==============================] - 5s 6ms/step - loss: 1.2973 - accuracy: 0.5339 - val_loss: 1.3102 - val_accuracy: 0.5317\n",
            "Epoch 33/60\n",
            "782/782 [==============================] - 5s 6ms/step - loss: 1.2750 - accuracy: 0.5415 - val_loss: 1.3663 - val_accuracy: 0.5093\n",
            "Epoch 34/60\n",
            "782/782 [==============================] - 5s 6ms/step - loss: 1.2756 - accuracy: 0.5415 - val_loss: 1.3400 - val_accuracy: 0.5192\n",
            "Epoch 35/60\n",
            "782/782 [==============================] - 5s 6ms/step - loss: 1.2665 - accuracy: 0.5454 - val_loss: 1.3074 - val_accuracy: 0.5323\n",
            "Epoch 36/60\n",
            "782/782 [==============================] - 5s 6ms/step - loss: 1.2598 - accuracy: 0.5463 - val_loss: 1.2817 - val_accuracy: 0.5460\n",
            "Epoch 37/60\n",
            "782/782 [==============================] - 5s 6ms/step - loss: 1.2505 - accuracy: 0.5515 - val_loss: 1.3040 - val_accuracy: 0.5330\n",
            "Epoch 38/60\n",
            "782/782 [==============================] - 5s 6ms/step - loss: 1.2435 - accuracy: 0.5526 - val_loss: 1.3315 - val_accuracy: 0.5314\n",
            "Epoch 39/60\n",
            "782/782 [==============================] - 6s 7ms/step - loss: 1.2356 - accuracy: 0.5548 - val_loss: 1.3393 - val_accuracy: 0.5180\n",
            "Epoch 40/60\n",
            "782/782 [==============================] - 5s 6ms/step - loss: 1.2330 - accuracy: 0.5586 - val_loss: 1.2630 - val_accuracy: 0.5531\n",
            "Epoch 41/60\n",
            "782/782 [==============================] - 5s 6ms/step - loss: 1.2244 - accuracy: 0.5603 - val_loss: 1.3095 - val_accuracy: 0.5356\n",
            "Epoch 42/60\n",
            "782/782 [==============================] - 5s 7ms/step - loss: 1.2160 - accuracy: 0.5659 - val_loss: 1.2692 - val_accuracy: 0.5446\n",
            "Epoch 43/60\n",
            "782/782 [==============================] - 5s 6ms/step - loss: 1.2122 - accuracy: 0.5642 - val_loss: 1.3127 - val_accuracy: 0.5380\n",
            "Epoch 44/60\n",
            "782/782 [==============================] - 5s 7ms/step - loss: 1.2056 - accuracy: 0.5691 - val_loss: 1.2739 - val_accuracy: 0.5377\n",
            "Epoch 45/60\n",
            "782/782 [==============================] - 5s 6ms/step - loss: 1.2052 - accuracy: 0.5680 - val_loss: 1.2602 - val_accuracy: 0.5522\n",
            "Epoch 46/60\n",
            "782/782 [==============================] - 5s 6ms/step - loss: 1.1844 - accuracy: 0.5775 - val_loss: 1.2643 - val_accuracy: 0.5497\n",
            "Epoch 47/60\n",
            "782/782 [==============================] - 5s 6ms/step - loss: 1.1879 - accuracy: 0.5745 - val_loss: 1.2889 - val_accuracy: 0.5399\n",
            "Epoch 48/60\n",
            "782/782 [==============================] - 5s 6ms/step - loss: 1.1796 - accuracy: 0.5764 - val_loss: 1.2324 - val_accuracy: 0.5569\n",
            "Epoch 49/60\n",
            "782/782 [==============================] - 5s 7ms/step - loss: 1.1756 - accuracy: 0.5788 - val_loss: 1.2626 - val_accuracy: 0.5478\n",
            "Epoch 50/60\n",
            "782/782 [==============================] - 5s 6ms/step - loss: 1.1726 - accuracy: 0.5802 - val_loss: 1.2432 - val_accuracy: 0.5589\n",
            "Epoch 51/60\n",
            "782/782 [==============================] - 5s 6ms/step - loss: 1.1594 - accuracy: 0.5834 - val_loss: 1.2452 - val_accuracy: 0.5592\n",
            "Epoch 52/60\n",
            "782/782 [==============================] - 5s 7ms/step - loss: 1.1587 - accuracy: 0.5857 - val_loss: 1.2658 - val_accuracy: 0.5552\n",
            "Epoch 53/60\n",
            "782/782 [==============================] - 5s 7ms/step - loss: 1.1495 - accuracy: 0.5890 - val_loss: 1.2587 - val_accuracy: 0.5522\n",
            "Epoch 54/60\n",
            "782/782 [==============================] - 5s 6ms/step - loss: 1.1456 - accuracy: 0.5903 - val_loss: 1.2141 - val_accuracy: 0.5645\n",
            "Epoch 55/60\n",
            "782/782 [==============================] - 5s 7ms/step - loss: 1.1402 - accuracy: 0.5933 - val_loss: 1.3106 - val_accuracy: 0.5434\n",
            "Epoch 56/60\n",
            "782/782 [==============================] - 5s 7ms/step - loss: 1.1405 - accuracy: 0.5944 - val_loss: 1.2371 - val_accuracy: 0.5611\n",
            "Epoch 57/60\n",
            "782/782 [==============================] - 5s 6ms/step - loss: 1.1237 - accuracy: 0.5995 - val_loss: 1.2297 - val_accuracy: 0.5653\n",
            "Epoch 58/60\n",
            "782/782 [==============================] - 5s 6ms/step - loss: 1.1237 - accuracy: 0.5996 - val_loss: 1.2577 - val_accuracy: 0.5561\n",
            "Epoch 59/60\n",
            "782/782 [==============================] - 5s 6ms/step - loss: 1.1234 - accuracy: 0.5983 - val_loss: 1.3219 - val_accuracy: 0.5326\n",
            "Epoch 60/60\n",
            "782/782 [==============================] - 6s 8ms/step - loss: 1.1131 - accuracy: 0.6052 - val_loss: 1.2143 - val_accuracy: 0.5703\n"
          ]
        },
        {
          "data": {
            "text/plain": [
              "<keras.src.callbacks.History at 0x308636150>"
            ]
          },
          "execution_count": 8,
          "metadata": {},
          "output_type": "execute_result"
        }
      ],
      "source": [
        "# Train the model using the fit() method and specify the number of epochs to train for and the batch size to use.\n",
        "# model.fit(x_train, y_train, epochs=10, batch_size=128, validation_data=(x_test, y_test))\n",
        "\n",
        "model.fit(x_train, y_train,\n",
        "            batch_size=64,\n",
        "            epochs=60,\n",
        "            validation_data=(x_test, y_test),\n",
        "            shuffle=True)"
      ]
    },
    {
      "cell_type": "code",
      "execution_count": 9,
      "metadata": {},
      "outputs": [
        {
          "name": "stderr",
          "output_type": "stream",
          "text": [
            "/Library/anaconda3/envs/deepLearningClass/lib/python3.11/site-packages/keras/src/engine/training.py:3103: UserWarning: You are saving your model as an HDF5 file via `model.save()`. This file format is considered legacy. We recommend using instead the native Keras format, e.g. `model.save('my_model.keras')`.\n",
            "  saving_api.save_model(\n"
          ]
        }
      ],
      "source": [
        "# save model\n",
        "model.save('LeNet_CIFAR10.h5')"
      ]
    },
    {
      "cell_type": "code",
      "execution_count": 10,
      "metadata": {
        "id": "bHXXsPCamSEE"
      },
      "outputs": [
        {
          "name": "stdout",
          "output_type": "stream",
          "text": [
            "313/313 [==============================] - 0s 2ms/step - loss: 1.2143 - accuracy: 0.5703\n",
            "Test Loss:  1.2142963409423828\n",
            "Test Accuracy: 0.5702999830245972\n"
          ]
        }
      ],
      "source": [
        "# Evaluate the model on the test set using the evaluate() method and print the test accuracy.\n",
        "test_loss, test_acc = model.evaluate(x_test, y_test)\n",
        "print(\"Test Loss: \", test_loss)\n",
        "print(\"Test Accuracy:\", test_acc)"
      ]
    },
    {
      "cell_type": "code",
      "execution_count": 11,
      "metadata": {},
      "outputs": [
        {
          "name": "stdout",
          "output_type": "stream",
          "text": [
            "1/1 [==============================] - 0s 67ms/step\n"
          ]
        },
        {
          "data": {
            "text/plain": [
              "<matplotlib.image.AxesImage at 0x30fe03210>"
            ]
          },
          "execution_count": 11,
          "metadata": {},
          "output_type": "execute_result"
        },
        {
          "data": {
            "image/png": "[encoded data removed]",
            "text/plain": [
              "<Figure size 1600x800 with 1 Axes>"
            ]
          },
          "metadata": {},
          "output_type": "display_data"
        }
      ],
      "source": [
        "# One image prediction\n",
        "image_index = 100\n",
        "pred = model.predict(x_test[image_index,::].reshape(1, 32, 32, 3))\n",
        "    \n",
        "#im = np.transpose(x_test[image_index,::], (1, 2, 0))\n",
        "im = x_test[image_index,::]\n",
        "\n",
        "fig1 = plt.figure(figsize=(16, 8))\n",
        "fig1.suptitle(class_names[np.argmax(pred)], fontsize=16)\n",
        "plt.imshow(im)"
      ]
    },
    {
      "cell_type": "code",
      "execution_count": 12,
      "metadata": {
        "id": "4VWhRTC6mrwc"
      },
      "outputs": [
        {
          "name": "stdout",
          "output_type": "stream",
          "text": [
            "313/313 [==============================] - 1s 2ms/step\n"
          ]
        },
        {
          "data": {
            "image/png": "[encoded data removed]",
            "text/plain": [
              "<Figure size 800x800 with 9 Axes>"
            ]
          },
          "metadata": {},
          "output_type": "display_data"
        }
      ],
      "source": [
        "# Display a few example plots of test results\n",
        "# Get the predicted labels for the test set\n",
        "y_pred = model.predict(x_test)\n",
        "y_pred = np.argmax(y_pred, axis=1)\n",
        "\n",
        "# Display a few example plots of test results\n",
        "fig, axs = plt.subplots(3, 3, figsize=(8, 8))\n",
        "fig.subplots_adjust(hspace=0.4, wspace=0.4)\n",
        "axs = axs.ravel()\n",
        "for i in range(9):\n",
        "    idx = np.random.randint(0, len(x_test))\n",
        "    axs[i].imshow(x_test[idx, :, :, 0], cmap=\"gray\")\n",
        "    axs[i].set_title(f\"True: {np.argmax(y_test[idx])}, Pred: {y_pred[idx]}\")\n",
        "    axs[i].axis(\"off\")\n",
        "plt.show()\n"
      ]
    }
  ],
  "metadata": {
    "colab": {
      "authorship_tag": "ABX9TyPvtP3Y3r1BKhOiodCZpEJK",
      "include_colab_link": true,
      "provenance": []
    },
    "kernelspec": {
      "display_name": "Python 3",
      "name": "python3"
    },
    "language_info": {
      "codemirror_mode": {
        "name": "ipython",
        "version": 3
      },
      "file_extension": ".py",
      "mimetype": "text/x-python",
      "name": "python",
      "nbconvert_exporter": "python",
      "pygments_lexer": "ipython3",
      "version": "3.11.7"
    }
  },
  "nbformat": 4,
  "nbformat_minor": 0
}
